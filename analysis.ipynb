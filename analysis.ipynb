{
 "cells": [
  {
   "cell_type": "code",
   "execution_count": 1,
   "metadata": {},
   "outputs": [],
   "source": [
    "from pypdf import PdfReader\n",
    "reader = PdfReader('data/Official-Results-Mississauga-By-Election-2024.pdf')"
   ]
  },
  {
   "cell_type": "code",
   "execution_count": 2,
   "metadata": {},
   "outputs": [
    {
     "name": "stdout",
     "output_type": "stream",
     "text": [
      "Summary Results Report                                                                                    OFFICIAL RESULTS\n",
      "City of Mississauga By-Election 2024\n",
      "June 10, 2024\n",
      "1 Forest Avenue PS\n",
      "Statistics                        TOTAL\n",
      "Ballots Cast - Total                  819\n",
      "Ballots Cast - NONRESIDENT            819\n",
      "Mayor / Maire (ou mairesse)\n",
      "Vote For 1\n",
      "                                    TOTAL      VOTE %\n",
      "Zulfiqar Ali                            1    0.12%\n",
      "Diya Atassi                             4    0.49%\n",
      "Brian Crombie                           8    0.98%\n",
      "Dipika Damerla                         83   10.15%\n",
      "Stephen Dasko                         508   62.10%\n",
      "Jamie Dookie                            0    0.00%\n",
      "Frank Fang                              1    0.12%\n",
      "Xiaohua Gong                            0    0.00%\n",
      "Winston Harding                         0    0.00%\n",
      "Sara Iqbal                              1    0.12%\n",
      "Syed Jaffery                            0    0.00%\n",
      "Mohsin Khan                             0    0.00%\n",
      "Mitchell MacEachern                     0    0.00%\n",
      "Sinisa Mandrapa                         2    0.24%\n",
      "Mike Matulewicz                         0    0.00%\n",
      "Carolyn Parrish                        87   10.64%\n",
      "David Shaw                              6    0.73%\n",
      "George Tavares                          3    0.37%\n",
      "Alvin Tedjo                           114   13.94%\n",
      "Nathalie Xian Yi Yan                    0    0.00%\n",
      "Total Votes Cast                      818  100.00%\n",
      "Voting Location Summary - 06/11/2024    3:46 PM                                                                    Page 1 of 201\n"
     ]
    }
   ],
   "source": [
    "page = reader.pages[1].extract_text(extraction_mode=\"layout\", layout_mode_space_vertically=False, layout_mode_scale_weight=1)\n",
    "print(page)"
   ]
  },
  {
   "cell_type": "code",
   "execution_count": 3,
   "metadata": {},
   "outputs": [
    {
     "data": {
      "text/plain": [
       "['Summary Results Report                                                                                    OFFICIAL RESULTS',\n",
       " 'City of Mississauga By-Election 2024',\n",
       " 'June 10, 2024',\n",
       " '1 Forest Avenue PS',\n",
       " 'Statistics                        TOTAL',\n",
       " 'Ballots Cast - Total                  819',\n",
       " 'Ballots Cast - NONRESIDENT            819',\n",
       " 'Mayor / Maire (ou mairesse)',\n",
       " 'Vote For 1',\n",
       " '                                    TOTAL      VOTE %',\n",
       " 'Zulfiqar Ali                            1    0.12%',\n",
       " 'Diya Atassi                             4    0.49%',\n",
       " 'Brian Crombie                           8    0.98%',\n",
       " 'Dipika Damerla                         83   10.15%',\n",
       " 'Stephen Dasko                         508   62.10%',\n",
       " 'Jamie Dookie                            0    0.00%',\n",
       " 'Frank Fang                              1    0.12%',\n",
       " 'Xiaohua Gong                            0    0.00%',\n",
       " 'Winston Harding                         0    0.00%',\n",
       " 'Sara Iqbal                              1    0.12%',\n",
       " 'Syed Jaffery                            0    0.00%',\n",
       " 'Mohsin Khan                             0    0.00%',\n",
       " 'Mitchell MacEachern                     0    0.00%',\n",
       " 'Sinisa Mandrapa                         2    0.24%',\n",
       " 'Mike Matulewicz                         0    0.00%',\n",
       " 'Carolyn Parrish                        87   10.64%',\n",
       " 'David Shaw                              6    0.73%',\n",
       " 'George Tavares                          3    0.37%',\n",
       " 'Alvin Tedjo                           114   13.94%',\n",
       " 'Nathalie Xian Yi Yan                    0    0.00%',\n",
       " 'Total Votes Cast                      818  100.00%',\n",
       " 'Voting Location Summary - 06/11/2024    3:46 PM                                                                    Page 1 of 201']"
      ]
     },
     "execution_count": 3,
     "metadata": {},
     "output_type": "execute_result"
    }
   ],
   "source": [
    "page_split = page.split(\"\\n\")\n",
    "page_split"
   ]
  },
  {
   "cell_type": "code",
   "execution_count": 4,
   "metadata": {},
   "outputs": [
    {
     "data": {
      "text/plain": [
       "'1 Forest Avenue PS'"
      ]
     },
     "execution_count": 4,
     "metadata": {},
     "output_type": "execute_result"
    }
   ],
   "source": [
    "location = page_split[page_split.index(\"June 10, 2024\")+1]\n",
    "location"
   ]
  },
  {
   "cell_type": "code",
   "execution_count": 5,
   "metadata": {},
   "outputs": [
    {
     "data": {
      "text/html": [
       "<div>\n",
       "<style scoped>\n",
       "    .dataframe tbody tr th:only-of-type {\n",
       "        vertical-align: middle;\n",
       "    }\n",
       "\n",
       "    .dataframe tbody tr th {\n",
       "        vertical-align: top;\n",
       "    }\n",
       "\n",
       "    .dataframe thead th {\n",
       "        text-align: right;\n",
       "    }\n",
       "</style>\n",
       "<table border=\"1\" class=\"dataframe\">\n",
       "  <thead>\n",
       "    <tr style=\"text-align: right;\">\n",
       "      <th></th>\n",
       "      <th>location</th>\n",
       "      <th>Dipika Damerla</th>\n",
       "      <th>Stephen Dasko</th>\n",
       "      <th>Carolyn Parrish</th>\n",
       "      <th>Alvin Tedjo</th>\n",
       "      <th>total</th>\n",
       "    </tr>\n",
       "  </thead>\n",
       "  <tbody>\n",
       "    <tr>\n",
       "      <th>0</th>\n",
       "      <td>1 Forest Avenue PS</td>\n",
       "      <td>83</td>\n",
       "      <td>508</td>\n",
       "      <td>87</td>\n",
       "      <td>114</td>\n",
       "      <td>818</td>\n",
       "    </tr>\n",
       "    <tr>\n",
       "      <th>1</th>\n",
       "      <td>1 Kenollie PS</td>\n",
       "      <td>61</td>\n",
       "      <td>289</td>\n",
       "      <td>74</td>\n",
       "      <td>62</td>\n",
       "      <td>510</td>\n",
       "    </tr>\n",
       "    <tr>\n",
       "      <th>2</th>\n",
       "      <td>1 Miss. LTC Facility</td>\n",
       "      <td>0</td>\n",
       "      <td>0</td>\n",
       "      <td>0</td>\n",
       "      <td>0</td>\n",
       "      <td>6</td>\n",
       "    </tr>\n",
       "    <tr>\n",
       "      <th>3</th>\n",
       "      <td>1 Miss. SC Day 3</td>\n",
       "      <td>78</td>\n",
       "      <td>374</td>\n",
       "      <td>58</td>\n",
       "      <td>62</td>\n",
       "      <td>591</td>\n",
       "    </tr>\n",
       "    <tr>\n",
       "      <th>4</th>\n",
       "      <td>1 Miss. SC Dy 4</td>\n",
       "      <td>88</td>\n",
       "      <td>447</td>\n",
       "      <td>80</td>\n",
       "      <td>90</td>\n",
       "      <td>737</td>\n",
       "    </tr>\n",
       "    <tr>\n",
       "      <th>...</th>\n",
       "      <td>...</td>\n",
       "      <td>...</td>\n",
       "      <td>...</td>\n",
       "      <td>...</td>\n",
       "      <td>...</td>\n",
       "      <td>...</td>\n",
       "    </tr>\n",
       "    <tr>\n",
       "      <th>196</th>\n",
       "      <td>11 Streetsville Heritage Hall Day 3</td>\n",
       "      <td>31</td>\n",
       "      <td>18</td>\n",
       "      <td>75</td>\n",
       "      <td>55</td>\n",
       "      <td>195</td>\n",
       "    </tr>\n",
       "    <tr>\n",
       "      <th>197</th>\n",
       "      <td>11 Streetsville Heritage Hall Day 4</td>\n",
       "      <td>38</td>\n",
       "      <td>24</td>\n",
       "      <td>81</td>\n",
       "      <td>61</td>\n",
       "      <td>220</td>\n",
       "    </tr>\n",
       "    <tr>\n",
       "      <th>198</th>\n",
       "      <td>11 Streetsville Heritage Hall</td>\n",
       "      <td>119</td>\n",
       "      <td>76</td>\n",
       "      <td>198</td>\n",
       "      <td>156</td>\n",
       "      <td>582</td>\n",
       "    </tr>\n",
       "    <tr>\n",
       "      <th>199</th>\n",
       "      <td>11 Streetsville SS</td>\n",
       "      <td>206</td>\n",
       "      <td>129</td>\n",
       "      <td>257</td>\n",
       "      <td>306</td>\n",
       "      <td>979</td>\n",
       "    </tr>\n",
       "    <tr>\n",
       "      <th>200</th>\n",
       "      <td>11 Vista Heights PS</td>\n",
       "      <td>170</td>\n",
       "      <td>127</td>\n",
       "      <td>263</td>\n",
       "      <td>250</td>\n",
       "      <td>887</td>\n",
       "    </tr>\n",
       "  </tbody>\n",
       "</table>\n",
       "<p>201 rows × 6 columns</p>\n",
       "</div>"
      ],
      "text/plain": [
       "                                location  Dipika Damerla  Stephen Dasko  \\\n",
       "0                     1 Forest Avenue PS              83            508   \n",
       "1                          1 Kenollie PS              61            289   \n",
       "2                   1 Miss. LTC Facility               0              0   \n",
       "3                       1 Miss. SC Day 3              78            374   \n",
       "4                        1 Miss. SC Dy 4              88            447   \n",
       "..                                   ...             ...            ...   \n",
       "196  11 Streetsville Heritage Hall Day 3              31             18   \n",
       "197  11 Streetsville Heritage Hall Day 4              38             24   \n",
       "198        11 Streetsville Heritage Hall             119             76   \n",
       "199                   11 Streetsville SS             206            129   \n",
       "200                  11 Vista Heights PS             170            127   \n",
       "\n",
       "     Carolyn Parrish  Alvin Tedjo  total  \n",
       "0                 87          114    818  \n",
       "1                 74           62    510  \n",
       "2                  0            0      6  \n",
       "3                 58           62    591  \n",
       "4                 80           90    737  \n",
       "..               ...          ...    ...  \n",
       "196               75           55    195  \n",
       "197               81           61    220  \n",
       "198              198          156    582  \n",
       "199              257          306    979  \n",
       "200              263          250    887  \n",
       "\n",
       "[201 rows x 6 columns]"
      ]
     },
     "execution_count": 5,
     "metadata": {},
     "output_type": "execute_result"
    }
   ],
   "source": [
    "import re\n",
    "import pandas as pd\n",
    "\n",
    "table = []\n",
    "for page in reader.pages[1:]:\n",
    "    page_text = page.extract_text(extraction_mode=\"layout\", layout_mode_space_vertically=False, layout_mode_scale_weight=1)\n",
    "    page_split = page_text.split(\"\\n\")\n",
    "    location = page_split[page_split.index(\"June 10, 2024\")+1]\n",
    "    table_row = {\"location\": location}\n",
    "    for row in page_split:\n",
    "        if row[:6] == \"Dipika\":\n",
    "            row_clean = re.sub(' +', ' ', row)\n",
    "            table_row[\"Dipika Damerla\"] = int(row_clean.split()[2].replace(\",\", \"\"))\n",
    "        if row[:7] == \"Stephen\":\n",
    "            row_clean = re.sub(' +', ' ', row)\n",
    "            table_row[\"Stephen Dasko\"] = int(row_clean.split()[2].replace(\",\", \"\"))\n",
    "        if row[:7] == \"Carolyn\":\n",
    "            row_clean = re.sub(' +', ' ', row)\n",
    "            table_row[\"Carolyn Parrish\"] = int(row_clean.split()[2].replace(\",\", \"\"))\n",
    "        if row[:5] == \"Alvin\":\n",
    "            row_clean = re.sub(' +', ' ', row)\n",
    "            table_row[\"Alvin Tedjo\"] = int(row_clean.split()[2].replace(\",\", \"\"))\n",
    "        if row[:5] == \"Total\":\n",
    "            row_clean = re.sub(' +', ' ', row)\n",
    "            table_row[\"total\"] = int(row_clean.split()[3].replace(\",\", \"\"))\n",
    "        if row[:10] == \"Councillor\":\n",
    "            break\n",
    "    table.append(table_row)\n",
    "\n",
    "pdf_data = pd.DataFrame(table)\n",
    "pdf_data"
   ]
  },
  {
   "cell_type": "code",
   "execution_count": 6,
   "metadata": {},
   "outputs": [
    {
     "data": {
      "text/html": [
       "<div>\n",
       "<style scoped>\n",
       "    .dataframe tbody tr th:only-of-type {\n",
       "        vertical-align: middle;\n",
       "    }\n",
       "\n",
       "    .dataframe tbody tr th {\n",
       "        vertical-align: top;\n",
       "    }\n",
       "\n",
       "    .dataframe thead th {\n",
       "        text-align: right;\n",
       "    }\n",
       "</style>\n",
       "<table border=\"1\" class=\"dataframe\">\n",
       "  <thead>\n",
       "    <tr style=\"text-align: right;\">\n",
       "      <th></th>\n",
       "      <th>location</th>\n",
       "      <th>Dipika Damerla</th>\n",
       "      <th>Stephen Dasko</th>\n",
       "      <th>Carolyn Parrish</th>\n",
       "      <th>Alvin Tedjo</th>\n",
       "      <th>total</th>\n",
       "      <th>ward</th>\n",
       "    </tr>\n",
       "  </thead>\n",
       "  <tbody>\n",
       "    <tr>\n",
       "      <th>0</th>\n",
       "      <td>1 Forest Avenue PS</td>\n",
       "      <td>83</td>\n",
       "      <td>508</td>\n",
       "      <td>87</td>\n",
       "      <td>114</td>\n",
       "      <td>818</td>\n",
       "      <td>1</td>\n",
       "    </tr>\n",
       "    <tr>\n",
       "      <th>1</th>\n",
       "      <td>1 Kenollie PS</td>\n",
       "      <td>61</td>\n",
       "      <td>289</td>\n",
       "      <td>74</td>\n",
       "      <td>62</td>\n",
       "      <td>510</td>\n",
       "      <td>1</td>\n",
       "    </tr>\n",
       "    <tr>\n",
       "      <th>2</th>\n",
       "      <td>1 Miss. LTC Facility</td>\n",
       "      <td>0</td>\n",
       "      <td>0</td>\n",
       "      <td>0</td>\n",
       "      <td>0</td>\n",
       "      <td>6</td>\n",
       "      <td>1</td>\n",
       "    </tr>\n",
       "    <tr>\n",
       "      <th>3</th>\n",
       "      <td>1 Miss. SC Day 3</td>\n",
       "      <td>78</td>\n",
       "      <td>374</td>\n",
       "      <td>58</td>\n",
       "      <td>62</td>\n",
       "      <td>591</td>\n",
       "      <td>1</td>\n",
       "    </tr>\n",
       "    <tr>\n",
       "      <th>4</th>\n",
       "      <td>1 Miss. SC Dy 4</td>\n",
       "      <td>88</td>\n",
       "      <td>447</td>\n",
       "      <td>80</td>\n",
       "      <td>90</td>\n",
       "      <td>737</td>\n",
       "      <td>1</td>\n",
       "    </tr>\n",
       "    <tr>\n",
       "      <th>...</th>\n",
       "      <td>...</td>\n",
       "      <td>...</td>\n",
       "      <td>...</td>\n",
       "      <td>...</td>\n",
       "      <td>...</td>\n",
       "      <td>...</td>\n",
       "      <td>...</td>\n",
       "    </tr>\n",
       "    <tr>\n",
       "      <th>196</th>\n",
       "      <td>11 Streetsville Heritage Hall Day 3</td>\n",
       "      <td>31</td>\n",
       "      <td>18</td>\n",
       "      <td>75</td>\n",
       "      <td>55</td>\n",
       "      <td>195</td>\n",
       "      <td>11</td>\n",
       "    </tr>\n",
       "    <tr>\n",
       "      <th>197</th>\n",
       "      <td>11 Streetsville Heritage Hall Day 4</td>\n",
       "      <td>38</td>\n",
       "      <td>24</td>\n",
       "      <td>81</td>\n",
       "      <td>61</td>\n",
       "      <td>220</td>\n",
       "      <td>11</td>\n",
       "    </tr>\n",
       "    <tr>\n",
       "      <th>198</th>\n",
       "      <td>11 Streetsville Heritage Hall</td>\n",
       "      <td>119</td>\n",
       "      <td>76</td>\n",
       "      <td>198</td>\n",
       "      <td>156</td>\n",
       "      <td>582</td>\n",
       "      <td>11</td>\n",
       "    </tr>\n",
       "    <tr>\n",
       "      <th>199</th>\n",
       "      <td>11 Streetsville SS</td>\n",
       "      <td>206</td>\n",
       "      <td>129</td>\n",
       "      <td>257</td>\n",
       "      <td>306</td>\n",
       "      <td>979</td>\n",
       "      <td>11</td>\n",
       "    </tr>\n",
       "    <tr>\n",
       "      <th>200</th>\n",
       "      <td>11 Vista Heights PS</td>\n",
       "      <td>170</td>\n",
       "      <td>127</td>\n",
       "      <td>263</td>\n",
       "      <td>250</td>\n",
       "      <td>887</td>\n",
       "      <td>11</td>\n",
       "    </tr>\n",
       "  </tbody>\n",
       "</table>\n",
       "<p>201 rows × 7 columns</p>\n",
       "</div>"
      ],
      "text/plain": [
       "                                location  Dipika Damerla  Stephen Dasko  \\\n",
       "0                     1 Forest Avenue PS              83            508   \n",
       "1                          1 Kenollie PS              61            289   \n",
       "2                   1 Miss. LTC Facility               0              0   \n",
       "3                       1 Miss. SC Day 3              78            374   \n",
       "4                        1 Miss. SC Dy 4              88            447   \n",
       "..                                   ...             ...            ...   \n",
       "196  11 Streetsville Heritage Hall Day 3              31             18   \n",
       "197  11 Streetsville Heritage Hall Day 4              38             24   \n",
       "198        11 Streetsville Heritage Hall             119             76   \n",
       "199                   11 Streetsville SS             206            129   \n",
       "200                  11 Vista Heights PS             170            127   \n",
       "\n",
       "     Carolyn Parrish  Alvin Tedjo  total ward  \n",
       "0                 87          114    818    1  \n",
       "1                 74           62    510    1  \n",
       "2                  0            0      6    1  \n",
       "3                 58           62    591    1  \n",
       "4                 80           90    737    1  \n",
       "..               ...          ...    ...  ...  \n",
       "196               75           55    195   11  \n",
       "197               81           61    220   11  \n",
       "198              198          156    582   11  \n",
       "199              257          306    979   11  \n",
       "200              263          250    887   11  \n",
       "\n",
       "[201 rows x 7 columns]"
      ]
     },
     "execution_count": 6,
     "metadata": {},
     "output_type": "execute_result"
    }
   ],
   "source": [
    "df = pdf_data.copy()\n",
    "df[\"ward\"] = df[\"location\"].str.extract(r'(\\d+)\\s')\n",
    "df"
   ]
  },
  {
   "cell_type": "code",
   "execution_count": 7,
   "metadata": {},
   "outputs": [
    {
     "data": {
      "text/html": [
       "<div>\n",
       "<style scoped>\n",
       "    .dataframe tbody tr th:only-of-type {\n",
       "        vertical-align: middle;\n",
       "    }\n",
       "\n",
       "    .dataframe tbody tr th {\n",
       "        vertical-align: top;\n",
       "    }\n",
       "\n",
       "    .dataframe thead th {\n",
       "        text-align: right;\n",
       "    }\n",
       "</style>\n",
       "<table border=\"1\" class=\"dataframe\">\n",
       "  <thead>\n",
       "    <tr style=\"text-align: right;\">\n",
       "      <th></th>\n",
       "      <th>location</th>\n",
       "      <th>Dipika Damerla</th>\n",
       "      <th>Stephen Dasko</th>\n",
       "      <th>Carolyn Parrish</th>\n",
       "      <th>Alvin Tedjo</th>\n",
       "      <th>total</th>\n",
       "      <th>ward</th>\n",
       "      <th>cleaned_location</th>\n",
       "    </tr>\n",
       "  </thead>\n",
       "  <tbody>\n",
       "    <tr>\n",
       "      <th>0</th>\n",
       "      <td>1 Forest Avenue PS</td>\n",
       "      <td>83</td>\n",
       "      <td>508</td>\n",
       "      <td>87</td>\n",
       "      <td>114</td>\n",
       "      <td>818</td>\n",
       "      <td>1</td>\n",
       "      <td>Forest Avenue PS</td>\n",
       "    </tr>\n",
       "    <tr>\n",
       "      <th>1</th>\n",
       "      <td>1 Kenollie PS</td>\n",
       "      <td>61</td>\n",
       "      <td>289</td>\n",
       "      <td>74</td>\n",
       "      <td>62</td>\n",
       "      <td>510</td>\n",
       "      <td>1</td>\n",
       "      <td>Kenollie PS</td>\n",
       "    </tr>\n",
       "    <tr>\n",
       "      <th>2</th>\n",
       "      <td>1 Miss. LTC Facility</td>\n",
       "      <td>0</td>\n",
       "      <td>0</td>\n",
       "      <td>0</td>\n",
       "      <td>0</td>\n",
       "      <td>6</td>\n",
       "      <td>1</td>\n",
       "      <td>Miss. LTC Facility</td>\n",
       "    </tr>\n",
       "    <tr>\n",
       "      <th>3</th>\n",
       "      <td>1 Miss. SC Day 3</td>\n",
       "      <td>78</td>\n",
       "      <td>374</td>\n",
       "      <td>58</td>\n",
       "      <td>62</td>\n",
       "      <td>591</td>\n",
       "      <td>1</td>\n",
       "      <td>Miss. SC</td>\n",
       "    </tr>\n",
       "    <tr>\n",
       "      <th>4</th>\n",
       "      <td>1 Miss. SC Dy 4</td>\n",
       "      <td>88</td>\n",
       "      <td>447</td>\n",
       "      <td>80</td>\n",
       "      <td>90</td>\n",
       "      <td>737</td>\n",
       "      <td>1</td>\n",
       "      <td>Miss. SC</td>\n",
       "    </tr>\n",
       "    <tr>\n",
       "      <th>...</th>\n",
       "      <td>...</td>\n",
       "      <td>...</td>\n",
       "      <td>...</td>\n",
       "      <td>...</td>\n",
       "      <td>...</td>\n",
       "      <td>...</td>\n",
       "      <td>...</td>\n",
       "      <td>...</td>\n",
       "    </tr>\n",
       "    <tr>\n",
       "      <th>196</th>\n",
       "      <td>11 Streetsville Heritage Hall Day 3</td>\n",
       "      <td>31</td>\n",
       "      <td>18</td>\n",
       "      <td>75</td>\n",
       "      <td>55</td>\n",
       "      <td>195</td>\n",
       "      <td>11</td>\n",
       "      <td>Streetsville Heritage Hall</td>\n",
       "    </tr>\n",
       "    <tr>\n",
       "      <th>197</th>\n",
       "      <td>11 Streetsville Heritage Hall Day 4</td>\n",
       "      <td>38</td>\n",
       "      <td>24</td>\n",
       "      <td>81</td>\n",
       "      <td>61</td>\n",
       "      <td>220</td>\n",
       "      <td>11</td>\n",
       "      <td>Streetsville Heritage Hall</td>\n",
       "    </tr>\n",
       "    <tr>\n",
       "      <th>198</th>\n",
       "      <td>11 Streetsville Heritage Hall</td>\n",
       "      <td>119</td>\n",
       "      <td>76</td>\n",
       "      <td>198</td>\n",
       "      <td>156</td>\n",
       "      <td>582</td>\n",
       "      <td>11</td>\n",
       "      <td>Streetsville Heritage Hall</td>\n",
       "    </tr>\n",
       "    <tr>\n",
       "      <th>199</th>\n",
       "      <td>11 Streetsville SS</td>\n",
       "      <td>206</td>\n",
       "      <td>129</td>\n",
       "      <td>257</td>\n",
       "      <td>306</td>\n",
       "      <td>979</td>\n",
       "      <td>11</td>\n",
       "      <td>Streetsville SS</td>\n",
       "    </tr>\n",
       "    <tr>\n",
       "      <th>200</th>\n",
       "      <td>11 Vista Heights PS</td>\n",
       "      <td>170</td>\n",
       "      <td>127</td>\n",
       "      <td>263</td>\n",
       "      <td>250</td>\n",
       "      <td>887</td>\n",
       "      <td>11</td>\n",
       "      <td>Vista Heights PS</td>\n",
       "    </tr>\n",
       "  </tbody>\n",
       "</table>\n",
       "<p>201 rows × 8 columns</p>\n",
       "</div>"
      ],
      "text/plain": [
       "                                location  Dipika Damerla  Stephen Dasko  \\\n",
       "0                     1 Forest Avenue PS              83            508   \n",
       "1                          1 Kenollie PS              61            289   \n",
       "2                   1 Miss. LTC Facility               0              0   \n",
       "3                       1 Miss. SC Day 3              78            374   \n",
       "4                        1 Miss. SC Dy 4              88            447   \n",
       "..                                   ...             ...            ...   \n",
       "196  11 Streetsville Heritage Hall Day 3              31             18   \n",
       "197  11 Streetsville Heritage Hall Day 4              38             24   \n",
       "198        11 Streetsville Heritage Hall             119             76   \n",
       "199                   11 Streetsville SS             206            129   \n",
       "200                  11 Vista Heights PS             170            127   \n",
       "\n",
       "     Carolyn Parrish  Alvin Tedjo  total ward            cleaned_location  \n",
       "0                 87          114    818    1            Forest Avenue PS  \n",
       "1                 74           62    510    1                 Kenollie PS  \n",
       "2                  0            0      6    1          Miss. LTC Facility  \n",
       "3                 58           62    591    1                    Miss. SC  \n",
       "4                 80           90    737    1                    Miss. SC  \n",
       "..               ...          ...    ...  ...                         ...  \n",
       "196               75           55    195   11  Streetsville Heritage Hall  \n",
       "197               81           61    220   11  Streetsville Heritage Hall  \n",
       "198              198          156    582   11  Streetsville Heritage Hall  \n",
       "199              257          306    979   11             Streetsville SS  \n",
       "200              263          250    887   11            Vista Heights PS  \n",
       "\n",
       "[201 rows x 8 columns]"
      ]
     },
     "execution_count": 7,
     "metadata": {},
     "output_type": "execute_result"
    }
   ],
   "source": [
    "df[\"cleaned_location\"] = df[\"location\"].str.extract(r'\\d+\\s(.*)')\n",
    "df[\"cleaned_location\"] = df[\"cleaned_location\"].map(lambda x: x.replace(' Day 1', ''))\n",
    "df[\"cleaned_location\"] = df[\"cleaned_location\"].map(lambda x: x.replace(' Day 2', ''))\n",
    "df[\"cleaned_location\"] = df[\"cleaned_location\"].map(lambda x: x.replace(' Day 3', ''))\n",
    "df[\"cleaned_location\"] = df[\"cleaned_location\"].map(lambda x: x.replace(' Day 4', ''))\n",
    "df[\"cleaned_location\"] = df[\"cleaned_location\"].map(lambda x: x.replace(' Dy 3', ''))\n",
    "df[\"cleaned_location\"] = df[\"cleaned_location\"].map(lambda x: x.replace(' Dy 4', ''))\n",
    "df"
   ]
  },
  {
   "cell_type": "code",
   "execution_count": 8,
   "metadata": {},
   "outputs": [
    {
     "name": "stdout",
     "output_type": "stream",
     "text": [
      "157\n"
     ]
    }
   ],
   "source": [
    "locations = df[\"cleaned_location\"].drop_duplicates().reset_index(drop=True).values.tolist()\n",
    "print(len(locations))"
   ]
  },
  {
   "cell_type": "code",
   "execution_count": 9,
   "metadata": {},
   "outputs": [
    {
     "data": {
      "text/html": [
       "<div>\n",
       "<style scoped>\n",
       "    .dataframe tbody tr th:only-of-type {\n",
       "        vertical-align: middle;\n",
       "    }\n",
       "\n",
       "    .dataframe tbody tr th {\n",
       "        vertical-align: top;\n",
       "    }\n",
       "\n",
       "    .dataframe thead th {\n",
       "        text-align: right;\n",
       "    }\n",
       "</style>\n",
       "<table border=\"1\" class=\"dataframe\">\n",
       "  <thead>\n",
       "    <tr style=\"text-align: right;\">\n",
       "      <th></th>\n",
       "      <th>location</th>\n",
       "      <th>ward</th>\n",
       "      <th>Dipika Damerla</th>\n",
       "      <th>Stephen Dasko</th>\n",
       "      <th>Carolyn Parrish</th>\n",
       "      <th>Alvin Tedjo</th>\n",
       "      <th>total</th>\n",
       "    </tr>\n",
       "  </thead>\n",
       "  <tbody>\n",
       "    <tr>\n",
       "      <th>0</th>\n",
       "      <td>All Saints SS</td>\n",
       "      <td>8</td>\n",
       "      <td>222</td>\n",
       "      <td>245</td>\n",
       "      <td>375</td>\n",
       "      <td>441</td>\n",
       "      <td>1418</td>\n",
       "    </tr>\n",
       "    <tr>\n",
       "      <th>1</th>\n",
       "      <td>Amica at City Centre</td>\n",
       "      <td>4</td>\n",
       "      <td>19</td>\n",
       "      <td>7</td>\n",
       "      <td>8</td>\n",
       "      <td>3</td>\n",
       "      <td>49</td>\n",
       "    </tr>\n",
       "    <tr>\n",
       "      <th>2</th>\n",
       "      <td>Amica at Erin Mills</td>\n",
       "      <td>8</td>\n",
       "      <td>3</td>\n",
       "      <td>7</td>\n",
       "      <td>7</td>\n",
       "      <td>1</td>\n",
       "      <td>26</td>\n",
       "    </tr>\n",
       "    <tr>\n",
       "      <th>3</th>\n",
       "      <td>Artesian Drive PS</td>\n",
       "      <td>8</td>\n",
       "      <td>138</td>\n",
       "      <td>52</td>\n",
       "      <td>410</td>\n",
       "      <td>196</td>\n",
       "      <td>879</td>\n",
       "    </tr>\n",
       "    <tr>\n",
       "      <th>4</th>\n",
       "      <td>Beechwood Place RR</td>\n",
       "      <td>3</td>\n",
       "      <td>8</td>\n",
       "      <td>5</td>\n",
       "      <td>8</td>\n",
       "      <td>3</td>\n",
       "      <td>29</td>\n",
       "    </tr>\n",
       "    <tr>\n",
       "      <th>...</th>\n",
       "      <td>...</td>\n",
       "      <td>...</td>\n",
       "      <td>...</td>\n",
       "      <td>...</td>\n",
       "      <td>...</td>\n",
       "      <td>...</td>\n",
       "      <td>...</td>\n",
       "    </tr>\n",
       "    <tr>\n",
       "      <th>153</th>\n",
       "      <td>Wellbrook Place</td>\n",
       "      <td>2</td>\n",
       "      <td>6</td>\n",
       "      <td>2</td>\n",
       "      <td>8</td>\n",
       "      <td>1</td>\n",
       "      <td>49</td>\n",
       "    </tr>\n",
       "    <tr>\n",
       "      <th>154</th>\n",
       "      <td>Westacres PS</td>\n",
       "      <td>1</td>\n",
       "      <td>106</td>\n",
       "      <td>726</td>\n",
       "      <td>118</td>\n",
       "      <td>184</td>\n",
       "      <td>1178</td>\n",
       "    </tr>\n",
       "    <tr>\n",
       "      <th>155</th>\n",
       "      <td>Whitehorn PS</td>\n",
       "      <td>6</td>\n",
       "      <td>258</td>\n",
       "      <td>77</td>\n",
       "      <td>483</td>\n",
       "      <td>438</td>\n",
       "      <td>1363</td>\n",
       "    </tr>\n",
       "    <tr>\n",
       "      <th>156</th>\n",
       "      <td>Woodlands Library</td>\n",
       "      <td>6</td>\n",
       "      <td>157</td>\n",
       "      <td>58</td>\n",
       "      <td>323</td>\n",
       "      <td>162</td>\n",
       "      <td>761</td>\n",
       "    </tr>\n",
       "    <tr>\n",
       "      <th>157</th>\n",
       "      <td>Yee Hong Centre for GC</td>\n",
       "      <td>6</td>\n",
       "      <td>2</td>\n",
       "      <td>2</td>\n",
       "      <td>1</td>\n",
       "      <td>3</td>\n",
       "      <td>8</td>\n",
       "    </tr>\n",
       "  </tbody>\n",
       "</table>\n",
       "<p>158 rows × 7 columns</p>\n",
       "</div>"
      ],
      "text/plain": [
       "                   location ward  Dipika Damerla  Stephen Dasko  \\\n",
       "0             All Saints SS    8             222            245   \n",
       "1      Amica at City Centre    4              19              7   \n",
       "2       Amica at Erin Mills    8               3              7   \n",
       "3         Artesian Drive PS    8             138             52   \n",
       "4        Beechwood Place RR    3               8              5   \n",
       "..                      ...  ...             ...            ...   \n",
       "153         Wellbrook Place    2               6              2   \n",
       "154            Westacres PS    1             106            726   \n",
       "155            Whitehorn PS    6             258             77   \n",
       "156       Woodlands Library    6             157             58   \n",
       "157  Yee Hong Centre for GC    6               2              2   \n",
       "\n",
       "     Carolyn Parrish  Alvin Tedjo  total  \n",
       "0                375          441   1418  \n",
       "1                  8            3     49  \n",
       "2                  7            1     26  \n",
       "3                410          196    879  \n",
       "4                  8            3     29  \n",
       "..               ...          ...    ...  \n",
       "153                8            1     49  \n",
       "154              118          184   1178  \n",
       "155              483          438   1363  \n",
       "156              323          162    761  \n",
       "157                1            3      8  \n",
       "\n",
       "[158 rows x 7 columns]"
      ]
     },
     "execution_count": 9,
     "metadata": {},
     "output_type": "execute_result"
    }
   ],
   "source": [
    "df = df[[\"cleaned_location\", \"ward\", \"Dipika Damerla\", \"Stephen Dasko\", \"Carolyn Parrish\", \"Alvin Tedjo\", \"total\"]]\n",
    "df = df.rename({\"cleaned_location\": \"location\"}, axis=1)\n",
    "df = df.groupby([\"location\", \"ward\"]).sum().reset_index()\n",
    "df"
   ]
  },
  {
   "cell_type": "code",
   "execution_count": 10,
   "metadata": {},
   "outputs": [],
   "source": [
    "import json\n",
    "\n",
    "locations_dict = {loc: \"\" for loc in locations}\n",
    "with open(\"locations.json\", \"w+\") as out:\n",
    "    out.write(json.dumps(locations_dict))"
   ]
  },
  {
   "cell_type": "markdown",
   "metadata": {},
   "source": [
    "## Breakdown by ward"
   ]
  },
  {
   "cell_type": "code",
   "execution_count": 11,
   "metadata": {},
   "outputs": [
    {
     "data": {
      "text/html": [
       "<div>\n",
       "<style scoped>\n",
       "    .dataframe tbody tr th:only-of-type {\n",
       "        vertical-align: middle;\n",
       "    }\n",
       "\n",
       "    .dataframe tbody tr th {\n",
       "        vertical-align: top;\n",
       "    }\n",
       "\n",
       "    .dataframe thead th {\n",
       "        text-align: right;\n",
       "    }\n",
       "</style>\n",
       "<table border=\"1\" class=\"dataframe\">\n",
       "  <thead>\n",
       "    <tr style=\"text-align: right;\">\n",
       "      <th></th>\n",
       "      <th>ward</th>\n",
       "      <th>Dipika Damerla</th>\n",
       "      <th>Stephen Dasko</th>\n",
       "      <th>Carolyn Parrish</th>\n",
       "      <th>Alvin Tedjo</th>\n",
       "      <th>total</th>\n",
       "    </tr>\n",
       "  </thead>\n",
       "  <tbody>\n",
       "    <tr>\n",
       "      <th>0</th>\n",
       "      <td>1</td>\n",
       "      <td>1080</td>\n",
       "      <td>6074</td>\n",
       "      <td>1181</td>\n",
       "      <td>1491</td>\n",
       "      <td>10275</td>\n",
       "    </tr>\n",
       "    <tr>\n",
       "      <th>1</th>\n",
       "      <td>10</td>\n",
       "      <td>2261</td>\n",
       "      <td>1022</td>\n",
       "      <td>5492</td>\n",
       "      <td>3892</td>\n",
       "      <td>13740</td>\n",
       "    </tr>\n",
       "    <tr>\n",
       "      <th>2</th>\n",
       "      <td>11</td>\n",
       "      <td>2521</td>\n",
       "      <td>1143</td>\n",
       "      <td>3784</td>\n",
       "      <td>2993</td>\n",
       "      <td>11264</td>\n",
       "    </tr>\n",
       "    <tr>\n",
       "      <th>3</th>\n",
       "      <td>2</td>\n",
       "      <td>1461</td>\n",
       "      <td>2969</td>\n",
       "      <td>1965</td>\n",
       "      <td>4222</td>\n",
       "      <td>11260</td>\n",
       "    </tr>\n",
       "    <tr>\n",
       "      <th>4</th>\n",
       "      <td>3</td>\n",
       "      <td>3463</td>\n",
       "      <td>1900</td>\n",
       "      <td>2696</td>\n",
       "      <td>1795</td>\n",
       "      <td>10906</td>\n",
       "    </tr>\n",
       "    <tr>\n",
       "      <th>5</th>\n",
       "      <td>4</td>\n",
       "      <td>3364</td>\n",
       "      <td>1679</td>\n",
       "      <td>4855</td>\n",
       "      <td>3142</td>\n",
       "      <td>14621</td>\n",
       "    </tr>\n",
       "    <tr>\n",
       "      <th>6</th>\n",
       "      <td>5</td>\n",
       "      <td>2149</td>\n",
       "      <td>788</td>\n",
       "      <td>6125</td>\n",
       "      <td>2239</td>\n",
       "      <td>12953</td>\n",
       "    </tr>\n",
       "    <tr>\n",
       "      <th>7</th>\n",
       "      <td>6</td>\n",
       "      <td>2832</td>\n",
       "      <td>1383</td>\n",
       "      <td>5924</td>\n",
       "      <td>4343</td>\n",
       "      <td>15779</td>\n",
       "    </tr>\n",
       "    <tr>\n",
       "      <th>8</th>\n",
       "      <td>7</td>\n",
       "      <td>3589</td>\n",
       "      <td>1819</td>\n",
       "      <td>3705</td>\n",
       "      <td>2305</td>\n",
       "      <td>12306</td>\n",
       "    </tr>\n",
       "    <tr>\n",
       "      <th>9</th>\n",
       "      <td>8</td>\n",
       "      <td>2191</td>\n",
       "      <td>2327</td>\n",
       "      <td>3859</td>\n",
       "      <td>4160</td>\n",
       "      <td>13787</td>\n",
       "    </tr>\n",
       "    <tr>\n",
       "      <th>10</th>\n",
       "      <td>9</td>\n",
       "      <td>2208</td>\n",
       "      <td>1304</td>\n",
       "      <td>3908</td>\n",
       "      <td>4423</td>\n",
       "      <td>13129</td>\n",
       "    </tr>\n",
       "  </tbody>\n",
       "</table>\n",
       "</div>"
      ],
      "text/plain": [
       "    ward  Dipika Damerla  Stephen Dasko  Carolyn Parrish  Alvin Tedjo  total\n",
       "0      1            1080           6074             1181         1491  10275\n",
       "1     10            2261           1022             5492         3892  13740\n",
       "2     11            2521           1143             3784         2993  11264\n",
       "3      2            1461           2969             1965         4222  11260\n",
       "4      3            3463           1900             2696         1795  10906\n",
       "5      4            3364           1679             4855         3142  14621\n",
       "6      5            2149            788             6125         2239  12953\n",
       "7      6            2832           1383             5924         4343  15779\n",
       "8      7            3589           1819             3705         2305  12306\n",
       "9      8            2191           2327             3859         4160  13787\n",
       "10     9            2208           1304             3908         4423  13129"
      ]
     },
     "execution_count": 11,
     "metadata": {},
     "output_type": "execute_result"
    }
   ],
   "source": [
    "df_wards = df.groupby(\"ward\").sum().drop([\"location\"], axis=1).reset_index()\n",
    "df_wards[\"ward\"] = df_wards[\"ward\"].astype(int)\n",
    "df_wards"
   ]
  },
  {
   "cell_type": "code",
   "execution_count": 12,
   "metadata": {},
   "outputs": [
    {
     "data": {
      "text/html": [
       "<div>\n",
       "<style scoped>\n",
       "    .dataframe tbody tr th:only-of-type {\n",
       "        vertical-align: middle;\n",
       "    }\n",
       "\n",
       "    .dataframe tbody tr th {\n",
       "        vertical-align: top;\n",
       "    }\n",
       "\n",
       "    .dataframe thead th {\n",
       "        text-align: right;\n",
       "    }\n",
       "</style>\n",
       "<table border=\"1\" class=\"dataframe\">\n",
       "  <thead>\n",
       "    <tr style=\"text-align: right;\">\n",
       "      <th></th>\n",
       "      <th>ward</th>\n",
       "      <th>Dipika Damerla</th>\n",
       "      <th>Stephen Dasko</th>\n",
       "      <th>Carolyn Parrish</th>\n",
       "      <th>Alvin Tedjo</th>\n",
       "      <th>total</th>\n",
       "      <th>vote_percentage</th>\n",
       "    </tr>\n",
       "  </thead>\n",
       "  <tbody>\n",
       "    <tr>\n",
       "      <th>0</th>\n",
       "      <td>1</td>\n",
       "      <td>1080</td>\n",
       "      <td>6074</td>\n",
       "      <td>1181</td>\n",
       "      <td>1491</td>\n",
       "      <td>10275</td>\n",
       "      <td>7.338237</td>\n",
       "    </tr>\n",
       "    <tr>\n",
       "      <th>1</th>\n",
       "      <td>10</td>\n",
       "      <td>2261</td>\n",
       "      <td>1022</td>\n",
       "      <td>5492</td>\n",
       "      <td>3892</td>\n",
       "      <td>13740</td>\n",
       "      <td>9.812884</td>\n",
       "    </tr>\n",
       "    <tr>\n",
       "      <th>2</th>\n",
       "      <td>11</td>\n",
       "      <td>2521</td>\n",
       "      <td>1143</td>\n",
       "      <td>3784</td>\n",
       "      <td>2993</td>\n",
       "      <td>11264</td>\n",
       "      <td>8.044565</td>\n",
       "    </tr>\n",
       "    <tr>\n",
       "      <th>3</th>\n",
       "      <td>2</td>\n",
       "      <td>1461</td>\n",
       "      <td>2969</td>\n",
       "      <td>1965</td>\n",
       "      <td>4222</td>\n",
       "      <td>11260</td>\n",
       "      <td>8.041708</td>\n",
       "    </tr>\n",
       "    <tr>\n",
       "      <th>4</th>\n",
       "      <td>3</td>\n",
       "      <td>3463</td>\n",
       "      <td>1900</td>\n",
       "      <td>2696</td>\n",
       "      <td>1795</td>\n",
       "      <td>10906</td>\n",
       "      <td>7.788887</td>\n",
       "    </tr>\n",
       "    <tr>\n",
       "      <th>5</th>\n",
       "      <td>4</td>\n",
       "      <td>3364</td>\n",
       "      <td>1679</td>\n",
       "      <td>4855</td>\n",
       "      <td>3142</td>\n",
       "      <td>14621</td>\n",
       "      <td>10.442080</td>\n",
       "    </tr>\n",
       "    <tr>\n",
       "      <th>6</th>\n",
       "      <td>5</td>\n",
       "      <td>2149</td>\n",
       "      <td>788</td>\n",
       "      <td>6125</td>\n",
       "      <td>2239</td>\n",
       "      <td>12953</td>\n",
       "      <td>9.250821</td>\n",
       "    </tr>\n",
       "    <tr>\n",
       "      <th>7</th>\n",
       "      <td>6</td>\n",
       "      <td>2832</td>\n",
       "      <td>1383</td>\n",
       "      <td>5924</td>\n",
       "      <td>4343</td>\n",
       "      <td>15779</td>\n",
       "      <td>11.269104</td>\n",
       "    </tr>\n",
       "    <tr>\n",
       "      <th>8</th>\n",
       "      <td>7</td>\n",
       "      <td>3589</td>\n",
       "      <td>1819</td>\n",
       "      <td>3705</td>\n",
       "      <td>2305</td>\n",
       "      <td>12306</td>\n",
       "      <td>8.788744</td>\n",
       "    </tr>\n",
       "    <tr>\n",
       "      <th>9</th>\n",
       "      <td>8</td>\n",
       "      <td>2191</td>\n",
       "      <td>2327</td>\n",
       "      <td>3859</td>\n",
       "      <td>4160</td>\n",
       "      <td>13787</td>\n",
       "      <td>9.846451</td>\n",
       "    </tr>\n",
       "    <tr>\n",
       "      <th>10</th>\n",
       "      <td>9</td>\n",
       "      <td>2208</td>\n",
       "      <td>1304</td>\n",
       "      <td>3908</td>\n",
       "      <td>4423</td>\n",
       "      <td>13129</td>\n",
       "      <td>9.376518</td>\n",
       "    </tr>\n",
       "  </tbody>\n",
       "</table>\n",
       "</div>"
      ],
      "text/plain": [
       "    ward  Dipika Damerla  Stephen Dasko  Carolyn Parrish  Alvin Tedjo  total  \\\n",
       "0      1            1080           6074             1181         1491  10275   \n",
       "1     10            2261           1022             5492         3892  13740   \n",
       "2     11            2521           1143             3784         2993  11264   \n",
       "3      2            1461           2969             1965         4222  11260   \n",
       "4      3            3463           1900             2696         1795  10906   \n",
       "5      4            3364           1679             4855         3142  14621   \n",
       "6      5            2149            788             6125         2239  12953   \n",
       "7      6            2832           1383             5924         4343  15779   \n",
       "8      7            3589           1819             3705         2305  12306   \n",
       "9      8            2191           2327             3859         4160  13787   \n",
       "10     9            2208           1304             3908         4423  13129   \n",
       "\n",
       "    vote_percentage  \n",
       "0          7.338237  \n",
       "1          9.812884  \n",
       "2          8.044565  \n",
       "3          8.041708  \n",
       "4          7.788887  \n",
       "5         10.442080  \n",
       "6          9.250821  \n",
       "7         11.269104  \n",
       "8          8.788744  \n",
       "9          9.846451  \n",
       "10         9.376518  "
      ]
     },
     "execution_count": 12,
     "metadata": {},
     "output_type": "execute_result"
    }
   ],
   "source": [
    "df_wards[\"vote_percentage\"] = df_wards[\"total\"] / df_wards[\"total\"].sum() * 100\n",
    "df_wards"
   ]
  },
  {
   "cell_type": "code",
   "execution_count": 13,
   "metadata": {},
   "outputs": [
    {
     "data": {
      "text/html": [
       "<div>\n",
       "<style scoped>\n",
       "    .dataframe tbody tr th:only-of-type {\n",
       "        vertical-align: middle;\n",
       "    }\n",
       "\n",
       "    .dataframe tbody tr th {\n",
       "        vertical-align: top;\n",
       "    }\n",
       "\n",
       "    .dataframe thead th {\n",
       "        text-align: right;\n",
       "    }\n",
       "</style>\n",
       "<table border=\"1\" class=\"dataframe\">\n",
       "  <thead>\n",
       "    <tr style=\"text-align: right;\">\n",
       "      <th></th>\n",
       "      <th>Ward</th>\n",
       "      <th>Pop_</th>\n",
       "    </tr>\n",
       "  </thead>\n",
       "  <tbody>\n",
       "    <tr>\n",
       "      <th>0</th>\n",
       "      <td>4</td>\n",
       "      <td>72710</td>\n",
       "    </tr>\n",
       "    <tr>\n",
       "      <th>1</th>\n",
       "      <td>10</td>\n",
       "      <td>74715</td>\n",
       "    </tr>\n",
       "    <tr>\n",
       "      <th>2</th>\n",
       "      <td>7</td>\n",
       "      <td>80715</td>\n",
       "    </tr>\n",
       "    <tr>\n",
       "      <th>3</th>\n",
       "      <td>3</td>\n",
       "      <td>59055</td>\n",
       "    </tr>\n",
       "    <tr>\n",
       "      <th>4</th>\n",
       "      <td>6</td>\n",
       "      <td>78070</td>\n",
       "    </tr>\n",
       "    <tr>\n",
       "      <th>5</th>\n",
       "      <td>9</td>\n",
       "      <td>58945</td>\n",
       "    </tr>\n",
       "    <tr>\n",
       "      <th>6</th>\n",
       "      <td>1</td>\n",
       "      <td>42605</td>\n",
       "    </tr>\n",
       "    <tr>\n",
       "      <th>7</th>\n",
       "      <td>11</td>\n",
       "      <td>60610</td>\n",
       "    </tr>\n",
       "    <tr>\n",
       "      <th>8</th>\n",
       "      <td>8</td>\n",
       "      <td>68660</td>\n",
       "    </tr>\n",
       "    <tr>\n",
       "      <th>9</th>\n",
       "      <td>2</td>\n",
       "      <td>47375</td>\n",
       "    </tr>\n",
       "    <tr>\n",
       "      <th>10</th>\n",
       "      <td>5</td>\n",
       "      <td>78140</td>\n",
       "    </tr>\n",
       "  </tbody>\n",
       "</table>\n",
       "</div>"
      ],
      "text/plain": [
       "    Ward   Pop_\n",
       "0      4  72710\n",
       "1     10  74715\n",
       "2      7  80715\n",
       "3      3  59055\n",
       "4      6  78070\n",
       "5      9  58945\n",
       "6      1  42605\n",
       "7     11  60610\n",
       "8      8  68660\n",
       "9      2  47375\n",
       "10     5  78140"
      ]
     },
     "execution_count": 13,
     "metadata": {},
     "output_type": "execute_result"
    }
   ],
   "source": [
    "ward_population = pd.read_csv(\"data/2016_Census_Data_-_By_Wards.csv\")[[\"Ward\", \"Pop_\"]]\n",
    "ward_population[\"Ward\"] = ward_population[\"Ward\"].astype(int)\n",
    "ward_population"
   ]
  },
  {
   "cell_type": "code",
   "execution_count": 14,
   "metadata": {},
   "outputs": [
    {
     "data": {
      "text/html": [
       "<div>\n",
       "<style scoped>\n",
       "    .dataframe tbody tr th:only-of-type {\n",
       "        vertical-align: middle;\n",
       "    }\n",
       "\n",
       "    .dataframe tbody tr th {\n",
       "        vertical-align: top;\n",
       "    }\n",
       "\n",
       "    .dataframe thead th {\n",
       "        text-align: right;\n",
       "    }\n",
       "</style>\n",
       "<table border=\"1\" class=\"dataframe\">\n",
       "  <thead>\n",
       "    <tr style=\"text-align: right;\">\n",
       "      <th></th>\n",
       "      <th>ward</th>\n",
       "      <th>Dipika Damerla</th>\n",
       "      <th>Stephen Dasko</th>\n",
       "      <th>Carolyn Parrish</th>\n",
       "      <th>Alvin Tedjo</th>\n",
       "      <th>total</th>\n",
       "      <th>vote_percentage</th>\n",
       "      <th>Pop_</th>\n",
       "    </tr>\n",
       "  </thead>\n",
       "  <tbody>\n",
       "    <tr>\n",
       "      <th>0</th>\n",
       "      <td>1</td>\n",
       "      <td>1080</td>\n",
       "      <td>6074</td>\n",
       "      <td>1181</td>\n",
       "      <td>1491</td>\n",
       "      <td>10275</td>\n",
       "      <td>7.338237</td>\n",
       "      <td>42605</td>\n",
       "    </tr>\n",
       "    <tr>\n",
       "      <th>1</th>\n",
       "      <td>10</td>\n",
       "      <td>2261</td>\n",
       "      <td>1022</td>\n",
       "      <td>5492</td>\n",
       "      <td>3892</td>\n",
       "      <td>13740</td>\n",
       "      <td>9.812884</td>\n",
       "      <td>74715</td>\n",
       "    </tr>\n",
       "    <tr>\n",
       "      <th>2</th>\n",
       "      <td>11</td>\n",
       "      <td>2521</td>\n",
       "      <td>1143</td>\n",
       "      <td>3784</td>\n",
       "      <td>2993</td>\n",
       "      <td>11264</td>\n",
       "      <td>8.044565</td>\n",
       "      <td>60610</td>\n",
       "    </tr>\n",
       "    <tr>\n",
       "      <th>3</th>\n",
       "      <td>2</td>\n",
       "      <td>1461</td>\n",
       "      <td>2969</td>\n",
       "      <td>1965</td>\n",
       "      <td>4222</td>\n",
       "      <td>11260</td>\n",
       "      <td>8.041708</td>\n",
       "      <td>47375</td>\n",
       "    </tr>\n",
       "    <tr>\n",
       "      <th>4</th>\n",
       "      <td>3</td>\n",
       "      <td>3463</td>\n",
       "      <td>1900</td>\n",
       "      <td>2696</td>\n",
       "      <td>1795</td>\n",
       "      <td>10906</td>\n",
       "      <td>7.788887</td>\n",
       "      <td>59055</td>\n",
       "    </tr>\n",
       "    <tr>\n",
       "      <th>5</th>\n",
       "      <td>4</td>\n",
       "      <td>3364</td>\n",
       "      <td>1679</td>\n",
       "      <td>4855</td>\n",
       "      <td>3142</td>\n",
       "      <td>14621</td>\n",
       "      <td>10.442080</td>\n",
       "      <td>72710</td>\n",
       "    </tr>\n",
       "    <tr>\n",
       "      <th>6</th>\n",
       "      <td>5</td>\n",
       "      <td>2149</td>\n",
       "      <td>788</td>\n",
       "      <td>6125</td>\n",
       "      <td>2239</td>\n",
       "      <td>12953</td>\n",
       "      <td>9.250821</td>\n",
       "      <td>78140</td>\n",
       "    </tr>\n",
       "    <tr>\n",
       "      <th>7</th>\n",
       "      <td>6</td>\n",
       "      <td>2832</td>\n",
       "      <td>1383</td>\n",
       "      <td>5924</td>\n",
       "      <td>4343</td>\n",
       "      <td>15779</td>\n",
       "      <td>11.269104</td>\n",
       "      <td>78070</td>\n",
       "    </tr>\n",
       "    <tr>\n",
       "      <th>8</th>\n",
       "      <td>7</td>\n",
       "      <td>3589</td>\n",
       "      <td>1819</td>\n",
       "      <td>3705</td>\n",
       "      <td>2305</td>\n",
       "      <td>12306</td>\n",
       "      <td>8.788744</td>\n",
       "      <td>80715</td>\n",
       "    </tr>\n",
       "    <tr>\n",
       "      <th>9</th>\n",
       "      <td>8</td>\n",
       "      <td>2191</td>\n",
       "      <td>2327</td>\n",
       "      <td>3859</td>\n",
       "      <td>4160</td>\n",
       "      <td>13787</td>\n",
       "      <td>9.846451</td>\n",
       "      <td>68660</td>\n",
       "    </tr>\n",
       "    <tr>\n",
       "      <th>10</th>\n",
       "      <td>9</td>\n",
       "      <td>2208</td>\n",
       "      <td>1304</td>\n",
       "      <td>3908</td>\n",
       "      <td>4423</td>\n",
       "      <td>13129</td>\n",
       "      <td>9.376518</td>\n",
       "      <td>58945</td>\n",
       "    </tr>\n",
       "  </tbody>\n",
       "</table>\n",
       "</div>"
      ],
      "text/plain": [
       "    ward  Dipika Damerla  Stephen Dasko  Carolyn Parrish  Alvin Tedjo  total  \\\n",
       "0      1            1080           6074             1181         1491  10275   \n",
       "1     10            2261           1022             5492         3892  13740   \n",
       "2     11            2521           1143             3784         2993  11264   \n",
       "3      2            1461           2969             1965         4222  11260   \n",
       "4      3            3463           1900             2696         1795  10906   \n",
       "5      4            3364           1679             4855         3142  14621   \n",
       "6      5            2149            788             6125         2239  12953   \n",
       "7      6            2832           1383             5924         4343  15779   \n",
       "8      7            3589           1819             3705         2305  12306   \n",
       "9      8            2191           2327             3859         4160  13787   \n",
       "10     9            2208           1304             3908         4423  13129   \n",
       "\n",
       "    vote_percentage   Pop_  \n",
       "0          7.338237  42605  \n",
       "1          9.812884  74715  \n",
       "2          8.044565  60610  \n",
       "3          8.041708  47375  \n",
       "4          7.788887  59055  \n",
       "5         10.442080  72710  \n",
       "6          9.250821  78140  \n",
       "7         11.269104  78070  \n",
       "8          8.788744  80715  \n",
       "9          9.846451  68660  \n",
       "10         9.376518  58945  "
      ]
     },
     "execution_count": 14,
     "metadata": {},
     "output_type": "execute_result"
    }
   ],
   "source": [
    "df_ward_vote_pop = pd.merge(df_wards, ward_population, left_on=\"ward\", right_on=\"Ward\")\n",
    "df_ward_vote_pop = df_ward_vote_pop.drop(\"Ward\", axis=1)\n",
    "df_ward_vote_pop"
   ]
  },
  {
   "cell_type": "code",
   "execution_count": 15,
   "metadata": {},
   "outputs": [],
   "source": [
    "df_ward_vote_pop.to_csv(\"output/ward_results.csv\", index=False)"
   ]
  },
  {
   "cell_type": "markdown",
   "metadata": {},
   "source": [
    "# Load locations"
   ]
  },
  {
   "cell_type": "code",
   "execution_count": 32,
   "metadata": {},
   "outputs": [
    {
     "data": {
      "text/html": [
       "<div>\n",
       "<style scoped>\n",
       "    .dataframe tbody tr th:only-of-type {\n",
       "        vertical-align: middle;\n",
       "    }\n",
       "\n",
       "    .dataframe tbody tr th {\n",
       "        vertical-align: top;\n",
       "    }\n",
       "\n",
       "    .dataframe thead th {\n",
       "        text-align: right;\n",
       "    }\n",
       "</style>\n",
       "<table border=\"1\" class=\"dataframe\">\n",
       "  <thead>\n",
       "    <tr style=\"text-align: right;\">\n",
       "      <th></th>\n",
       "      <th>is_rr</th>\n",
       "      <th>address</th>\n",
       "      <th>latitude</th>\n",
       "      <th>longitude</th>\n",
       "    </tr>\n",
       "  </thead>\n",
       "  <tbody>\n",
       "    <tr>\n",
       "      <th>Forest Avenue PS</th>\n",
       "      <td>False</td>\n",
       "      <td>20 Forest Ave, Mississauga, ON L5G 1K7</td>\n",
       "      <td>43.557974</td>\n",
       "      <td>-79.582663</td>\n",
       "    </tr>\n",
       "    <tr>\n",
       "      <th>Kenollie PS</th>\n",
       "      <td>False</td>\n",
       "      <td>1376 Glenwood Dr, Mississauga, ON L5G 2X1</td>\n",
       "      <td>43.557127</td>\n",
       "      <td>-79.598048</td>\n",
       "    </tr>\n",
       "    <tr>\n",
       "      <th>Miss. LTC Facility</th>\n",
       "      <td>True</td>\n",
       "      <td>26 Peter St N, Mississauga, ON L5H 2G7</td>\n",
       "      <td>43.549710</td>\n",
       "      <td>-79.591006</td>\n",
       "    </tr>\n",
       "    <tr>\n",
       "      <th>Miss. SC</th>\n",
       "      <td>False</td>\n",
       "      <td>1389 Cawthra Rd, Mississauga, ON L5G 4L1</td>\n",
       "      <td>43.578656</td>\n",
       "      <td>-79.575499</td>\n",
       "    </tr>\n",
       "    <tr>\n",
       "      <th>Port Credit Memorial</th>\n",
       "      <td>False</td>\n",
       "      <td>40 Stavebank Rd, Mississauga, ON L5G 2T8</td>\n",
       "      <td>43.552719</td>\n",
       "      <td>-79.591434</td>\n",
       "    </tr>\n",
       "    <tr>\n",
       "      <th>...</th>\n",
       "      <td>...</td>\n",
       "      <td>...</td>\n",
       "      <td>...</td>\n",
       "      <td>...</td>\n",
       "    </tr>\n",
       "    <tr>\n",
       "      <th>St Veronica CS</th>\n",
       "      <td>False</td>\n",
       "      <td>680 Novo Star Dr, Mississauga, ON L5W 1C7</td>\n",
       "      <td>43.631362</td>\n",
       "      <td>-79.717692</td>\n",
       "    </tr>\n",
       "    <tr>\n",
       "      <th>St. Gregory CS</th>\n",
       "      <td>False</td>\n",
       "      <td>1075 Swinbourne Dr, Mississauga, ON L5V 1B9</td>\n",
       "      <td>43.609409</td>\n",
       "      <td>-79.708183</td>\n",
       "    </tr>\n",
       "    <tr>\n",
       "      <th>Streetsville Heritage Hall</th>\n",
       "      <td>False</td>\n",
       "      <td>327 Queen St S, Mississauga, ON L5M 1M3</td>\n",
       "      <td>43.577515</td>\n",
       "      <td>-79.707977</td>\n",
       "    </tr>\n",
       "    <tr>\n",
       "      <th>Streetsville SS</th>\n",
       "      <td>False</td>\n",
       "      <td>72 Joymar Dr, Mississauga, ON L5M 1G3</td>\n",
       "      <td>43.578539</td>\n",
       "      <td>-79.720460</td>\n",
       "    </tr>\n",
       "    <tr>\n",
       "      <th>Vista Heights PS</th>\n",
       "      <td>False</td>\n",
       "      <td>89 Vista Blvd, Mississauga, ON L5M 1V8</td>\n",
       "      <td>43.574991</td>\n",
       "      <td>-79.726075</td>\n",
       "    </tr>\n",
       "  </tbody>\n",
       "</table>\n",
       "<p>157 rows × 4 columns</p>\n",
       "</div>"
      ],
      "text/plain": [
       "                            is_rr  \\\n",
       "Forest Avenue PS            False   \n",
       "Kenollie PS                 False   \n",
       "Miss. LTC Facility           True   \n",
       "Miss. SC                    False   \n",
       "Port Credit Memorial        False   \n",
       "...                           ...   \n",
       "St Veronica CS              False   \n",
       "St. Gregory CS              False   \n",
       "Streetsville Heritage Hall  False   \n",
       "Streetsville SS             False   \n",
       "Vista Heights PS            False   \n",
       "\n",
       "                                                                address  \\\n",
       "Forest Avenue PS                 20 Forest Ave, Mississauga, ON L5G 1K7   \n",
       "Kenollie PS                   1376 Glenwood Dr, Mississauga, ON L5G 2X1   \n",
       "Miss. LTC Facility               26 Peter St N, Mississauga, ON L5H 2G7   \n",
       "Miss. SC                       1389 Cawthra Rd, Mississauga, ON L5G 4L1   \n",
       "Port Credit Memorial           40 Stavebank Rd, Mississauga, ON L5G 2T8   \n",
       "...                                                                 ...   \n",
       "St Veronica CS                680 Novo Star Dr, Mississauga, ON L5W 1C7   \n",
       "St. Gregory CS              1075 Swinbourne Dr, Mississauga, ON L5V 1B9   \n",
       "Streetsville Heritage Hall      327 Queen St S, Mississauga, ON L5M 1M3   \n",
       "Streetsville SS                   72 Joymar Dr, Mississauga, ON L5M 1G3   \n",
       "Vista Heights PS                 89 Vista Blvd, Mississauga, ON L5M 1V8   \n",
       "\n",
       "                             latitude  longitude  \n",
       "Forest Avenue PS            43.557974 -79.582663  \n",
       "Kenollie PS                 43.557127 -79.598048  \n",
       "Miss. LTC Facility          43.549710 -79.591006  \n",
       "Miss. SC                    43.578656 -79.575499  \n",
       "Port Credit Memorial        43.552719 -79.591434  \n",
       "...                               ...        ...  \n",
       "St Veronica CS              43.631362 -79.717692  \n",
       "St. Gregory CS              43.609409 -79.708183  \n",
       "Streetsville Heritage Hall  43.577515 -79.707977  \n",
       "Streetsville SS             43.578539 -79.720460  \n",
       "Vista Heights PS            43.574991 -79.726075  \n",
       "\n",
       "[157 rows x 4 columns]"
      ]
     },
     "execution_count": 32,
     "metadata": {},
     "output_type": "execute_result"
    }
   ],
   "source": [
    "df_loc = pd.read_json(\"data/locations-filled.json\").transpose()\n",
    "df_loc.columns = [\"coordinates\", \"is_rr\", \"address\"]\n",
    "df_loc[\"coordinates\"] = df_loc[\"coordinates\"].str.split(\",\")\n",
    "df_loc[\"latitude\"] = df_loc[\"coordinates\"].str[0].astype(float)\n",
    "df_loc[\"longitude\"] = df_loc[\"coordinates\"].str[1].astype(float)\n",
    "df_loc.drop(\"coordinates\", axis=1, inplace=True)\n",
    "df_loc"
   ]
  },
  {
   "cell_type": "code",
   "execution_count": 34,
   "metadata": {},
   "outputs": [
    {
     "data": {
      "text/html": [
       "<div>\n",
       "<style scoped>\n",
       "    .dataframe tbody tr th:only-of-type {\n",
       "        vertical-align: middle;\n",
       "    }\n",
       "\n",
       "    .dataframe tbody tr th {\n",
       "        vertical-align: top;\n",
       "    }\n",
       "\n",
       "    .dataframe thead th {\n",
       "        text-align: right;\n",
       "    }\n",
       "</style>\n",
       "<table border=\"1\" class=\"dataframe\">\n",
       "  <thead>\n",
       "    <tr style=\"text-align: right;\">\n",
       "      <th></th>\n",
       "      <th>location</th>\n",
       "      <th>ward</th>\n",
       "      <th>Dipika Damerla</th>\n",
       "      <th>Stephen Dasko</th>\n",
       "      <th>Carolyn Parrish</th>\n",
       "      <th>Alvin Tedjo</th>\n",
       "      <th>total</th>\n",
       "      <th>is_rr</th>\n",
       "      <th>address</th>\n",
       "      <th>latitude</th>\n",
       "      <th>longitude</th>\n",
       "    </tr>\n",
       "  </thead>\n",
       "  <tbody>\n",
       "    <tr>\n",
       "      <th>0</th>\n",
       "      <td>All Saints SS</td>\n",
       "      <td>8</td>\n",
       "      <td>222</td>\n",
       "      <td>245</td>\n",
       "      <td>375</td>\n",
       "      <td>441</td>\n",
       "      <td>1418</td>\n",
       "      <td>False</td>\n",
       "      <td>4105 Colonial Dr, Mississauga, ON L5L 4E8</td>\n",
       "      <td>43.531740</td>\n",
       "      <td>-79.711113</td>\n",
       "    </tr>\n",
       "    <tr>\n",
       "      <th>1</th>\n",
       "      <td>Amica at City Centre</td>\n",
       "      <td>4</td>\n",
       "      <td>19</td>\n",
       "      <td>7</td>\n",
       "      <td>8</td>\n",
       "      <td>3</td>\n",
       "      <td>49</td>\n",
       "      <td>True</td>\n",
       "      <td></td>\n",
       "      <td>43.587206</td>\n",
       "      <td>-79.647135</td>\n",
       "    </tr>\n",
       "    <tr>\n",
       "      <th>2</th>\n",
       "      <td>Amica at Erin Mills</td>\n",
       "      <td>8</td>\n",
       "      <td>3</td>\n",
       "      <td>7</td>\n",
       "      <td>7</td>\n",
       "      <td>1</td>\n",
       "      <td>26</td>\n",
       "      <td>True</td>\n",
       "      <td>4620 Kimbermount Ave, Mississauga, ON L5M 5W5</td>\n",
       "      <td>43.549483</td>\n",
       "      <td>-79.716787</td>\n",
       "    </tr>\n",
       "    <tr>\n",
       "      <th>3</th>\n",
       "      <td>Artesian Drive PS</td>\n",
       "      <td>8</td>\n",
       "      <td>138</td>\n",
       "      <td>52</td>\n",
       "      <td>410</td>\n",
       "      <td>196</td>\n",
       "      <td>879</td>\n",
       "      <td>False</td>\n",
       "      <td>3325 Artesian Dr, Mississauga, ON L5M 7J8</td>\n",
       "      <td>43.543066</td>\n",
       "      <td>-79.719642</td>\n",
       "    </tr>\n",
       "    <tr>\n",
       "      <th>4</th>\n",
       "      <td>Beechwood Place RR</td>\n",
       "      <td>3</td>\n",
       "      <td>8</td>\n",
       "      <td>5</td>\n",
       "      <td>8</td>\n",
       "      <td>3</td>\n",
       "      <td>29</td>\n",
       "      <td>True</td>\n",
       "      <td></td>\n",
       "      <td>43.628073</td>\n",
       "      <td>-79.604668</td>\n",
       "    </tr>\n",
       "    <tr>\n",
       "      <th>...</th>\n",
       "      <td>...</td>\n",
       "      <td>...</td>\n",
       "      <td>...</td>\n",
       "      <td>...</td>\n",
       "      <td>...</td>\n",
       "      <td>...</td>\n",
       "      <td>...</td>\n",
       "      <td>...</td>\n",
       "      <td>...</td>\n",
       "      <td>...</td>\n",
       "      <td>...</td>\n",
       "    </tr>\n",
       "    <tr>\n",
       "      <th>153</th>\n",
       "      <td>Wellbrook Place</td>\n",
       "      <td>2</td>\n",
       "      <td>6</td>\n",
       "      <td>2</td>\n",
       "      <td>8</td>\n",
       "      <td>1</td>\n",
       "      <td>49</td>\n",
       "      <td>True</td>\n",
       "      <td></td>\n",
       "      <td>43.524426</td>\n",
       "      <td>-79.659972</td>\n",
       "    </tr>\n",
       "    <tr>\n",
       "      <th>154</th>\n",
       "      <td>Westacres PS</td>\n",
       "      <td>1</td>\n",
       "      <td>106</td>\n",
       "      <td>726</td>\n",
       "      <td>118</td>\n",
       "      <td>184</td>\n",
       "      <td>1178</td>\n",
       "      <td>False</td>\n",
       "      <td>2165 Breezy Brae Dr, Mississauga, ON L4Y 1N3</td>\n",
       "      <td>43.590239</td>\n",
       "      <td>-79.583471</td>\n",
       "    </tr>\n",
       "    <tr>\n",
       "      <th>155</th>\n",
       "      <td>Whitehorn PS</td>\n",
       "      <td>6</td>\n",
       "      <td>258</td>\n",
       "      <td>77</td>\n",
       "      <td>483</td>\n",
       "      <td>438</td>\n",
       "      <td>1363</td>\n",
       "      <td>False</td>\n",
       "      <td></td>\n",
       "      <td>43.596170</td>\n",
       "      <td>-79.702978</td>\n",
       "    </tr>\n",
       "    <tr>\n",
       "      <th>156</th>\n",
       "      <td>Woodlands Library</td>\n",
       "      <td>6</td>\n",
       "      <td>157</td>\n",
       "      <td>58</td>\n",
       "      <td>323</td>\n",
       "      <td>162</td>\n",
       "      <td>761</td>\n",
       "      <td>False</td>\n",
       "      <td></td>\n",
       "      <td>43.562838</td>\n",
       "      <td>-79.649910</td>\n",
       "    </tr>\n",
       "    <tr>\n",
       "      <th>157</th>\n",
       "      <td>Yee Hong Centre for GC</td>\n",
       "      <td>6</td>\n",
       "      <td>2</td>\n",
       "      <td>2</td>\n",
       "      <td>1</td>\n",
       "      <td>3</td>\n",
       "      <td>8</td>\n",
       "      <td>True</td>\n",
       "      <td>5510 Mavis Rd, Mississauga, ON L5V 2X5</td>\n",
       "      <td>43.604795</td>\n",
       "      <td>-79.687198</td>\n",
       "    </tr>\n",
       "  </tbody>\n",
       "</table>\n",
       "<p>158 rows × 11 columns</p>\n",
       "</div>"
      ],
      "text/plain": [
       "                   location ward  Dipika Damerla  Stephen Dasko  \\\n",
       "0             All Saints SS    8             222            245   \n",
       "1      Amica at City Centre    4              19              7   \n",
       "2       Amica at Erin Mills    8               3              7   \n",
       "3         Artesian Drive PS    8             138             52   \n",
       "4        Beechwood Place RR    3               8              5   \n",
       "..                      ...  ...             ...            ...   \n",
       "153         Wellbrook Place    2               6              2   \n",
       "154            Westacres PS    1             106            726   \n",
       "155            Whitehorn PS    6             258             77   \n",
       "156       Woodlands Library    6             157             58   \n",
       "157  Yee Hong Centre for GC    6               2              2   \n",
       "\n",
       "     Carolyn Parrish  Alvin Tedjo  total  is_rr  \\\n",
       "0                375          441   1418  False   \n",
       "1                  8            3     49   True   \n",
       "2                  7            1     26   True   \n",
       "3                410          196    879  False   \n",
       "4                  8            3     29   True   \n",
       "..               ...          ...    ...    ...   \n",
       "153                8            1     49   True   \n",
       "154              118          184   1178  False   \n",
       "155              483          438   1363  False   \n",
       "156              323          162    761  False   \n",
       "157                1            3      8   True   \n",
       "\n",
       "                                           address   latitude  longitude  \n",
       "0        4105 Colonial Dr, Mississauga, ON L5L 4E8  43.531740 -79.711113  \n",
       "1                                                   43.587206 -79.647135  \n",
       "2    4620 Kimbermount Ave, Mississauga, ON L5M 5W5  43.549483 -79.716787  \n",
       "3        3325 Artesian Dr, Mississauga, ON L5M 7J8  43.543066 -79.719642  \n",
       "4                                                   43.628073 -79.604668  \n",
       "..                                             ...        ...        ...  \n",
       "153                                                 43.524426 -79.659972  \n",
       "154   2165 Breezy Brae Dr, Mississauga, ON L4Y 1N3  43.590239 -79.583471  \n",
       "155                                                 43.596170 -79.702978  \n",
       "156                                                 43.562838 -79.649910  \n",
       "157         5510 Mavis Rd, Mississauga, ON L5V 2X5  43.604795 -79.687198  \n",
       "\n",
       "[158 rows x 11 columns]"
      ]
     },
     "execution_count": 34,
     "metadata": {},
     "output_type": "execute_result"
    }
   ],
   "source": [
    "df_loc_join = pd.merge(df, df_loc, left_on=\"location\", right_index=True)\n",
    "df_loc_join[[\"location\", \"latitude\", \"longitude\", \"address\", \"ward\", \"Dipika Damerla\", \"Stephen Dasko\", \"Carolyn Parrish\", \"Alvin Tedjo\", \"total\"]].to_csv(\"output/election_results.csv\")\n",
    "df_loc_join"
   ]
  },
  {
   "cell_type": "code",
   "execution_count": 18,
   "metadata": {},
   "outputs": [
    {
     "data": {
      "text/plain": [
       "is_rr\n",
       "False    138979\n",
       "True       1041\n",
       "Name: total, dtype: int64"
      ]
     },
     "execution_count": 18,
     "metadata": {},
     "output_type": "execute_result"
    }
   ],
   "source": [
    "df_loc_join.groupby(\"is_rr\")[\"total\"].sum()"
   ]
  },
  {
   "cell_type": "code",
   "execution_count": 19,
   "metadata": {},
   "outputs": [
    {
     "data": {
      "text/html": [
       "<div>\n",
       "<style scoped>\n",
       "    .dataframe tbody tr th:only-of-type {\n",
       "        vertical-align: middle;\n",
       "    }\n",
       "\n",
       "    .dataframe tbody tr th {\n",
       "        vertical-align: top;\n",
       "    }\n",
       "\n",
       "    .dataframe thead th {\n",
       "        text-align: right;\n",
       "    }\n",
       "</style>\n",
       "<table border=\"1\" class=\"dataframe\">\n",
       "  <thead>\n",
       "    <tr style=\"text-align: right;\">\n",
       "      <th></th>\n",
       "      <th>location</th>\n",
       "      <th>ward</th>\n",
       "      <th>Dipika Damerla</th>\n",
       "      <th>Stephen Dasko</th>\n",
       "      <th>Carolyn Parrish</th>\n",
       "      <th>Alvin Tedjo</th>\n",
       "      <th>total</th>\n",
       "      <th>coordinates</th>\n",
       "      <th>is_rr</th>\n",
       "      <th>address</th>\n",
       "    </tr>\n",
       "  </thead>\n",
       "  <tbody>\n",
       "    <tr>\n",
       "      <th>38</th>\n",
       "      <td>Extendicare Miss.</td>\n",
       "      <td>11</td>\n",
       "      <td>0</td>\n",
       "      <td>1</td>\n",
       "      <td>0</td>\n",
       "      <td>0</td>\n",
       "      <td>1</td>\n",
       "      <td>[43.6323779, -79.7287037]</td>\n",
       "      <td>True</td>\n",
       "      <td>855 John Watt Blvd, Mississauga, ON L5W 1G2</td>\n",
       "    </tr>\n",
       "    <tr>\n",
       "      <th>47</th>\n",
       "      <td>Heritage Glen</td>\n",
       "      <td>9</td>\n",
       "      <td>2</td>\n",
       "      <td>1</td>\n",
       "      <td>0</td>\n",
       "      <td>2</td>\n",
       "      <td>5</td>\n",
       "      <td>[43.5829141, -79.7529381]</td>\n",
       "      <td>True</td>\n",
       "      <td>6515 Glen Erin Dr, Mississauga, ON L5N 8P9</td>\n",
       "    </tr>\n",
       "    <tr>\n",
       "      <th>69</th>\n",
       "      <td>Miss. LTC Facility</td>\n",
       "      <td>1</td>\n",
       "      <td>0</td>\n",
       "      <td>0</td>\n",
       "      <td>0</td>\n",
       "      <td>0</td>\n",
       "      <td>6</td>\n",
       "      <td>[43.5497559, -79.5933775]</td>\n",
       "      <td>True</td>\n",
       "      <td></td>\n",
       "    </tr>\n",
       "    <tr>\n",
       "      <th>142</th>\n",
       "      <td>Sunrise Senior Living</td>\n",
       "      <td>8</td>\n",
       "      <td>1</td>\n",
       "      <td>0</td>\n",
       "      <td>1</td>\n",
       "      <td>2</td>\n",
       "      <td>6</td>\n",
       "      <td>[43.6210063, -79.6057242]</td>\n",
       "      <td>True</td>\n",
       "      <td></td>\n",
       "    </tr>\n",
       "    <tr>\n",
       "      <th>14</th>\n",
       "      <td>Cawthra Gardens LTC</td>\n",
       "      <td>4</td>\n",
       "      <td>1</td>\n",
       "      <td>1</td>\n",
       "      <td>2</td>\n",
       "      <td>1</td>\n",
       "      <td>7</td>\n",
       "      <td>[43.593105, -79.6037121]</td>\n",
       "      <td>True</td>\n",
       "      <td></td>\n",
       "    </tr>\n",
       "    <tr>\n",
       "      <th>...</th>\n",
       "      <td>...</td>\n",
       "      <td>...</td>\n",
       "      <td>...</td>\n",
       "      <td>...</td>\n",
       "      <td>...</td>\n",
       "      <td>...</td>\n",
       "      <td>...</td>\n",
       "      <td>...</td>\n",
       "      <td>...</td>\n",
       "      <td>...</td>\n",
       "    </tr>\n",
       "    <tr>\n",
       "      <th>88</th>\n",
       "      <td>River Grove CC</td>\n",
       "      <td>6</td>\n",
       "      <td>741</td>\n",
       "      <td>304</td>\n",
       "      <td>1299</td>\n",
       "      <td>869</td>\n",
       "      <td>3463</td>\n",
       "      <td>[43.589527, -79.7125299]</td>\n",
       "      <td>False</td>\n",
       "      <td></td>\n",
       "    </tr>\n",
       "    <tr>\n",
       "      <th>20</th>\n",
       "      <td>Clarkson CC</td>\n",
       "      <td>2</td>\n",
       "      <td>456</td>\n",
       "      <td>752</td>\n",
       "      <td>704</td>\n",
       "      <td>1425</td>\n",
       "      <td>3577</td>\n",
       "      <td>[43.5113661, -79.6504247]</td>\n",
       "      <td>False</td>\n",
       "      <td></td>\n",
       "    </tr>\n",
       "    <tr>\n",
       "      <th>64</th>\n",
       "      <td>Meadowvale CC</td>\n",
       "      <td>9</td>\n",
       "      <td>727</td>\n",
       "      <td>352</td>\n",
       "      <td>1208</td>\n",
       "      <td>1333</td>\n",
       "      <td>4024</td>\n",
       "      <td>[43.5853306, -79.7567823]</td>\n",
       "      <td>False</td>\n",
       "      <td>6655 Glen Erin Dr, Mississauga, ON L5N 3L4</td>\n",
       "    </tr>\n",
       "    <tr>\n",
       "      <th>18</th>\n",
       "      <td>Church. Mdws BL</td>\n",
       "      <td>10</td>\n",
       "      <td>688</td>\n",
       "      <td>251</td>\n",
       "      <td>2006</td>\n",
       "      <td>1059</td>\n",
       "      <td>4355</td>\n",
       "      <td>[43.5523473, -79.7476441]</td>\n",
       "      <td>False</td>\n",
       "      <td>3801 Thomas St, Mississauga, ON L5M 7G2</td>\n",
       "    </tr>\n",
       "    <tr>\n",
       "      <th>45</th>\n",
       "      <td>Frank McKech. CC</td>\n",
       "      <td>5</td>\n",
       "      <td>813</td>\n",
       "      <td>338</td>\n",
       "      <td>1899</td>\n",
       "      <td>865</td>\n",
       "      <td>4356</td>\n",
       "      <td>[43.6163705, -79.6556235]</td>\n",
       "      <td>False</td>\n",
       "      <td></td>\n",
       "    </tr>\n",
       "  </tbody>\n",
       "</table>\n",
       "<p>158 rows × 10 columns</p>\n",
       "</div>"
      ],
      "text/plain": [
       "                  location ward  Dipika Damerla  Stephen Dasko  \\\n",
       "38       Extendicare Miss.   11               0              1   \n",
       "47           Heritage Glen    9               2              1   \n",
       "69      Miss. LTC Facility    1               0              0   \n",
       "142  Sunrise Senior Living    8               1              0   \n",
       "14     Cawthra Gardens LTC    4               1              1   \n",
       "..                     ...  ...             ...            ...   \n",
       "88          River Grove CC    6             741            304   \n",
       "20             Clarkson CC    2             456            752   \n",
       "64           Meadowvale CC    9             727            352   \n",
       "18         Church. Mdws BL   10             688            251   \n",
       "45        Frank McKech. CC    5             813            338   \n",
       "\n",
       "     Carolyn Parrish  Alvin Tedjo  total                coordinates  is_rr  \\\n",
       "38                 0            0      1  [43.6323779, -79.7287037]   True   \n",
       "47                 0            2      5  [43.5829141, -79.7529381]   True   \n",
       "69                 0            0      6  [43.5497559, -79.5933775]   True   \n",
       "142                1            2      6  [43.6210063, -79.6057242]   True   \n",
       "14                 2            1      7   [43.593105, -79.6037121]   True   \n",
       "..               ...          ...    ...                        ...    ...   \n",
       "88              1299          869   3463   [43.589527, -79.7125299]  False   \n",
       "20               704         1425   3577  [43.5113661, -79.6504247]  False   \n",
       "64              1208         1333   4024  [43.5853306, -79.7567823]  False   \n",
       "18              2006         1059   4355  [43.5523473, -79.7476441]  False   \n",
       "45              1899          865   4356  [43.6163705, -79.6556235]  False   \n",
       "\n",
       "                                         address  \n",
       "38   855 John Watt Blvd, Mississauga, ON L5W 1G2  \n",
       "47    6515 Glen Erin Dr, Mississauga, ON L5N 8P9  \n",
       "69                                                \n",
       "142                                               \n",
       "14                                                \n",
       "..                                           ...  \n",
       "88                                                \n",
       "20                                                \n",
       "64    6655 Glen Erin Dr, Mississauga, ON L5N 3L4  \n",
       "18       3801 Thomas St, Mississauga, ON L5M 7G2  \n",
       "45                                                \n",
       "\n",
       "[158 rows x 10 columns]"
      ]
     },
     "execution_count": 19,
     "metadata": {},
     "output_type": "execute_result"
    }
   ],
   "source": [
    "df_loc_join.sort_values(\"total\")"
   ]
  },
  {
   "cell_type": "code",
   "execution_count": null,
   "metadata": {},
   "outputs": [],
   "source": [
    "# Retirement home turnout\n",
    "df_rr = df_loc_join[df_loc_join[\"is_rr\"] == True]\n",
    "df_rr[[\"Dipika Damerla\", \"Stephen Dasko\", \"Carolyn Parrish\", \"Alvin Tedjo\", \"total\"]].sum()"
   ]
  },
  {
   "cell_type": "markdown",
   "metadata": {},
   "source": [
    "## Plot results on a map"
   ]
  },
  {
   "cell_type": "code",
   "execution_count": 36,
   "metadata": {},
   "outputs": [
    {
     "data": {
      "text/html": [
       "<div>\n",
       "<style scoped>\n",
       "    .dataframe tbody tr th:only-of-type {\n",
       "        vertical-align: middle;\n",
       "    }\n",
       "\n",
       "    .dataframe tbody tr th {\n",
       "        vertical-align: top;\n",
       "    }\n",
       "\n",
       "    .dataframe thead th {\n",
       "        text-align: right;\n",
       "    }\n",
       "</style>\n",
       "<table border=\"1\" class=\"dataframe\">\n",
       "  <thead>\n",
       "    <tr style=\"text-align: right;\">\n",
       "      <th></th>\n",
       "      <th>location</th>\n",
       "      <th>ward</th>\n",
       "      <th>Dipika Damerla</th>\n",
       "      <th>Stephen Dasko</th>\n",
       "      <th>Carolyn Parrish</th>\n",
       "      <th>Alvin Tedjo</th>\n",
       "      <th>total</th>\n",
       "      <th>is_rr</th>\n",
       "      <th>address</th>\n",
       "      <th>latitude</th>\n",
       "      <th>longitude</th>\n",
       "      <th>winner</th>\n",
       "      <th>vote_percentage</th>\n",
       "    </tr>\n",
       "  </thead>\n",
       "  <tbody>\n",
       "    <tr>\n",
       "      <th>0</th>\n",
       "      <td>All Saints SS</td>\n",
       "      <td>8</td>\n",
       "      <td>222</td>\n",
       "      <td>245</td>\n",
       "      <td>375</td>\n",
       "      <td>441</td>\n",
       "      <td>1418</td>\n",
       "      <td>False</td>\n",
       "      <td>4105 Colonial Dr, Mississauga, ON L5L 4E8</td>\n",
       "      <td>43.531740</td>\n",
       "      <td>-79.711113</td>\n",
       "      <td>Alvin Tedjo</td>\n",
       "      <td>0.311001</td>\n",
       "    </tr>\n",
       "    <tr>\n",
       "      <th>1</th>\n",
       "      <td>Amica at City Centre</td>\n",
       "      <td>4</td>\n",
       "      <td>19</td>\n",
       "      <td>7</td>\n",
       "      <td>8</td>\n",
       "      <td>3</td>\n",
       "      <td>49</td>\n",
       "      <td>True</td>\n",
       "      <td></td>\n",
       "      <td>43.587206</td>\n",
       "      <td>-79.647135</td>\n",
       "      <td>Dipika Damerla</td>\n",
       "      <td>0.387755</td>\n",
       "    </tr>\n",
       "    <tr>\n",
       "      <th>2</th>\n",
       "      <td>Amica at Erin Mills</td>\n",
       "      <td>8</td>\n",
       "      <td>3</td>\n",
       "      <td>7</td>\n",
       "      <td>7</td>\n",
       "      <td>1</td>\n",
       "      <td>26</td>\n",
       "      <td>True</td>\n",
       "      <td>4620 Kimbermount Ave, Mississauga, ON L5M 5W5</td>\n",
       "      <td>43.549483</td>\n",
       "      <td>-79.716787</td>\n",
       "      <td>Stephen Dasko</td>\n",
       "      <td>0.269231</td>\n",
       "    </tr>\n",
       "    <tr>\n",
       "      <th>3</th>\n",
       "      <td>Artesian Drive PS</td>\n",
       "      <td>8</td>\n",
       "      <td>138</td>\n",
       "      <td>52</td>\n",
       "      <td>410</td>\n",
       "      <td>196</td>\n",
       "      <td>879</td>\n",
       "      <td>False</td>\n",
       "      <td>3325 Artesian Dr, Mississauga, ON L5M 7J8</td>\n",
       "      <td>43.543066</td>\n",
       "      <td>-79.719642</td>\n",
       "      <td>Carolyn Parrish</td>\n",
       "      <td>0.466439</td>\n",
       "    </tr>\n",
       "    <tr>\n",
       "      <th>4</th>\n",
       "      <td>Beechwood Place RR</td>\n",
       "      <td>3</td>\n",
       "      <td>8</td>\n",
       "      <td>5</td>\n",
       "      <td>8</td>\n",
       "      <td>3</td>\n",
       "      <td>29</td>\n",
       "      <td>True</td>\n",
       "      <td></td>\n",
       "      <td>43.628073</td>\n",
       "      <td>-79.604668</td>\n",
       "      <td>Dipika Damerla</td>\n",
       "      <td>0.275862</td>\n",
       "    </tr>\n",
       "    <tr>\n",
       "      <th>...</th>\n",
       "      <td>...</td>\n",
       "      <td>...</td>\n",
       "      <td>...</td>\n",
       "      <td>...</td>\n",
       "      <td>...</td>\n",
       "      <td>...</td>\n",
       "      <td>...</td>\n",
       "      <td>...</td>\n",
       "      <td>...</td>\n",
       "      <td>...</td>\n",
       "      <td>...</td>\n",
       "      <td>...</td>\n",
       "      <td>...</td>\n",
       "    </tr>\n",
       "    <tr>\n",
       "      <th>153</th>\n",
       "      <td>Wellbrook Place</td>\n",
       "      <td>2</td>\n",
       "      <td>6</td>\n",
       "      <td>2</td>\n",
       "      <td>8</td>\n",
       "      <td>1</td>\n",
       "      <td>49</td>\n",
       "      <td>True</td>\n",
       "      <td></td>\n",
       "      <td>43.524426</td>\n",
       "      <td>-79.659972</td>\n",
       "      <td>Carolyn Parrish</td>\n",
       "      <td>0.163265</td>\n",
       "    </tr>\n",
       "    <tr>\n",
       "      <th>154</th>\n",
       "      <td>Westacres PS</td>\n",
       "      <td>1</td>\n",
       "      <td>106</td>\n",
       "      <td>726</td>\n",
       "      <td>118</td>\n",
       "      <td>184</td>\n",
       "      <td>1178</td>\n",
       "      <td>False</td>\n",
       "      <td>2165 Breezy Brae Dr, Mississauga, ON L4Y 1N3</td>\n",
       "      <td>43.590239</td>\n",
       "      <td>-79.583471</td>\n",
       "      <td>Stephen Dasko</td>\n",
       "      <td>0.616299</td>\n",
       "    </tr>\n",
       "    <tr>\n",
       "      <th>155</th>\n",
       "      <td>Whitehorn PS</td>\n",
       "      <td>6</td>\n",
       "      <td>258</td>\n",
       "      <td>77</td>\n",
       "      <td>483</td>\n",
       "      <td>438</td>\n",
       "      <td>1363</td>\n",
       "      <td>False</td>\n",
       "      <td></td>\n",
       "      <td>43.596170</td>\n",
       "      <td>-79.702978</td>\n",
       "      <td>Carolyn Parrish</td>\n",
       "      <td>0.354365</td>\n",
       "    </tr>\n",
       "    <tr>\n",
       "      <th>156</th>\n",
       "      <td>Woodlands Library</td>\n",
       "      <td>6</td>\n",
       "      <td>157</td>\n",
       "      <td>58</td>\n",
       "      <td>323</td>\n",
       "      <td>162</td>\n",
       "      <td>761</td>\n",
       "      <td>False</td>\n",
       "      <td></td>\n",
       "      <td>43.562838</td>\n",
       "      <td>-79.649910</td>\n",
       "      <td>Carolyn Parrish</td>\n",
       "      <td>0.424442</td>\n",
       "    </tr>\n",
       "    <tr>\n",
       "      <th>157</th>\n",
       "      <td>Yee Hong Centre for GC</td>\n",
       "      <td>6</td>\n",
       "      <td>2</td>\n",
       "      <td>2</td>\n",
       "      <td>1</td>\n",
       "      <td>3</td>\n",
       "      <td>8</td>\n",
       "      <td>True</td>\n",
       "      <td>5510 Mavis Rd, Mississauga, ON L5V 2X5</td>\n",
       "      <td>43.604795</td>\n",
       "      <td>-79.687198</td>\n",
       "      <td>Alvin Tedjo</td>\n",
       "      <td>0.375000</td>\n",
       "    </tr>\n",
       "  </tbody>\n",
       "</table>\n",
       "<p>158 rows × 13 columns</p>\n",
       "</div>"
      ],
      "text/plain": [
       "                   location ward  Dipika Damerla  Stephen Dasko  \\\n",
       "0             All Saints SS    8             222            245   \n",
       "1      Amica at City Centre    4              19              7   \n",
       "2       Amica at Erin Mills    8               3              7   \n",
       "3         Artesian Drive PS    8             138             52   \n",
       "4        Beechwood Place RR    3               8              5   \n",
       "..                      ...  ...             ...            ...   \n",
       "153         Wellbrook Place    2               6              2   \n",
       "154            Westacres PS    1             106            726   \n",
       "155            Whitehorn PS    6             258             77   \n",
       "156       Woodlands Library    6             157             58   \n",
       "157  Yee Hong Centre for GC    6               2              2   \n",
       "\n",
       "     Carolyn Parrish  Alvin Tedjo  total  is_rr  \\\n",
       "0                375          441   1418  False   \n",
       "1                  8            3     49   True   \n",
       "2                  7            1     26   True   \n",
       "3                410          196    879  False   \n",
       "4                  8            3     29   True   \n",
       "..               ...          ...    ...    ...   \n",
       "153                8            1     49   True   \n",
       "154              118          184   1178  False   \n",
       "155              483          438   1363  False   \n",
       "156              323          162    761  False   \n",
       "157                1            3      8   True   \n",
       "\n",
       "                                           address   latitude  longitude  \\\n",
       "0        4105 Colonial Dr, Mississauga, ON L5L 4E8  43.531740 -79.711113   \n",
       "1                                                   43.587206 -79.647135   \n",
       "2    4620 Kimbermount Ave, Mississauga, ON L5M 5W5  43.549483 -79.716787   \n",
       "3        3325 Artesian Dr, Mississauga, ON L5M 7J8  43.543066 -79.719642   \n",
       "4                                                   43.628073 -79.604668   \n",
       "..                                             ...        ...        ...   \n",
       "153                                                 43.524426 -79.659972   \n",
       "154   2165 Breezy Brae Dr, Mississauga, ON L4Y 1N3  43.590239 -79.583471   \n",
       "155                                                 43.596170 -79.702978   \n",
       "156                                                 43.562838 -79.649910   \n",
       "157         5510 Mavis Rd, Mississauga, ON L5V 2X5  43.604795 -79.687198   \n",
       "\n",
       "              winner  vote_percentage  \n",
       "0        Alvin Tedjo         0.311001  \n",
       "1     Dipika Damerla         0.387755  \n",
       "2      Stephen Dasko         0.269231  \n",
       "3    Carolyn Parrish         0.466439  \n",
       "4     Dipika Damerla         0.275862  \n",
       "..               ...              ...  \n",
       "153  Carolyn Parrish         0.163265  \n",
       "154    Stephen Dasko         0.616299  \n",
       "155  Carolyn Parrish         0.354365  \n",
       "156  Carolyn Parrish         0.424442  \n",
       "157      Alvin Tedjo         0.375000  \n",
       "\n",
       "[158 rows x 13 columns]"
      ]
     },
     "execution_count": 36,
     "metadata": {},
     "output_type": "execute_result"
    }
   ],
   "source": [
    "df_loc_join[\"winner\"] = df_loc_join[[\"Dipika Damerla\", \"Stephen Dasko\", \"Carolyn Parrish\", \"Alvin Tedjo\"]].idxmax(axis=1)\n",
    "df_loc_join[\"vote_percentage\"] = df_loc_join[[\"Dipika Damerla\", \"Stephen Dasko\", \"Carolyn Parrish\", \"Alvin Tedjo\"]].values.max(1) / df_loc_join[\"total\"]\n",
    "df_loc_join"
   ]
  },
  {
   "cell_type": "code",
   "execution_count": 43,
   "metadata": {},
   "outputs": [
    {
     "data": {
      "application/vnd.plotly.v1+json": {
       "config": {
        "plotlyServerURL": "https://plot.ly"
       },
       "data": [
        {
         "customdata": [
          [
           222,
           245,
           375,
           441,
           1418
          ],
          [
           162,
           163,
           350,
           353,
           1113
          ],
          [
           456,
           752,
           704,
           1425,
           3577
          ],
          [
           145,
           218,
           145,
           361,
           923
          ],
          [
           235,
           108,
           324,
           347,
           1129
          ],
          [
           132,
           156,
           219,
           254,
           849
          ],
          [
           223,
           106,
           292,
           318,
           1024
          ],
          [
           164,
           323,
           170,
           362,
           1051
          ],
          [
           727,
           352,
           1208,
           1333,
           4024
          ],
          [
           126,
           86,
           171,
           313,
           750
          ],
          [
           130,
           102,
           216,
           254,
           806
          ],
          [
           8,
           20,
           18,
           21,
           72
          ],
          [
           66,
           68,
           124,
           166,
           468
          ],
          [
           106,
           77,
           200,
           301,
           731
          ],
          [
           74,
           75,
           140,
           170,
           508
          ],
          [
           48,
           126,
           176,
           415,
           800
          ],
          [
           551,
           476,
           904,
           1084,
           3353
          ],
          [
           92,
           132,
           134,
           512,
           916
          ],
          [
           193,
           110,
           277,
           322,
           976
          ],
          [
           174,
           122,
           276,
           363,
           994
          ],
          [
           121,
           73,
           252,
           272,
           796
          ],
          [
           168,
           66,
           172,
           185,
           635
          ],
          [
           226,
           343,
           397,
           516,
           1578
          ],
          [
           204,
           182,
           333,
           421,
           1234
          ],
          [
           180,
           152,
           372,
           416,
           1221
          ],
          [
           73,
           81,
           178,
           295,
           688
          ],
          [
           30,
           70,
           46,
           83,
           259
          ],
          [
           109,
           162,
           207,
           296,
           850
          ],
          [
           255,
           260,
           276,
           377,
           1237
          ],
          [
           129,
           84,
           177,
           325,
           789
          ],
          [
           208,
           94,
           400,
           416,
           1215
          ],
          [
           206,
           129,
           257,
           306,
           979
          ],
          [
           115,
           64,
           154,
           162,
           539
          ],
          [
           1,
           0,
           1,
           2,
           6
          ],
          [
           2,
           2,
           1,
           3,
           8
          ]
         ],
         "geo": "geo",
         "hovertemplate": "<b>%{hovertext}</b><br><br>winner=Alvin Tedjo<br>total=%{customdata[4]}<br>latitude=%{lat}<br>longitude=%{lon}<br>Dipika Damerla=%{customdata[0]}<br>Stephen Dasko=%{customdata[1]}<br>Carolyn Parrish=%{customdata[2]}<br>Alvin Tedjo=%{customdata[3]}<extra></extra>",
         "hovertext": [
          "All Saints SS",
          "Christ the King CS",
          "Clarkson CC",
          "Clarkson PS",
          "Credit Valley PS",
          "Erindale SS",
          "Levi Creek PS",
          "Lorne Pk Library",
          "Meadowvale CC",
          "Miller's Grove PS",
          "Our Lady of Mercy CS",
          "Parkland on the Glen",
          "Queenston Drive PS",
          "Settler's Green PS",
          "Shelter Bay PS",
          "Sheridan Park PS",
          "South Common CC",
          "St Francis of Assisi CS",
          "St John of the Cross CS",
          "St Therese of CJCS",
          "St. Albert of JRS CS",
          "St. Catherine CS",
          "St. Clare SS",
          "St. David of Wales SS",
          "St. Edith Stein CS",
          "St. Elizabeth Seton CS",
          "St. Helen SS",
          "St. Margaret CS",
          "St. Mark SS",
          "St. Richard CS",
          "St. Simon Stock CS",
          "Streetsville SS",
          "Sts. Peter & Paul SS",
          "Sunrise Senior Living",
          "Yee Hong Centre for GC"
         ],
         "lat": [
          43.5317405,
          43.5242194,
          43.5113661,
          43.5141232,
          43.554487,
          43.5389206,
          43.6228975,
          43.5310891,
          43.5853306,
          43.572413,
          43.5696264,
          43.5439155,
          43.5615863,
          43.5782088,
          43.5870021,
          43.5297859,
          43.5424495,
          43.5265014,
          43.5793532,
          43.5796082,
          43.580593,
          43.5741493,
          43.5457362,
          43.5749633,
          43.5666543,
          43.577775,
          43.5058688,
          43.536244,
          43.5521723,
          43.5938591,
          43.565415,
          43.5785392,
          43.6023154,
          43.6210063,
          43.604795
         ],
         "legendgroup": "Alvin Tedjo",
         "lon": [
          -79.7111131,
          -79.6959164,
          -79.6504247,
          -79.6213433,
          -79.7071146,
          -79.6670068,
          -79.7481073,
          -79.6277885,
          -79.7567823,
          -79.7561184,
          -79.7336824,
          -79.6645419,
          -79.6621594,
          -79.7514064,
          -79.7630757,
          -79.6662338,
          -79.6849221,
          -79.6724038,
          -79.7687787,
          -79.7775446,
          -79.7917009,
          -79.6116201,
          -79.6967984,
          -79.6666871,
          -79.7591338,
          -79.7417853,
          -79.6515695,
          -79.6770143,
          -79.6813384,
          -79.7712012,
          -79.7706664,
          -79.7204597,
          -79.6353669,
          -79.6057242,
          -79.6871976
         ],
         "marker": {
          "color": "green",
          "size": [
           1418,
           1113,
           3577,
           923,
           1129,
           849,
           1024,
           1051,
           4024,
           750,
           806,
           72,
           468,
           731,
           508,
           800,
           3353,
           916,
           976,
           994,
           796,
           635,
           1578,
           1234,
           1221,
           688,
           259,
           850,
           1237,
           789,
           1215,
           979,
           539,
           6,
           8
          ],
          "sizemode": "area",
          "sizeref": 10.89,
          "symbol": "circle"
         },
         "mode": "markers",
         "name": "Alvin Tedjo",
         "showlegend": true,
         "type": "scattergeo"
        },
        {
         "customdata": [
          [
           19,
           7,
           8,
           3,
           49
          ],
          [
           8,
           5,
           8,
           3,
           29
          ],
          [
           289,
           113,
           191,
           100,
           789
          ],
          [
           1042,
           446,
           864,
           662,
           3354
          ],
          [
           346,
           153,
           129,
           79,
           749
          ],
          [
           482,
           270,
           394,
           223,
           1482
          ],
          [
           289,
           139,
           196,
           135,
           844
          ],
          [
           20,
           3,
           16,
           13,
           57
          ],
          [
           554,
           185,
           543,
           426,
           1834
          ],
          [
           237,
           121,
           230,
           81,
           709
          ],
          [
           213,
           71,
           171,
           87,
           598
          ],
          [
           2,
           1,
           0,
           2,
           5
          ],
          [
           6,
           4,
           3,
           0,
           17
          ],
          [
           193,
           129,
           135,
           154,
           648
          ],
          [
           3,
           1,
           2,
           1,
           9
          ],
          [
           0,
           0,
           0,
           0,
           6
          ],
          [
           162,
           133,
           103,
           106,
           549
          ],
          [
           291,
           146,
           128,
           106,
           738
          ],
          [
           223,
           147,
           142,
           101,
           662
          ],
          [
           281,
           166,
           213,
           127,
           896
          ],
          [
           174,
           44,
           124,
           155,
           538
          ],
          [
           26,
           9,
           24,
           10,
           81
          ]
         ],
         "geo": "geo",
         "hovertemplate": "<b>%{hovertext}</b><br><br>winner=Dipika Damerla<br>total=%{customdata[4]}<br>latitude=%{lat}<br>longitude=%{lon}<br>Dipika Damerla=%{customdata[0]}<br>Stephen Dasko=%{customdata[1]}<br>Carolyn Parrish=%{customdata[2]}<br>Alvin Tedjo=%{customdata[3]}<extra></extra>",
         "hovertext": [
          "Amica at City Centre",
          "Beechwood Place RR",
          "Brian W Fleming PS",
          "Burnhamthorpe CC",
          "Burnhamthorpe PS",
          "Clifton PS",
          "Dixie PS",
          "Evergreen Retirement",
          "Father Dan. Zan. CS",
          "Floradale PS",
          "Forest Glen PS",
          "Heritage Glen",
          "King Gardens RR",
          "Metropolitan Andrei CS",
          "Miss. Hospital",
          "Miss. LTC Facility",
          "Silver Creek PS",
          "Silverthorn PS",
          "St Teresa CS",
          "St. Thomas More SS",
          "Thornwood PS",
          "Village of Erin Meadows"
         ],
         "lat": [
          43.5872055,
          43.6280735,
          43.6182891,
          43.6228484,
          43.6167031,
          43.5840498,
          43.6080991,
          43.5926323,
          43.5730089,
          43.5716173,
          43.6272043,
          43.5829141,
          43.5810555,
          43.5927058,
          43.5715204,
          43.5497104,
          43.5930552,
          43.6068459,
          43.6130778,
          43.6053953,
          43.5890308,
          43.55311
         ],
         "legendgroup": "Dipika Damerla",
         "lon": [
          -79.6471354,
          -79.6046681,
          -79.5874355,
          -79.5992311,
          -79.5982973,
          -79.602443,
          -79.5967603,
          -79.670875,
          -79.6310687,
          -79.6157365,
          -79.5890909,
          -79.7529381,
          -79.6134288,
          -79.6133653,
          -79.6091088,
          -79.5910059,
          -79.6126499,
          -79.6123434,
          -79.6049064,
          -79.602156,
          -79.6210421,
          -79.7220114
         ],
         "marker": {
          "color": "gold",
          "size": [
           49,
           29,
           789,
           3354,
           749,
           1482,
           844,
           57,
           1834,
           709,
           598,
           5,
           17,
           648,
           9,
           6,
           549,
           738,
           662,
           896,
           538,
           81
          ],
          "sizemode": "area",
          "sizeref": 10.89,
          "symbol": "circle"
         },
         "mode": "markers",
         "name": "Dipika Damerla",
         "showlegend": true,
         "type": "scattergeo"
        },
        {
         "customdata": [
          [
           3,
           7,
           7,
           1,
           26
          ],
          [
           0,
           1,
           0,
           0,
           1
          ],
          [
           83,
           508,
           87,
           114,
           818
          ],
          [
           79,
           282,
           118,
           170,
           680
          ],
          [
           0,
           57,
           0,
           0,
           59
          ],
          [
           61,
           289,
           74,
           62,
           510
          ],
          [
           114,
           240,
           109,
           197,
           690
          ],
          [
           218,
           545,
           238,
           520,
           1589
          ],
          [
           315,
           1644,
           283,
           356,
           2728
          ],
          [
           85,
           438,
           120,
           150,
           828
          ],
          [
           2,
           36,
           6,
           2,
           51
          ],
          [
           91,
           544,
           101,
           120,
           886
          ],
          [
           74,
           571,
           115,
           176,
           990
          ],
          [
           100,
           588,
           125,
           154,
           1015
          ],
          [
           2,
           24,
           9,
           0,
           36
          ],
          [
           154,
           697,
           132,
           170,
           1194
          ],
          [
           98,
           241,
           100,
           165,
           624
          ],
          [
           0,
           7,
           2,
           0,
           11
          ],
          [
           6,
           18,
           4,
           8,
           38
          ],
          [
           1,
           12,
           3,
           1,
           27
          ],
          [
           106,
           726,
           118,
           184,
           1178
          ]
         ],
         "geo": "geo",
         "hovertemplate": "<b>%{hovertext}</b><br><br>winner=Stephen Dasko<br>total=%{customdata[4]}<br>latitude=%{lat}<br>longitude=%{lon}<br>Dipika Damerla=%{customdata[0]}<br>Stephen Dasko=%{customdata[1]}<br>Carolyn Parrish=%{customdata[2]}<br>Alvin Tedjo=%{customdata[3]}<extra></extra>",
         "hovertext": [
          "Amica at Erin Mills",
          "Extendicare Miss.",
          "Forest Avenue PS",
          "Green Glade Sr. PS",
          "Ivan Franko Homes",
          "Kenollie PS",
          "Lorne Park PS",
          "Lorne Park SS",
          "Miss. SC",
          "Port Credit Memorial",
          "Port Credit Residences",
          "Port Credit SS",
          "Queen of Heaven ES",
          "Riverside PS",
          "Shores of Port Credit RR",
          "Small Arms Inspection B",
          "St Luke Elementary CS",
          "The Erinview",
          "Walden Circle",
          "Wawel Villa",
          "Westacres PS"
         ],
         "lat": [
          43.5494828,
          43.6323779,
          43.5579743,
          43.5155364,
          43.5236,
          43.5571271,
          43.5371781,
          43.5314149,
          43.5786562,
          43.5527194,
          43.556471,
          43.5625863,
          43.5781665,
          43.5503199,
          43.545197,
          43.5836315,
          43.5470136,
          43.5347225,
          43.5140718,
          43.5133731,
          43.5902392
         ],
         "legendgroup": "Stephen Dasko",
         "lon": [
          -79.7167868,
          -79.7287037,
          -79.5826635,
          -79.6104368,
          -79.6871823,
          -79.5980484,
          -79.6279433,
          -79.6248636,
          -79.5754989,
          -79.5914341,
          -79.5854192,
          -79.5909255,
          -79.5671069,
          -79.590494,
          -79.5933064,
          -79.5502628,
          -79.6053124,
          -79.6673691,
          -79.6272619,
          -79.6215735,
          -79.5834708
         ],
         "marker": {
          "color": "blue",
          "size": [
           26,
           1,
           818,
           680,
           59,
           510,
           690,
           1589,
           2728,
           828,
           51,
           886,
           990,
           1015,
           36,
           1194,
           624,
           11,
           38,
           27,
           1178
          ],
          "sizemode": "area",
          "sizeref": 10.89,
          "symbol": "circle"
         },
         "mode": "markers",
         "name": "Stephen Dasko",
         "showlegend": true,
         "type": "scattergeo"
        },
        {
         "customdata": [
          [
           138,
           52,
           410,
           196,
           879
          ],
          [
           291,
           125,
           338,
           263,
           1122
          ],
          [
           1,
           0,
           4,
           0,
           8
          ],
          [
           60,
           18,
           255,
           50,
           454
          ],
          [
           213,
           109,
           221,
           158,
           773
          ],
          [
           216,
           69,
           306,
           212,
           865
          ],
          [
           172,
           106,
           357,
           310,
           1052
          ],
          [
           1,
           1,
           2,
           1,
           7
          ],
          [
           315,
           121,
           741,
           376,
           1725
          ],
          [
           208,
           75,
           571,
           353,
           1311
          ],
          [
           688,
           251,
           2006,
           1059,
           4355
          ],
          [
           152,
           61,
           437,
           243,
           960
          ],
          [
           1,
           0,
           6,
           2,
           13
          ],
          [
           1,
           1,
           4,
           1,
           14
          ],
          [
           208,
           96,
           429,
           306,
           1133
          ],
          [
           347,
           104,
           459,
           295,
           1318
          ],
          [
           4,
           6,
           12,
           5,
           33
          ],
          [
           0,
           0,
           5,
           1,
           7
          ],
          [
           326,
           94,
           449,
           311,
           1282
          ],
          [
           286,
           51,
           421,
           214,
           1029
          ],
          [
           35,
           14,
           172,
           49,
           343
          ],
          [
           219,
           93,
           523,
           358,
           1304
          ],
          [
           450,
           221,
           960,
           788,
           2719
          ],
          [
           307,
           67,
           342,
           208,
           988
          ],
          [
           187,
           73,
           390,
           166,
           922
          ],
          [
           813,
           338,
           1899,
           865,
           4356
          ],
          [
           204,
           74,
           387,
           185,
           962
          ],
          [
           766,
           431,
           830,
           421,
           2628
          ],
          [
           265,
           71,
           551,
           356,
           1339
          ],
          [
           1,
           0,
           5,
           0,
           7
          ],
          [
           287,
           48,
           1181,
           217,
           2140
          ],
          [
           5,
           2,
           7,
           1,
           23
          ],
          [
           55,
           15,
           191,
           42,
           350
          ],
          [
           231,
           167,
           242,
           102,
           788
          ],
          [
           159,
           123,
           488,
           251,
           1153
          ],
          [
           92,
           45,
           141,
           121,
           420
          ],
          [
           903,
           336,
           907,
           628,
           3076
          ],
          [
           587,
           293,
           1171,
           492,
           3052
          ],
          [
           63,
           13,
           199,
           33,
           354
          ],
          [
           139,
           152,
           163,
           81,
           569
          ],
          [
           72,
           177,
           193,
           134,
           643
          ],
          [
           131,
           61,
           402,
           208,
           870
          ],
          [
           221,
           135,
           355,
           324,
           1099
          ],
          [
           7,
           9,
           11,
           3,
           35
          ],
          [
           250,
           86,
           580,
           339,
           1352
          ],
          [
           51,
           10,
           269,
           49,
           435
          ],
          [
           741,
           304,
           1299,
           869,
           3463
          ],
          [
           9,
           3,
           20,
           0,
           44
          ],
          [
           102,
           72,
           279,
           192,
           725
          ],
          [
           2,
           1,
           3,
           1,
           12
          ],
          [
           125,
           52,
           251,
           201,
           679
          ],
          [
           1,
           0,
           6,
           0,
           20
          ],
          [
           129,
           109,
           246,
           230,
           803
          ],
          [
           166,
           122,
           372,
           267,
           1012
          ],
          [
           138,
           64,
           202,
           154,
           594
          ],
          [
           172,
           247,
           303,
           176,
           1004
          ],
          [
           177,
           78,
           460,
           303,
           1113
          ],
          [
           127,
           58,
           210,
           194,
           638
          ],
          [
           177,
           137,
           380,
           272,
           1068
          ],
          [
           104,
           94,
           273,
           211,
           736
          ],
          [
           150,
           71,
           327,
           226,
           841
          ],
          [
           128,
           52,
           357,
           156,
           779
          ],
          [
           233,
           131,
           442,
           253,
           1171
          ],
          [
           256,
           109,
           283,
           225,
           954
          ],
          [
           47,
           12,
           183,
           43,
           338
          ],
          [
           76,
           101,
           167,
           137,
           548
          ],
          [
           148,
           120,
           159,
           88,
           557
          ],
          [
           174,
           77,
           465,
           363,
           1173
          ],
          [
           188,
           118,
           354,
           272,
           997
          ],
          [
           282,
           250,
           292,
           201,
           1082
          ],
          [
           24,
           16,
           42,
           15,
           116
          ],
          [
           0,
           1,
           2,
           0,
           11
          ],
          [
           2,
           0,
           5,
           1,
           14
          ],
          [
           1,
           0,
           5,
           1,
           13
          ],
          [
           1,
           0,
           2,
           0,
           9
          ],
          [
           170,
           127,
           263,
           250,
           887
          ],
          [
           7,
           4,
           15,
           12,
           41
          ],
          [
           6,
           2,
           8,
           1,
           49
          ],
          [
           258,
           77,
           483,
           438,
           1363
          ],
          [
           157,
           58,
           323,
           162,
           761
          ]
         ],
         "geo": "geo",
         "hovertemplate": "<b>%{hovertext}</b><br><br>winner=Carolyn Parrish<br>total=%{customdata[4]}<br>latitude=%{lat}<br>longitude=%{lon}<br>Dipika Damerla=%{customdata[0]}<br>Stephen Dasko=%{customdata[1]}<br>Carolyn Parrish=%{customdata[2]}<br>Alvin Tedjo=%{customdata[3]}<extra></extra>",
         "hovertext": [
          "Artesian Drive PS",
          "Bishop Scalabrini SS",
          "Bough Beeches Place",
          "Brandon Gate PS",
          "Briarwood PS",
          "Britannia PS",
          "Castlebridge PS",
          "Cawthra Gardens LTC",
          "Champlain Trail PS",
          "Church. MDW CC",
          "Church. Mdws BL",
          "Church. Meadows PS",
          "Constitution Place RR",
          "Cooksville Lifecare CTR",
          "Corpus Christi SS",
          "Courtneypark CTR",
          "Credit River RR",
          "Credit Valley Hospital",
          "David Leeder MS",
          "Derry West Village PS",
          "Dunrankin Drive PS",
          "Edenrose PS",
          "Erin Meadows CC",
          "Fairview PS",
          "Fairwind Senior PS",
          "Frank McKech. CC",
          "Huntingt. Rdg PS",
          "Huron Park CC",
          "Kindree PS",
          "Leisure World CGC",
          "Malton CC",
          "Malton Village LTC CTR",
          "Marvin Heights PS",
          "Mary Fix CS",
          "McBride Avenue PS",
          "Meadowvale Village",
          "Miss. Valley CC",
          "Mississauga Civic Centre",
          "Morning Star MS",
          "Munden Park PS",
          "Oakridge PS",
          "Oscar Peterson PS",
          "Ray Underhill PS",
          "Regency RR",
          "Rick Hansen SS",
          "Ridgewood PS",
          "River Grove CC",
          "Robert Speck RR",
          "San Lorenzo Ruiz CS",
          "Sheridan Villa",
          "Sherwood Mills PS",
          "Silverthorn Care",
          "Springfield PS",
          "St Pio CS",
          "St Veronica CS",
          "St. Basil SS",
          "St. Bernadette CS",
          "St. Bernard of CCES",
          "St. Charles Garnier CS",
          "St. Gregory CS",
          "St. Herbert CS",
          "St. Hilary CS",
          "St. Matthew CS",
          "St. Philip CS",
          "St. Raphael CS",
          "St. Rose of Lima SS",
          "St. Timothy SS",
          "St. Valentine CS",
          "Streetsville Heritage Hall",
          "Sts. Martha and Mary CS",
          "Summerville Pines",
          "Sunrise Senior Living",
          "The Wenleigh",
          "Tyndall Seniors Village",
          "Villa Forum LTC",
          "Vista Heights PS",
          "Viva Mississauga",
          "Wellbrook Place",
          "Whitehorn PS",
          "Woodlands Library"
         ],
         "lat": [
          43.5430659,
          43.5846052,
          43.6259342,
          43.7325937,
          43.6023606,
          43.606447,
          43.567918,
          43.593105,
          43.6035776,
          43.5417764,
          43.5523473,
          43.5594022,
          43.6044454,
          43.5733207,
          43.5848992,
          43.6237988,
          43.5809046,
          43.5588588,
          43.6277822,
          43.6405762,
          43.7229135,
          43.5790671,
          43.5565129,
          43.5885973,
          43.6054269,
          43.6163705,
          43.5969757,
          43.558978,
          43.5831097,
          43.5732011,
          43.7236582,
          43.7159477,
          43.7153229,
          43.5673236,
          43.5637881,
          43.6273906,
          43.5971804,
          43.5889484,
          43.7137766,
          43.5830876,
          43.5408583,
          43.5451497,
          43.5935871,
          43.5491443,
          43.5888667,
          43.7152656,
          43.589527,
          43.5976281,
          43.6180267,
          43.5103547,
          43.5826276,
          43.5625723,
          43.5575639,
          43.6079926,
          43.6313618,
          43.6235856,
          43.581786,
          43.5475662,
          43.6056817,
          43.6094088,
          43.5861727,
          43.6042595,
          43.5995849,
          43.5789177,
          43.7213746,
          43.5608084,
          43.5799982,
          43.6008652,
          43.577515,
          43.6361798,
          43.6181184,
          43.6210063,
          43.5249046,
          43.6283952,
          43.6117334,
          43.5749911,
          43.559533,
          43.5244264,
          43.59617,
          43.5628379
         ],
         "legendgroup": "Carolyn Parrish",
         "lon": [
          -79.7196424,
          -79.6356674,
          -79.600813,
          -79.6415982,
          -79.6200006,
          -79.7076877,
          -79.7330462,
          -79.6037121,
          -79.6789137,
          -79.7442606,
          -79.7476441,
          -79.7485886,
          -79.5925296,
          -79.6098836,
          -79.6524935,
          -79.7102704,
          -79.7180094,
          -79.7044117,
          -79.7228387,
          -79.7235726,
          -79.6312316,
          -79.6761537,
          -79.7179229,
          -79.6370061,
          -79.6664973,
          -79.6556235,
          -79.6580513,
          -79.6339452,
          -79.7898674,
          -79.6073737,
          -79.6411812,
          -79.630437,
          -79.6531957,
          -79.6250006,
          -79.6474133,
          -79.7251369,
          -79.6244131,
          -79.6447259,
          -79.6481383,
          -79.5931146,
          -79.6338877,
          -79.7277799,
          -79.7230604,
          -79.5910142,
          -79.6839109,
          -79.6409166,
          -79.7125299,
          -79.6339871,
          -79.6642433,
          -79.6485975,
          -79.6849387,
          -79.6887481,
          -79.6544427,
          -79.6436836,
          -79.7176918,
          -79.6131205,
          -79.6737547,
          -79.7363096,
          -79.6327443,
          -79.7081828,
          -79.6847512,
          -79.6618068,
          -79.6560442,
          -79.6329483,
          -79.646495,
          -79.698749,
          -79.6005183,
          -79.6898744,
          -79.707977,
          -79.602457,
          -79.5765276,
          -79.6057242,
          -79.6522242,
          -79.6276524,
          -79.6518104,
          -79.7260753,
          -79.7353404,
          -79.6599716,
          -79.7029782,
          -79.6499096
         ],
         "marker": {
          "color": "red",
          "size": [
           879,
           1122,
           8,
           454,
           773,
           865,
           1052,
           7,
           1725,
           1311,
           4355,
           960,
           13,
           14,
           1133,
           1318,
           33,
           7,
           1282,
           1029,
           343,
           1304,
           2719,
           988,
           922,
           4356,
           962,
           2628,
           1339,
           7,
           2140,
           23,
           350,
           788,
           1153,
           420,
           3076,
           3052,
           354,
           569,
           643,
           870,
           1099,
           35,
           1352,
           435,
           3463,
           44,
           725,
           12,
           679,
           20,
           803,
           1012,
           594,
           1004,
           1113,
           638,
           1068,
           736,
           841,
           779,
           1171,
           954,
           338,
           548,
           557,
           1173,
           997,
           1082,
           116,
           11,
           14,
           13,
           9,
           887,
           41,
           49,
           1363,
           761
          ],
          "sizemode": "area",
          "sizeref": 10.89,
          "symbol": "circle"
         },
         "mode": "markers",
         "name": "Carolyn Parrish",
         "showlegend": true,
         "type": "scattergeo"
        }
       ],
       "layout": {
        "geo": {
         "center": {
          "lat": 43.6014499,
          "lon": -79.6750527
         },
         "domain": {
          "x": [
           0,
           1
          ],
          "y": [
           0,
           1
          ]
         },
         "projection": {
          "scale": 500
         },
         "resolution": 50
        },
        "height": 500,
        "legend": {
         "itemsizing": "constant",
         "title": {
          "text": "winner"
         },
         "tracegroupgap": 0
        },
        "template": {
         "data": {
          "bar": [
           {
            "error_x": {
             "color": "#2a3f5f"
            },
            "error_y": {
             "color": "#2a3f5f"
            },
            "marker": {
             "line": {
              "color": "#E5ECF6",
              "width": 0.5
             },
             "pattern": {
              "fillmode": "overlay",
              "size": 10,
              "solidity": 0.2
             }
            },
            "type": "bar"
           }
          ],
          "barpolar": [
           {
            "marker": {
             "line": {
              "color": "#E5ECF6",
              "width": 0.5
             },
             "pattern": {
              "fillmode": "overlay",
              "size": 10,
              "solidity": 0.2
             }
            },
            "type": "barpolar"
           }
          ],
          "carpet": [
           {
            "aaxis": {
             "endlinecolor": "#2a3f5f",
             "gridcolor": "white",
             "linecolor": "white",
             "minorgridcolor": "white",
             "startlinecolor": "#2a3f5f"
            },
            "baxis": {
             "endlinecolor": "#2a3f5f",
             "gridcolor": "white",
             "linecolor": "white",
             "minorgridcolor": "white",
             "startlinecolor": "#2a3f5f"
            },
            "type": "carpet"
           }
          ],
          "choropleth": [
           {
            "colorbar": {
             "outlinewidth": 0,
             "ticks": ""
            },
            "type": "choropleth"
           }
          ],
          "contour": [
           {
            "colorbar": {
             "outlinewidth": 0,
             "ticks": ""
            },
            "colorscale": [
             [
              0,
              "#0d0887"
             ],
             [
              0.1111111111111111,
              "#46039f"
             ],
             [
              0.2222222222222222,
              "#7201a8"
             ],
             [
              0.3333333333333333,
              "#9c179e"
             ],
             [
              0.4444444444444444,
              "#bd3786"
             ],
             [
              0.5555555555555556,
              "#d8576b"
             ],
             [
              0.6666666666666666,
              "#ed7953"
             ],
             [
              0.7777777777777778,
              "#fb9f3a"
             ],
             [
              0.8888888888888888,
              "#fdca26"
             ],
             [
              1,
              "#f0f921"
             ]
            ],
            "type": "contour"
           }
          ],
          "contourcarpet": [
           {
            "colorbar": {
             "outlinewidth": 0,
             "ticks": ""
            },
            "type": "contourcarpet"
           }
          ],
          "heatmap": [
           {
            "colorbar": {
             "outlinewidth": 0,
             "ticks": ""
            },
            "colorscale": [
             [
              0,
              "#0d0887"
             ],
             [
              0.1111111111111111,
              "#46039f"
             ],
             [
              0.2222222222222222,
              "#7201a8"
             ],
             [
              0.3333333333333333,
              "#9c179e"
             ],
             [
              0.4444444444444444,
              "#bd3786"
             ],
             [
              0.5555555555555556,
              "#d8576b"
             ],
             [
              0.6666666666666666,
              "#ed7953"
             ],
             [
              0.7777777777777778,
              "#fb9f3a"
             ],
             [
              0.8888888888888888,
              "#fdca26"
             ],
             [
              1,
              "#f0f921"
             ]
            ],
            "type": "heatmap"
           }
          ],
          "heatmapgl": [
           {
            "colorbar": {
             "outlinewidth": 0,
             "ticks": ""
            },
            "colorscale": [
             [
              0,
              "#0d0887"
             ],
             [
              0.1111111111111111,
              "#46039f"
             ],
             [
              0.2222222222222222,
              "#7201a8"
             ],
             [
              0.3333333333333333,
              "#9c179e"
             ],
             [
              0.4444444444444444,
              "#bd3786"
             ],
             [
              0.5555555555555556,
              "#d8576b"
             ],
             [
              0.6666666666666666,
              "#ed7953"
             ],
             [
              0.7777777777777778,
              "#fb9f3a"
             ],
             [
              0.8888888888888888,
              "#fdca26"
             ],
             [
              1,
              "#f0f921"
             ]
            ],
            "type": "heatmapgl"
           }
          ],
          "histogram": [
           {
            "marker": {
             "pattern": {
              "fillmode": "overlay",
              "size": 10,
              "solidity": 0.2
             }
            },
            "type": "histogram"
           }
          ],
          "histogram2d": [
           {
            "colorbar": {
             "outlinewidth": 0,
             "ticks": ""
            },
            "colorscale": [
             [
              0,
              "#0d0887"
             ],
             [
              0.1111111111111111,
              "#46039f"
             ],
             [
              0.2222222222222222,
              "#7201a8"
             ],
             [
              0.3333333333333333,
              "#9c179e"
             ],
             [
              0.4444444444444444,
              "#bd3786"
             ],
             [
              0.5555555555555556,
              "#d8576b"
             ],
             [
              0.6666666666666666,
              "#ed7953"
             ],
             [
              0.7777777777777778,
              "#fb9f3a"
             ],
             [
              0.8888888888888888,
              "#fdca26"
             ],
             [
              1,
              "#f0f921"
             ]
            ],
            "type": "histogram2d"
           }
          ],
          "histogram2dcontour": [
           {
            "colorbar": {
             "outlinewidth": 0,
             "ticks": ""
            },
            "colorscale": [
             [
              0,
              "#0d0887"
             ],
             [
              0.1111111111111111,
              "#46039f"
             ],
             [
              0.2222222222222222,
              "#7201a8"
             ],
             [
              0.3333333333333333,
              "#9c179e"
             ],
             [
              0.4444444444444444,
              "#bd3786"
             ],
             [
              0.5555555555555556,
              "#d8576b"
             ],
             [
              0.6666666666666666,
              "#ed7953"
             ],
             [
              0.7777777777777778,
              "#fb9f3a"
             ],
             [
              0.8888888888888888,
              "#fdca26"
             ],
             [
              1,
              "#f0f921"
             ]
            ],
            "type": "histogram2dcontour"
           }
          ],
          "mesh3d": [
           {
            "colorbar": {
             "outlinewidth": 0,
             "ticks": ""
            },
            "type": "mesh3d"
           }
          ],
          "parcoords": [
           {
            "line": {
             "colorbar": {
              "outlinewidth": 0,
              "ticks": ""
             }
            },
            "type": "parcoords"
           }
          ],
          "pie": [
           {
            "automargin": true,
            "type": "pie"
           }
          ],
          "scatter": [
           {
            "fillpattern": {
             "fillmode": "overlay",
             "size": 10,
             "solidity": 0.2
            },
            "type": "scatter"
           }
          ],
          "scatter3d": [
           {
            "line": {
             "colorbar": {
              "outlinewidth": 0,
              "ticks": ""
             }
            },
            "marker": {
             "colorbar": {
              "outlinewidth": 0,
              "ticks": ""
             }
            },
            "type": "scatter3d"
           }
          ],
          "scattercarpet": [
           {
            "marker": {
             "colorbar": {
              "outlinewidth": 0,
              "ticks": ""
             }
            },
            "type": "scattercarpet"
           }
          ],
          "scattergeo": [
           {
            "marker": {
             "colorbar": {
              "outlinewidth": 0,
              "ticks": ""
             }
            },
            "type": "scattergeo"
           }
          ],
          "scattergl": [
           {
            "marker": {
             "colorbar": {
              "outlinewidth": 0,
              "ticks": ""
             }
            },
            "type": "scattergl"
           }
          ],
          "scattermapbox": [
           {
            "marker": {
             "colorbar": {
              "outlinewidth": 0,
              "ticks": ""
             }
            },
            "type": "scattermapbox"
           }
          ],
          "scatterpolar": [
           {
            "marker": {
             "colorbar": {
              "outlinewidth": 0,
              "ticks": ""
             }
            },
            "type": "scatterpolar"
           }
          ],
          "scatterpolargl": [
           {
            "marker": {
             "colorbar": {
              "outlinewidth": 0,
              "ticks": ""
             }
            },
            "type": "scatterpolargl"
           }
          ],
          "scatterternary": [
           {
            "marker": {
             "colorbar": {
              "outlinewidth": 0,
              "ticks": ""
             }
            },
            "type": "scatterternary"
           }
          ],
          "surface": [
           {
            "colorbar": {
             "outlinewidth": 0,
             "ticks": ""
            },
            "colorscale": [
             [
              0,
              "#0d0887"
             ],
             [
              0.1111111111111111,
              "#46039f"
             ],
             [
              0.2222222222222222,
              "#7201a8"
             ],
             [
              0.3333333333333333,
              "#9c179e"
             ],
             [
              0.4444444444444444,
              "#bd3786"
             ],
             [
              0.5555555555555556,
              "#d8576b"
             ],
             [
              0.6666666666666666,
              "#ed7953"
             ],
             [
              0.7777777777777778,
              "#fb9f3a"
             ],
             [
              0.8888888888888888,
              "#fdca26"
             ],
             [
              1,
              "#f0f921"
             ]
            ],
            "type": "surface"
           }
          ],
          "table": [
           {
            "cells": {
             "fill": {
              "color": "#EBF0F8"
             },
             "line": {
              "color": "white"
             }
            },
            "header": {
             "fill": {
              "color": "#C8D4E3"
             },
             "line": {
              "color": "white"
             }
            },
            "type": "table"
           }
          ]
         },
         "layout": {
          "annotationdefaults": {
           "arrowcolor": "#2a3f5f",
           "arrowhead": 0,
           "arrowwidth": 1
          },
          "autotypenumbers": "strict",
          "coloraxis": {
           "colorbar": {
            "outlinewidth": 0,
            "ticks": ""
           }
          },
          "colorscale": {
           "diverging": [
            [
             0,
             "#8e0152"
            ],
            [
             0.1,
             "#c51b7d"
            ],
            [
             0.2,
             "#de77ae"
            ],
            [
             0.3,
             "#f1b6da"
            ],
            [
             0.4,
             "#fde0ef"
            ],
            [
             0.5,
             "#f7f7f7"
            ],
            [
             0.6,
             "#e6f5d0"
            ],
            [
             0.7,
             "#b8e186"
            ],
            [
             0.8,
             "#7fbc41"
            ],
            [
             0.9,
             "#4d9221"
            ],
            [
             1,
             "#276419"
            ]
           ],
           "sequential": [
            [
             0,
             "#0d0887"
            ],
            [
             0.1111111111111111,
             "#46039f"
            ],
            [
             0.2222222222222222,
             "#7201a8"
            ],
            [
             0.3333333333333333,
             "#9c179e"
            ],
            [
             0.4444444444444444,
             "#bd3786"
            ],
            [
             0.5555555555555556,
             "#d8576b"
            ],
            [
             0.6666666666666666,
             "#ed7953"
            ],
            [
             0.7777777777777778,
             "#fb9f3a"
            ],
            [
             0.8888888888888888,
             "#fdca26"
            ],
            [
             1,
             "#f0f921"
            ]
           ],
           "sequentialminus": [
            [
             0,
             "#0d0887"
            ],
            [
             0.1111111111111111,
             "#46039f"
            ],
            [
             0.2222222222222222,
             "#7201a8"
            ],
            [
             0.3333333333333333,
             "#9c179e"
            ],
            [
             0.4444444444444444,
             "#bd3786"
            ],
            [
             0.5555555555555556,
             "#d8576b"
            ],
            [
             0.6666666666666666,
             "#ed7953"
            ],
            [
             0.7777777777777778,
             "#fb9f3a"
            ],
            [
             0.8888888888888888,
             "#fdca26"
            ],
            [
             1,
             "#f0f921"
            ]
           ]
          },
          "colorway": [
           "#636efa",
           "#EF553B",
           "#00cc96",
           "#ab63fa",
           "#FFA15A",
           "#19d3f3",
           "#FF6692",
           "#B6E880",
           "#FF97FF",
           "#FECB52"
          ],
          "font": {
           "color": "#2a3f5f"
          },
          "geo": {
           "bgcolor": "white",
           "lakecolor": "white",
           "landcolor": "#E5ECF6",
           "showlakes": true,
           "showland": true,
           "subunitcolor": "white"
          },
          "hoverlabel": {
           "align": "left"
          },
          "hovermode": "closest",
          "mapbox": {
           "style": "light"
          },
          "paper_bgcolor": "white",
          "plot_bgcolor": "#E5ECF6",
          "polar": {
           "angularaxis": {
            "gridcolor": "white",
            "linecolor": "white",
            "ticks": ""
           },
           "bgcolor": "#E5ECF6",
           "radialaxis": {
            "gridcolor": "white",
            "linecolor": "white",
            "ticks": ""
           }
          },
          "scene": {
           "xaxis": {
            "backgroundcolor": "#E5ECF6",
            "gridcolor": "white",
            "gridwidth": 2,
            "linecolor": "white",
            "showbackground": true,
            "ticks": "",
            "zerolinecolor": "white"
           },
           "yaxis": {
            "backgroundcolor": "#E5ECF6",
            "gridcolor": "white",
            "gridwidth": 2,
            "linecolor": "white",
            "showbackground": true,
            "ticks": "",
            "zerolinecolor": "white"
           },
           "zaxis": {
            "backgroundcolor": "#E5ECF6",
            "gridcolor": "white",
            "gridwidth": 2,
            "linecolor": "white",
            "showbackground": true,
            "ticks": "",
            "zerolinecolor": "white"
           }
          },
          "shapedefaults": {
           "line": {
            "color": "#2a3f5f"
           }
          },
          "ternary": {
           "aaxis": {
            "gridcolor": "white",
            "linecolor": "white",
            "ticks": ""
           },
           "baxis": {
            "gridcolor": "white",
            "linecolor": "white",
            "ticks": ""
           },
           "bgcolor": "#E5ECF6",
           "caxis": {
            "gridcolor": "white",
            "linecolor": "white",
            "ticks": ""
           }
          },
          "title": {
           "x": 0.05
          },
          "xaxis": {
           "automargin": true,
           "gridcolor": "white",
           "linecolor": "white",
           "ticks": "",
           "title": {
            "standoff": 15
           },
           "zerolinecolor": "white",
           "zerolinewidth": 2
          },
          "yaxis": {
           "automargin": true,
           "gridcolor": "white",
           "linecolor": "white",
           "ticks": "",
           "title": {
            "standoff": 15
           },
           "zerolinecolor": "white",
           "zerolinewidth": 2
          }
         }
        },
        "title": {
         "text": "<b>2024 Mississauga By-Election Polling Results</b> <br>Larger bubbles mean more votes at that location"
        },
        "width": 600
       }
      }
     },
     "metadata": {},
     "output_type": "display_data"
    }
   ],
   "source": [
    "import plotly.express as px\n",
    "\n",
    "# Colours to use for plot\n",
    "winner_colours = {\n",
    "    \"Dipika Damerla\": \"gold\",\n",
    "    \"Stephen Dasko\": \"blue\",\n",
    "    \"Carolyn Parrish\": \"red\",\n",
    "    \"Alvin Tedjo\": \"green\"\n",
    "}\n",
    "\n",
    "px.set_mapbox_access_token(open(\".mapbox_token\").read())\n",
    "# fig = px.scatter_mapbox(df_loc_join, lat='latitude', lon='longitude', color='winner', color_discrete_map=winner_colours,\n",
    "#                      hover_name=\"location\", size='total', size_max=20, zoom=9, width=600, height=500,\n",
    "#                      hover_data=[\"Dipika Damerla\", \"Stephen Dasko\", \"Carolyn Parrish\", \"Alvin Tedjo\", \"total\"],\n",
    "#                      title='<b>2024 Mississauga By-Election Polling Results</b> <br>Larger bubbles mean more votes at that location')\n",
    "fig = px.scatter_geo(df_loc_join, lat='latitude', lon='longitude', color='winner', color_discrete_map=winner_colours,\n",
    "                     hover_name=\"location\", size='total', size_max=20, width=600, height=500,\n",
    "                     hover_data=[\"Dipika Damerla\", \"Stephen Dasko\", \"Carolyn Parrish\", \"Alvin Tedjo\", \"total\"],\n",
    "                     title='<b>2024 Mississauga By-Election Polling Results</b> <br>Larger bubbles mean more votes at that location')\n",
    "fig.update_layout(\n",
    "        geo = dict(\n",
    "            projection_scale=500, #this is kind of like zoom\n",
    "            center=dict(lat=43.6014499, lon=-79.6750527), # this will center on the point\n",
    "            resolution=50\n",
    "        ))\n",
    "fig.show()"
   ]
  },
  {
   "cell_type": "code",
   "execution_count": 25,
   "metadata": {},
   "outputs": [],
   "source": [
    "fig.write_html(\"html/full_opacity.html\")"
   ]
  },
  {
   "cell_type": "code",
   "execution_count": 47,
   "metadata": {},
   "outputs": [
    {
     "data": {
      "application/vnd.plotly.v1+json": {
       "config": {
        "plotlyServerURL": "https://plot.ly"
       },
       "data": [
        {
         "customdata": [
          [
           222,
           245,
           375,
           441,
           1418
          ],
          [
           162,
           163,
           350,
           353,
           1113
          ],
          [
           456,
           752,
           704,
           1425,
           3577
          ],
          [
           145,
           218,
           145,
           361,
           923
          ],
          [
           235,
           108,
           324,
           347,
           1129
          ],
          [
           132,
           156,
           219,
           254,
           849
          ],
          [
           223,
           106,
           292,
           318,
           1024
          ],
          [
           164,
           323,
           170,
           362,
           1051
          ],
          [
           727,
           352,
           1208,
           1333,
           4024
          ],
          [
           126,
           86,
           171,
           313,
           750
          ],
          [
           130,
           102,
           216,
           254,
           806
          ],
          [
           8,
           20,
           18,
           21,
           72
          ],
          [
           66,
           68,
           124,
           166,
           468
          ],
          [
           106,
           77,
           200,
           301,
           731
          ],
          [
           74,
           75,
           140,
           170,
           508
          ],
          [
           48,
           126,
           176,
           415,
           800
          ],
          [
           551,
           476,
           904,
           1084,
           3353
          ],
          [
           92,
           132,
           134,
           512,
           916
          ],
          [
           193,
           110,
           277,
           322,
           976
          ],
          [
           174,
           122,
           276,
           363,
           994
          ],
          [
           121,
           73,
           252,
           272,
           796
          ],
          [
           168,
           66,
           172,
           185,
           635
          ],
          [
           226,
           343,
           397,
           516,
           1578
          ],
          [
           204,
           182,
           333,
           421,
           1234
          ],
          [
           180,
           152,
           372,
           416,
           1221
          ],
          [
           73,
           81,
           178,
           295,
           688
          ],
          [
           30,
           70,
           46,
           83,
           259
          ],
          [
           109,
           162,
           207,
           296,
           850
          ],
          [
           255,
           260,
           276,
           377,
           1237
          ],
          [
           129,
           84,
           177,
           325,
           789
          ],
          [
           208,
           94,
           400,
           416,
           1215
          ],
          [
           206,
           129,
           257,
           306,
           979
          ],
          [
           115,
           64,
           154,
           162,
           539
          ],
          [
           1,
           0,
           1,
           2,
           6
          ],
          [
           2,
           2,
           1,
           3,
           8
          ]
         ],
         "geo": "geo",
         "hovertemplate": "<b>%{hovertext}</b><br><br>winner=Alvin Tedjo<br>Alvin Tedjo=%{customdata[3]}<br>latitude=%{lat}<br>longitude=%{lon}<br>Dipika Damerla=%{customdata[0]}<br>Stephen Dasko=%{customdata[1]}<br>Carolyn Parrish=%{customdata[2]}<br>total=%{customdata[4]}<extra></extra>",
         "hovertext": [
          "All Saints SS",
          "Christ the King CS",
          "Clarkson CC",
          "Clarkson PS",
          "Credit Valley PS",
          "Erindale SS",
          "Levi Creek PS",
          "Lorne Pk Library",
          "Meadowvale CC",
          "Miller's Grove PS",
          "Our Lady of Mercy CS",
          "Parkland on the Glen",
          "Queenston Drive PS",
          "Settler's Green PS",
          "Shelter Bay PS",
          "Sheridan Park PS",
          "South Common CC",
          "St Francis of Assisi CS",
          "St John of the Cross CS",
          "St Therese of CJCS",
          "St. Albert of JRS CS",
          "St. Catherine CS",
          "St. Clare SS",
          "St. David of Wales SS",
          "St. Edith Stein CS",
          "St. Elizabeth Seton CS",
          "St. Helen SS",
          "St. Margaret CS",
          "St. Mark SS",
          "St. Richard CS",
          "St. Simon Stock CS",
          "Streetsville SS",
          "Sts. Peter & Paul SS",
          "Sunrise Senior Living",
          "Yee Hong Centre for GC"
         ],
         "lat": [
          43.5317405,
          43.5242194,
          43.5113661,
          43.5141232,
          43.554487,
          43.5389206,
          43.6228975,
          43.5310891,
          43.5853306,
          43.572413,
          43.5696264,
          43.5439155,
          43.5615863,
          43.5782088,
          43.5870021,
          43.5297859,
          43.5424495,
          43.5265014,
          43.5793532,
          43.5796082,
          43.580593,
          43.5741493,
          43.5457362,
          43.5749633,
          43.5666543,
          43.577775,
          43.5058688,
          43.536244,
          43.5521723,
          43.5938591,
          43.565415,
          43.5785392,
          43.6023154,
          43.6210063,
          43.604795
         ],
         "legendgroup": "Alvin Tedjo",
         "lon": [
          -79.7111131,
          -79.6959164,
          -79.6504247,
          -79.6213433,
          -79.7071146,
          -79.6670068,
          -79.7481073,
          -79.6277885,
          -79.7567823,
          -79.7561184,
          -79.7336824,
          -79.6645419,
          -79.6621594,
          -79.7514064,
          -79.7630757,
          -79.6662338,
          -79.6849221,
          -79.6724038,
          -79.7687787,
          -79.7775446,
          -79.7917009,
          -79.6116201,
          -79.6967984,
          -79.6666871,
          -79.7591338,
          -79.7417853,
          -79.6515695,
          -79.6770143,
          -79.6813384,
          -79.7712012,
          -79.7706664,
          -79.7204597,
          -79.6353669,
          -79.6057242,
          -79.6871976
         ],
         "marker": {
          "color": "green",
          "size": [
           441,
           353,
           1425,
           361,
           347,
           254,
           318,
           362,
           1333,
           313,
           254,
           21,
           166,
           301,
           170,
           415,
           1084,
           512,
           322,
           363,
           272,
           185,
           516,
           421,
           416,
           295,
           83,
           296,
           377,
           325,
           416,
           306,
           162,
           2,
           3
          ],
          "sizemode": "area",
          "sizeref": 3.5625,
          "symbol": "circle"
         },
         "mode": "markers",
         "name": "Alvin Tedjo",
         "showlegend": true,
         "type": "scattergeo"
        },
        {
         "customdata": [
          [
           19,
           7,
           8,
           3,
           49
          ],
          [
           8,
           5,
           8,
           3,
           29
          ],
          [
           289,
           113,
           191,
           100,
           789
          ],
          [
           1042,
           446,
           864,
           662,
           3354
          ],
          [
           346,
           153,
           129,
           79,
           749
          ],
          [
           482,
           270,
           394,
           223,
           1482
          ],
          [
           289,
           139,
           196,
           135,
           844
          ],
          [
           20,
           3,
           16,
           13,
           57
          ],
          [
           554,
           185,
           543,
           426,
           1834
          ],
          [
           237,
           121,
           230,
           81,
           709
          ],
          [
           213,
           71,
           171,
           87,
           598
          ],
          [
           2,
           1,
           0,
           2,
           5
          ],
          [
           6,
           4,
           3,
           0,
           17
          ],
          [
           193,
           129,
           135,
           154,
           648
          ],
          [
           3,
           1,
           2,
           1,
           9
          ],
          [
           0,
           0,
           0,
           0,
           6
          ],
          [
           162,
           133,
           103,
           106,
           549
          ],
          [
           291,
           146,
           128,
           106,
           738
          ],
          [
           223,
           147,
           142,
           101,
           662
          ],
          [
           281,
           166,
           213,
           127,
           896
          ],
          [
           174,
           44,
           124,
           155,
           538
          ],
          [
           26,
           9,
           24,
           10,
           81
          ]
         ],
         "geo": "geo",
         "hovertemplate": "<b>%{hovertext}</b><br><br>winner=Dipika Damerla<br>Alvin Tedjo=%{customdata[3]}<br>latitude=%{lat}<br>longitude=%{lon}<br>Dipika Damerla=%{customdata[0]}<br>Stephen Dasko=%{customdata[1]}<br>Carolyn Parrish=%{customdata[2]}<br>total=%{customdata[4]}<extra></extra>",
         "hovertext": [
          "Amica at City Centre",
          "Beechwood Place RR",
          "Brian W Fleming PS",
          "Burnhamthorpe CC",
          "Burnhamthorpe PS",
          "Clifton PS",
          "Dixie PS",
          "Evergreen Retirement",
          "Father Dan. Zan. CS",
          "Floradale PS",
          "Forest Glen PS",
          "Heritage Glen",
          "King Gardens RR",
          "Metropolitan Andrei CS",
          "Miss. Hospital",
          "Miss. LTC Facility",
          "Silver Creek PS",
          "Silverthorn PS",
          "St Teresa CS",
          "St. Thomas More SS",
          "Thornwood PS",
          "Village of Erin Meadows"
         ],
         "lat": [
          43.5872055,
          43.6280735,
          43.6182891,
          43.6228484,
          43.6167031,
          43.5840498,
          43.6080991,
          43.5926323,
          43.5730089,
          43.5716173,
          43.6272043,
          43.5829141,
          43.5810555,
          43.5927058,
          43.5715204,
          43.5497104,
          43.5930552,
          43.6068459,
          43.6130778,
          43.6053953,
          43.5890308,
          43.55311
         ],
         "legendgroup": "Dipika Damerla",
         "lon": [
          -79.6471354,
          -79.6046681,
          -79.5874355,
          -79.5992311,
          -79.5982973,
          -79.602443,
          -79.5967603,
          -79.670875,
          -79.6310687,
          -79.6157365,
          -79.5890909,
          -79.7529381,
          -79.6134288,
          -79.6133653,
          -79.6091088,
          -79.5910059,
          -79.6126499,
          -79.6123434,
          -79.6049064,
          -79.602156,
          -79.6210421,
          -79.7220114
         ],
         "marker": {
          "color": "gold",
          "size": [
           3,
           3,
           100,
           662,
           79,
           223,
           135,
           13,
           426,
           81,
           87,
           2,
           0,
           154,
           1,
           0,
           106,
           106,
           101,
           127,
           155,
           10
          ],
          "sizemode": "area",
          "sizeref": 3.5625,
          "symbol": "circle"
         },
         "mode": "markers",
         "name": "Dipika Damerla",
         "showlegend": true,
         "type": "scattergeo"
        },
        {
         "customdata": [
          [
           3,
           7,
           7,
           1,
           26
          ],
          [
           0,
           1,
           0,
           0,
           1
          ],
          [
           83,
           508,
           87,
           114,
           818
          ],
          [
           79,
           282,
           118,
           170,
           680
          ],
          [
           0,
           57,
           0,
           0,
           59
          ],
          [
           61,
           289,
           74,
           62,
           510
          ],
          [
           114,
           240,
           109,
           197,
           690
          ],
          [
           218,
           545,
           238,
           520,
           1589
          ],
          [
           315,
           1644,
           283,
           356,
           2728
          ],
          [
           85,
           438,
           120,
           150,
           828
          ],
          [
           2,
           36,
           6,
           2,
           51
          ],
          [
           91,
           544,
           101,
           120,
           886
          ],
          [
           74,
           571,
           115,
           176,
           990
          ],
          [
           100,
           588,
           125,
           154,
           1015
          ],
          [
           2,
           24,
           9,
           0,
           36
          ],
          [
           154,
           697,
           132,
           170,
           1194
          ],
          [
           98,
           241,
           100,
           165,
           624
          ],
          [
           0,
           7,
           2,
           0,
           11
          ],
          [
           6,
           18,
           4,
           8,
           38
          ],
          [
           1,
           12,
           3,
           1,
           27
          ],
          [
           106,
           726,
           118,
           184,
           1178
          ]
         ],
         "geo": "geo",
         "hovertemplate": "<b>%{hovertext}</b><br><br>winner=Stephen Dasko<br>Alvin Tedjo=%{customdata[3]}<br>latitude=%{lat}<br>longitude=%{lon}<br>Dipika Damerla=%{customdata[0]}<br>Stephen Dasko=%{customdata[1]}<br>Carolyn Parrish=%{customdata[2]}<br>total=%{customdata[4]}<extra></extra>",
         "hovertext": [
          "Amica at Erin Mills",
          "Extendicare Miss.",
          "Forest Avenue PS",
          "Green Glade Sr. PS",
          "Ivan Franko Homes",
          "Kenollie PS",
          "Lorne Park PS",
          "Lorne Park SS",
          "Miss. SC",
          "Port Credit Memorial",
          "Port Credit Residences",
          "Port Credit SS",
          "Queen of Heaven ES",
          "Riverside PS",
          "Shores of Port Credit RR",
          "Small Arms Inspection B",
          "St Luke Elementary CS",
          "The Erinview",
          "Walden Circle",
          "Wawel Villa",
          "Westacres PS"
         ],
         "lat": [
          43.5494828,
          43.6323779,
          43.5579743,
          43.5155364,
          43.5236,
          43.5571271,
          43.5371781,
          43.5314149,
          43.5786562,
          43.5527194,
          43.556471,
          43.5625863,
          43.5781665,
          43.5503199,
          43.545197,
          43.5836315,
          43.5470136,
          43.5347225,
          43.5140718,
          43.5133731,
          43.5902392
         ],
         "legendgroup": "Stephen Dasko",
         "lon": [
          -79.7167868,
          -79.7287037,
          -79.5826635,
          -79.6104368,
          -79.6871823,
          -79.5980484,
          -79.6279433,
          -79.6248636,
          -79.5754989,
          -79.5914341,
          -79.5854192,
          -79.5909255,
          -79.5671069,
          -79.590494,
          -79.5933064,
          -79.5502628,
          -79.6053124,
          -79.6673691,
          -79.6272619,
          -79.6215735,
          -79.5834708
         ],
         "marker": {
          "color": "blue",
          "size": [
           1,
           0,
           114,
           170,
           0,
           62,
           197,
           520,
           356,
           150,
           2,
           120,
           176,
           154,
           0,
           170,
           165,
           0,
           8,
           1,
           184
          ],
          "sizemode": "area",
          "sizeref": 3.5625,
          "symbol": "circle"
         },
         "mode": "markers",
         "name": "Stephen Dasko",
         "showlegend": true,
         "type": "scattergeo"
        },
        {
         "customdata": [
          [
           138,
           52,
           410,
           196,
           879
          ],
          [
           291,
           125,
           338,
           263,
           1122
          ],
          [
           1,
           0,
           4,
           0,
           8
          ],
          [
           60,
           18,
           255,
           50,
           454
          ],
          [
           213,
           109,
           221,
           158,
           773
          ],
          [
           216,
           69,
           306,
           212,
           865
          ],
          [
           172,
           106,
           357,
           310,
           1052
          ],
          [
           1,
           1,
           2,
           1,
           7
          ],
          [
           315,
           121,
           741,
           376,
           1725
          ],
          [
           208,
           75,
           571,
           353,
           1311
          ],
          [
           688,
           251,
           2006,
           1059,
           4355
          ],
          [
           152,
           61,
           437,
           243,
           960
          ],
          [
           1,
           0,
           6,
           2,
           13
          ],
          [
           1,
           1,
           4,
           1,
           14
          ],
          [
           208,
           96,
           429,
           306,
           1133
          ],
          [
           347,
           104,
           459,
           295,
           1318
          ],
          [
           4,
           6,
           12,
           5,
           33
          ],
          [
           0,
           0,
           5,
           1,
           7
          ],
          [
           326,
           94,
           449,
           311,
           1282
          ],
          [
           286,
           51,
           421,
           214,
           1029
          ],
          [
           35,
           14,
           172,
           49,
           343
          ],
          [
           219,
           93,
           523,
           358,
           1304
          ],
          [
           450,
           221,
           960,
           788,
           2719
          ],
          [
           307,
           67,
           342,
           208,
           988
          ],
          [
           187,
           73,
           390,
           166,
           922
          ],
          [
           813,
           338,
           1899,
           865,
           4356
          ],
          [
           204,
           74,
           387,
           185,
           962
          ],
          [
           766,
           431,
           830,
           421,
           2628
          ],
          [
           265,
           71,
           551,
           356,
           1339
          ],
          [
           1,
           0,
           5,
           0,
           7
          ],
          [
           287,
           48,
           1181,
           217,
           2140
          ],
          [
           5,
           2,
           7,
           1,
           23
          ],
          [
           55,
           15,
           191,
           42,
           350
          ],
          [
           231,
           167,
           242,
           102,
           788
          ],
          [
           159,
           123,
           488,
           251,
           1153
          ],
          [
           92,
           45,
           141,
           121,
           420
          ],
          [
           903,
           336,
           907,
           628,
           3076
          ],
          [
           587,
           293,
           1171,
           492,
           3052
          ],
          [
           63,
           13,
           199,
           33,
           354
          ],
          [
           139,
           152,
           163,
           81,
           569
          ],
          [
           72,
           177,
           193,
           134,
           643
          ],
          [
           131,
           61,
           402,
           208,
           870
          ],
          [
           221,
           135,
           355,
           324,
           1099
          ],
          [
           7,
           9,
           11,
           3,
           35
          ],
          [
           250,
           86,
           580,
           339,
           1352
          ],
          [
           51,
           10,
           269,
           49,
           435
          ],
          [
           741,
           304,
           1299,
           869,
           3463
          ],
          [
           9,
           3,
           20,
           0,
           44
          ],
          [
           102,
           72,
           279,
           192,
           725
          ],
          [
           2,
           1,
           3,
           1,
           12
          ],
          [
           125,
           52,
           251,
           201,
           679
          ],
          [
           1,
           0,
           6,
           0,
           20
          ],
          [
           129,
           109,
           246,
           230,
           803
          ],
          [
           166,
           122,
           372,
           267,
           1012
          ],
          [
           138,
           64,
           202,
           154,
           594
          ],
          [
           172,
           247,
           303,
           176,
           1004
          ],
          [
           177,
           78,
           460,
           303,
           1113
          ],
          [
           127,
           58,
           210,
           194,
           638
          ],
          [
           177,
           137,
           380,
           272,
           1068
          ],
          [
           104,
           94,
           273,
           211,
           736
          ],
          [
           150,
           71,
           327,
           226,
           841
          ],
          [
           128,
           52,
           357,
           156,
           779
          ],
          [
           233,
           131,
           442,
           253,
           1171
          ],
          [
           256,
           109,
           283,
           225,
           954
          ],
          [
           47,
           12,
           183,
           43,
           338
          ],
          [
           76,
           101,
           167,
           137,
           548
          ],
          [
           148,
           120,
           159,
           88,
           557
          ],
          [
           174,
           77,
           465,
           363,
           1173
          ],
          [
           188,
           118,
           354,
           272,
           997
          ],
          [
           282,
           250,
           292,
           201,
           1082
          ],
          [
           24,
           16,
           42,
           15,
           116
          ],
          [
           0,
           1,
           2,
           0,
           11
          ],
          [
           2,
           0,
           5,
           1,
           14
          ],
          [
           1,
           0,
           5,
           1,
           13
          ],
          [
           1,
           0,
           2,
           0,
           9
          ],
          [
           170,
           127,
           263,
           250,
           887
          ],
          [
           7,
           4,
           15,
           12,
           41
          ],
          [
           6,
           2,
           8,
           1,
           49
          ],
          [
           258,
           77,
           483,
           438,
           1363
          ],
          [
           157,
           58,
           323,
           162,
           761
          ]
         ],
         "geo": "geo",
         "hovertemplate": "<b>%{hovertext}</b><br><br>winner=Carolyn Parrish<br>Alvin Tedjo=%{customdata[3]}<br>latitude=%{lat}<br>longitude=%{lon}<br>Dipika Damerla=%{customdata[0]}<br>Stephen Dasko=%{customdata[1]}<br>Carolyn Parrish=%{customdata[2]}<br>total=%{customdata[4]}<extra></extra>",
         "hovertext": [
          "Artesian Drive PS",
          "Bishop Scalabrini SS",
          "Bough Beeches Place",
          "Brandon Gate PS",
          "Briarwood PS",
          "Britannia PS",
          "Castlebridge PS",
          "Cawthra Gardens LTC",
          "Champlain Trail PS",
          "Church. MDW CC",
          "Church. Mdws BL",
          "Church. Meadows PS",
          "Constitution Place RR",
          "Cooksville Lifecare CTR",
          "Corpus Christi SS",
          "Courtneypark CTR",
          "Credit River RR",
          "Credit Valley Hospital",
          "David Leeder MS",
          "Derry West Village PS",
          "Dunrankin Drive PS",
          "Edenrose PS",
          "Erin Meadows CC",
          "Fairview PS",
          "Fairwind Senior PS",
          "Frank McKech. CC",
          "Huntingt. Rdg PS",
          "Huron Park CC",
          "Kindree PS",
          "Leisure World CGC",
          "Malton CC",
          "Malton Village LTC CTR",
          "Marvin Heights PS",
          "Mary Fix CS",
          "McBride Avenue PS",
          "Meadowvale Village",
          "Miss. Valley CC",
          "Mississauga Civic Centre",
          "Morning Star MS",
          "Munden Park PS",
          "Oakridge PS",
          "Oscar Peterson PS",
          "Ray Underhill PS",
          "Regency RR",
          "Rick Hansen SS",
          "Ridgewood PS",
          "River Grove CC",
          "Robert Speck RR",
          "San Lorenzo Ruiz CS",
          "Sheridan Villa",
          "Sherwood Mills PS",
          "Silverthorn Care",
          "Springfield PS",
          "St Pio CS",
          "St Veronica CS",
          "St. Basil SS",
          "St. Bernadette CS",
          "St. Bernard of CCES",
          "St. Charles Garnier CS",
          "St. Gregory CS",
          "St. Herbert CS",
          "St. Hilary CS",
          "St. Matthew CS",
          "St. Philip CS",
          "St. Raphael CS",
          "St. Rose of Lima SS",
          "St. Timothy SS",
          "St. Valentine CS",
          "Streetsville Heritage Hall",
          "Sts. Martha and Mary CS",
          "Summerville Pines",
          "Sunrise Senior Living",
          "The Wenleigh",
          "Tyndall Seniors Village",
          "Villa Forum LTC",
          "Vista Heights PS",
          "Viva Mississauga",
          "Wellbrook Place",
          "Whitehorn PS",
          "Woodlands Library"
         ],
         "lat": [
          43.5430659,
          43.5846052,
          43.6259342,
          43.7325937,
          43.6023606,
          43.606447,
          43.567918,
          43.593105,
          43.6035776,
          43.5417764,
          43.5523473,
          43.5594022,
          43.6044454,
          43.5733207,
          43.5848992,
          43.6237988,
          43.5809046,
          43.5588588,
          43.6277822,
          43.6405762,
          43.7229135,
          43.5790671,
          43.5565129,
          43.5885973,
          43.6054269,
          43.6163705,
          43.5969757,
          43.558978,
          43.5831097,
          43.5732011,
          43.7236582,
          43.7159477,
          43.7153229,
          43.5673236,
          43.5637881,
          43.6273906,
          43.5971804,
          43.5889484,
          43.7137766,
          43.5830876,
          43.5408583,
          43.5451497,
          43.5935871,
          43.5491443,
          43.5888667,
          43.7152656,
          43.589527,
          43.5976281,
          43.6180267,
          43.5103547,
          43.5826276,
          43.5625723,
          43.5575639,
          43.6079926,
          43.6313618,
          43.6235856,
          43.581786,
          43.5475662,
          43.6056817,
          43.6094088,
          43.5861727,
          43.6042595,
          43.5995849,
          43.5789177,
          43.7213746,
          43.5608084,
          43.5799982,
          43.6008652,
          43.577515,
          43.6361798,
          43.6181184,
          43.6210063,
          43.5249046,
          43.6283952,
          43.6117334,
          43.5749911,
          43.559533,
          43.5244264,
          43.59617,
          43.5628379
         ],
         "legendgroup": "Carolyn Parrish",
         "lon": [
          -79.7196424,
          -79.6356674,
          -79.600813,
          -79.6415982,
          -79.6200006,
          -79.7076877,
          -79.7330462,
          -79.6037121,
          -79.6789137,
          -79.7442606,
          -79.7476441,
          -79.7485886,
          -79.5925296,
          -79.6098836,
          -79.6524935,
          -79.7102704,
          -79.7180094,
          -79.7044117,
          -79.7228387,
          -79.7235726,
          -79.6312316,
          -79.6761537,
          -79.7179229,
          -79.6370061,
          -79.6664973,
          -79.6556235,
          -79.6580513,
          -79.6339452,
          -79.7898674,
          -79.6073737,
          -79.6411812,
          -79.630437,
          -79.6531957,
          -79.6250006,
          -79.6474133,
          -79.7251369,
          -79.6244131,
          -79.6447259,
          -79.6481383,
          -79.5931146,
          -79.6338877,
          -79.7277799,
          -79.7230604,
          -79.5910142,
          -79.6839109,
          -79.6409166,
          -79.7125299,
          -79.6339871,
          -79.6642433,
          -79.6485975,
          -79.6849387,
          -79.6887481,
          -79.6544427,
          -79.6436836,
          -79.7176918,
          -79.6131205,
          -79.6737547,
          -79.7363096,
          -79.6327443,
          -79.7081828,
          -79.6847512,
          -79.6618068,
          -79.6560442,
          -79.6329483,
          -79.646495,
          -79.698749,
          -79.6005183,
          -79.6898744,
          -79.707977,
          -79.602457,
          -79.5765276,
          -79.6057242,
          -79.6522242,
          -79.6276524,
          -79.6518104,
          -79.7260753,
          -79.7353404,
          -79.6599716,
          -79.7029782,
          -79.6499096
         ],
         "marker": {
          "color": "red",
          "size": [
           196,
           263,
           0,
           50,
           158,
           212,
           310,
           1,
           376,
           353,
           1059,
           243,
           2,
           1,
           306,
           295,
           5,
           1,
           311,
           214,
           49,
           358,
           788,
           208,
           166,
           865,
           185,
           421,
           356,
           0,
           217,
           1,
           42,
           102,
           251,
           121,
           628,
           492,
           33,
           81,
           134,
           208,
           324,
           3,
           339,
           49,
           869,
           0,
           192,
           1,
           201,
           0,
           230,
           267,
           154,
           176,
           303,
           194,
           272,
           211,
           226,
           156,
           253,
           225,
           43,
           137,
           88,
           363,
           272,
           201,
           15,
           0,
           1,
           1,
           0,
           250,
           12,
           1,
           438,
           162
          ],
          "sizemode": "area",
          "sizeref": 3.5625,
          "symbol": "circle"
         },
         "mode": "markers",
         "name": "Carolyn Parrish",
         "showlegend": true,
         "type": "scattergeo"
        }
       ],
       "layout": {
        "geo": {
         "center": {
          "lat": 43.6014499,
          "lon": -79.6750527
         },
         "domain": {
          "x": [
           0,
           1
          ],
          "y": [
           0,
           1
          ]
         },
         "projection": {
          "scale": 500
         },
         "resolution": 50
        },
        "height": 500,
        "legend": {
         "itemsizing": "constant",
         "title": {
          "text": "winner"
         },
         "tracegroupgap": 0
        },
        "template": {
         "data": {
          "bar": [
           {
            "error_x": {
             "color": "#2a3f5f"
            },
            "error_y": {
             "color": "#2a3f5f"
            },
            "marker": {
             "line": {
              "color": "#E5ECF6",
              "width": 0.5
             },
             "pattern": {
              "fillmode": "overlay",
              "size": 10,
              "solidity": 0.2
             }
            },
            "type": "bar"
           }
          ],
          "barpolar": [
           {
            "marker": {
             "line": {
              "color": "#E5ECF6",
              "width": 0.5
             },
             "pattern": {
              "fillmode": "overlay",
              "size": 10,
              "solidity": 0.2
             }
            },
            "type": "barpolar"
           }
          ],
          "carpet": [
           {
            "aaxis": {
             "endlinecolor": "#2a3f5f",
             "gridcolor": "white",
             "linecolor": "white",
             "minorgridcolor": "white",
             "startlinecolor": "#2a3f5f"
            },
            "baxis": {
             "endlinecolor": "#2a3f5f",
             "gridcolor": "white",
             "linecolor": "white",
             "minorgridcolor": "white",
             "startlinecolor": "#2a3f5f"
            },
            "type": "carpet"
           }
          ],
          "choropleth": [
           {
            "colorbar": {
             "outlinewidth": 0,
             "ticks": ""
            },
            "type": "choropleth"
           }
          ],
          "contour": [
           {
            "colorbar": {
             "outlinewidth": 0,
             "ticks": ""
            },
            "colorscale": [
             [
              0,
              "#0d0887"
             ],
             [
              0.1111111111111111,
              "#46039f"
             ],
             [
              0.2222222222222222,
              "#7201a8"
             ],
             [
              0.3333333333333333,
              "#9c179e"
             ],
             [
              0.4444444444444444,
              "#bd3786"
             ],
             [
              0.5555555555555556,
              "#d8576b"
             ],
             [
              0.6666666666666666,
              "#ed7953"
             ],
             [
              0.7777777777777778,
              "#fb9f3a"
             ],
             [
              0.8888888888888888,
              "#fdca26"
             ],
             [
              1,
              "#f0f921"
             ]
            ],
            "type": "contour"
           }
          ],
          "contourcarpet": [
           {
            "colorbar": {
             "outlinewidth": 0,
             "ticks": ""
            },
            "type": "contourcarpet"
           }
          ],
          "heatmap": [
           {
            "colorbar": {
             "outlinewidth": 0,
             "ticks": ""
            },
            "colorscale": [
             [
              0,
              "#0d0887"
             ],
             [
              0.1111111111111111,
              "#46039f"
             ],
             [
              0.2222222222222222,
              "#7201a8"
             ],
             [
              0.3333333333333333,
              "#9c179e"
             ],
             [
              0.4444444444444444,
              "#bd3786"
             ],
             [
              0.5555555555555556,
              "#d8576b"
             ],
             [
              0.6666666666666666,
              "#ed7953"
             ],
             [
              0.7777777777777778,
              "#fb9f3a"
             ],
             [
              0.8888888888888888,
              "#fdca26"
             ],
             [
              1,
              "#f0f921"
             ]
            ],
            "type": "heatmap"
           }
          ],
          "heatmapgl": [
           {
            "colorbar": {
             "outlinewidth": 0,
             "ticks": ""
            },
            "colorscale": [
             [
              0,
              "#0d0887"
             ],
             [
              0.1111111111111111,
              "#46039f"
             ],
             [
              0.2222222222222222,
              "#7201a8"
             ],
             [
              0.3333333333333333,
              "#9c179e"
             ],
             [
              0.4444444444444444,
              "#bd3786"
             ],
             [
              0.5555555555555556,
              "#d8576b"
             ],
             [
              0.6666666666666666,
              "#ed7953"
             ],
             [
              0.7777777777777778,
              "#fb9f3a"
             ],
             [
              0.8888888888888888,
              "#fdca26"
             ],
             [
              1,
              "#f0f921"
             ]
            ],
            "type": "heatmapgl"
           }
          ],
          "histogram": [
           {
            "marker": {
             "pattern": {
              "fillmode": "overlay",
              "size": 10,
              "solidity": 0.2
             }
            },
            "type": "histogram"
           }
          ],
          "histogram2d": [
           {
            "colorbar": {
             "outlinewidth": 0,
             "ticks": ""
            },
            "colorscale": [
             [
              0,
              "#0d0887"
             ],
             [
              0.1111111111111111,
              "#46039f"
             ],
             [
              0.2222222222222222,
              "#7201a8"
             ],
             [
              0.3333333333333333,
              "#9c179e"
             ],
             [
              0.4444444444444444,
              "#bd3786"
             ],
             [
              0.5555555555555556,
              "#d8576b"
             ],
             [
              0.6666666666666666,
              "#ed7953"
             ],
             [
              0.7777777777777778,
              "#fb9f3a"
             ],
             [
              0.8888888888888888,
              "#fdca26"
             ],
             [
              1,
              "#f0f921"
             ]
            ],
            "type": "histogram2d"
           }
          ],
          "histogram2dcontour": [
           {
            "colorbar": {
             "outlinewidth": 0,
             "ticks": ""
            },
            "colorscale": [
             [
              0,
              "#0d0887"
             ],
             [
              0.1111111111111111,
              "#46039f"
             ],
             [
              0.2222222222222222,
              "#7201a8"
             ],
             [
              0.3333333333333333,
              "#9c179e"
             ],
             [
              0.4444444444444444,
              "#bd3786"
             ],
             [
              0.5555555555555556,
              "#d8576b"
             ],
             [
              0.6666666666666666,
              "#ed7953"
             ],
             [
              0.7777777777777778,
              "#fb9f3a"
             ],
             [
              0.8888888888888888,
              "#fdca26"
             ],
             [
              1,
              "#f0f921"
             ]
            ],
            "type": "histogram2dcontour"
           }
          ],
          "mesh3d": [
           {
            "colorbar": {
             "outlinewidth": 0,
             "ticks": ""
            },
            "type": "mesh3d"
           }
          ],
          "parcoords": [
           {
            "line": {
             "colorbar": {
              "outlinewidth": 0,
              "ticks": ""
             }
            },
            "type": "parcoords"
           }
          ],
          "pie": [
           {
            "automargin": true,
            "type": "pie"
           }
          ],
          "scatter": [
           {
            "fillpattern": {
             "fillmode": "overlay",
             "size": 10,
             "solidity": 0.2
            },
            "type": "scatter"
           }
          ],
          "scatter3d": [
           {
            "line": {
             "colorbar": {
              "outlinewidth": 0,
              "ticks": ""
             }
            },
            "marker": {
             "colorbar": {
              "outlinewidth": 0,
              "ticks": ""
             }
            },
            "type": "scatter3d"
           }
          ],
          "scattercarpet": [
           {
            "marker": {
             "colorbar": {
              "outlinewidth": 0,
              "ticks": ""
             }
            },
            "type": "scattercarpet"
           }
          ],
          "scattergeo": [
           {
            "marker": {
             "colorbar": {
              "outlinewidth": 0,
              "ticks": ""
             }
            },
            "type": "scattergeo"
           }
          ],
          "scattergl": [
           {
            "marker": {
             "colorbar": {
              "outlinewidth": 0,
              "ticks": ""
             }
            },
            "type": "scattergl"
           }
          ],
          "scattermapbox": [
           {
            "marker": {
             "colorbar": {
              "outlinewidth": 0,
              "ticks": ""
             }
            },
            "type": "scattermapbox"
           }
          ],
          "scatterpolar": [
           {
            "marker": {
             "colorbar": {
              "outlinewidth": 0,
              "ticks": ""
             }
            },
            "type": "scatterpolar"
           }
          ],
          "scatterpolargl": [
           {
            "marker": {
             "colorbar": {
              "outlinewidth": 0,
              "ticks": ""
             }
            },
            "type": "scatterpolargl"
           }
          ],
          "scatterternary": [
           {
            "marker": {
             "colorbar": {
              "outlinewidth": 0,
              "ticks": ""
             }
            },
            "type": "scatterternary"
           }
          ],
          "surface": [
           {
            "colorbar": {
             "outlinewidth": 0,
             "ticks": ""
            },
            "colorscale": [
             [
              0,
              "#0d0887"
             ],
             [
              0.1111111111111111,
              "#46039f"
             ],
             [
              0.2222222222222222,
              "#7201a8"
             ],
             [
              0.3333333333333333,
              "#9c179e"
             ],
             [
              0.4444444444444444,
              "#bd3786"
             ],
             [
              0.5555555555555556,
              "#d8576b"
             ],
             [
              0.6666666666666666,
              "#ed7953"
             ],
             [
              0.7777777777777778,
              "#fb9f3a"
             ],
             [
              0.8888888888888888,
              "#fdca26"
             ],
             [
              1,
              "#f0f921"
             ]
            ],
            "type": "surface"
           }
          ],
          "table": [
           {
            "cells": {
             "fill": {
              "color": "#EBF0F8"
             },
             "line": {
              "color": "white"
             }
            },
            "header": {
             "fill": {
              "color": "#C8D4E3"
             },
             "line": {
              "color": "white"
             }
            },
            "type": "table"
           }
          ]
         },
         "layout": {
          "annotationdefaults": {
           "arrowcolor": "#2a3f5f",
           "arrowhead": 0,
           "arrowwidth": 1
          },
          "autotypenumbers": "strict",
          "coloraxis": {
           "colorbar": {
            "outlinewidth": 0,
            "ticks": ""
           }
          },
          "colorscale": {
           "diverging": [
            [
             0,
             "#8e0152"
            ],
            [
             0.1,
             "#c51b7d"
            ],
            [
             0.2,
             "#de77ae"
            ],
            [
             0.3,
             "#f1b6da"
            ],
            [
             0.4,
             "#fde0ef"
            ],
            [
             0.5,
             "#f7f7f7"
            ],
            [
             0.6,
             "#e6f5d0"
            ],
            [
             0.7,
             "#b8e186"
            ],
            [
             0.8,
             "#7fbc41"
            ],
            [
             0.9,
             "#4d9221"
            ],
            [
             1,
             "#276419"
            ]
           ],
           "sequential": [
            [
             0,
             "#0d0887"
            ],
            [
             0.1111111111111111,
             "#46039f"
            ],
            [
             0.2222222222222222,
             "#7201a8"
            ],
            [
             0.3333333333333333,
             "#9c179e"
            ],
            [
             0.4444444444444444,
             "#bd3786"
            ],
            [
             0.5555555555555556,
             "#d8576b"
            ],
            [
             0.6666666666666666,
             "#ed7953"
            ],
            [
             0.7777777777777778,
             "#fb9f3a"
            ],
            [
             0.8888888888888888,
             "#fdca26"
            ],
            [
             1,
             "#f0f921"
            ]
           ],
           "sequentialminus": [
            [
             0,
             "#0d0887"
            ],
            [
             0.1111111111111111,
             "#46039f"
            ],
            [
             0.2222222222222222,
             "#7201a8"
            ],
            [
             0.3333333333333333,
             "#9c179e"
            ],
            [
             0.4444444444444444,
             "#bd3786"
            ],
            [
             0.5555555555555556,
             "#d8576b"
            ],
            [
             0.6666666666666666,
             "#ed7953"
            ],
            [
             0.7777777777777778,
             "#fb9f3a"
            ],
            [
             0.8888888888888888,
             "#fdca26"
            ],
            [
             1,
             "#f0f921"
            ]
           ]
          },
          "colorway": [
           "#636efa",
           "#EF553B",
           "#00cc96",
           "#ab63fa",
           "#FFA15A",
           "#19d3f3",
           "#FF6692",
           "#B6E880",
           "#FF97FF",
           "#FECB52"
          ],
          "font": {
           "color": "#2a3f5f"
          },
          "geo": {
           "bgcolor": "white",
           "lakecolor": "white",
           "landcolor": "#E5ECF6",
           "showlakes": true,
           "showland": true,
           "subunitcolor": "white"
          },
          "hoverlabel": {
           "align": "left"
          },
          "hovermode": "closest",
          "mapbox": {
           "style": "light"
          },
          "paper_bgcolor": "white",
          "plot_bgcolor": "#E5ECF6",
          "polar": {
           "angularaxis": {
            "gridcolor": "white",
            "linecolor": "white",
            "ticks": ""
           },
           "bgcolor": "#E5ECF6",
           "radialaxis": {
            "gridcolor": "white",
            "linecolor": "white",
            "ticks": ""
           }
          },
          "scene": {
           "xaxis": {
            "backgroundcolor": "#E5ECF6",
            "gridcolor": "white",
            "gridwidth": 2,
            "linecolor": "white",
            "showbackground": true,
            "ticks": "",
            "zerolinecolor": "white"
           },
           "yaxis": {
            "backgroundcolor": "#E5ECF6",
            "gridcolor": "white",
            "gridwidth": 2,
            "linecolor": "white",
            "showbackground": true,
            "ticks": "",
            "zerolinecolor": "white"
           },
           "zaxis": {
            "backgroundcolor": "#E5ECF6",
            "gridcolor": "white",
            "gridwidth": 2,
            "linecolor": "white",
            "showbackground": true,
            "ticks": "",
            "zerolinecolor": "white"
           }
          },
          "shapedefaults": {
           "line": {
            "color": "#2a3f5f"
           }
          },
          "ternary": {
           "aaxis": {
            "gridcolor": "white",
            "linecolor": "white",
            "ticks": ""
           },
           "baxis": {
            "gridcolor": "white",
            "linecolor": "white",
            "ticks": ""
           },
           "bgcolor": "#E5ECF6",
           "caxis": {
            "gridcolor": "white",
            "linecolor": "white",
            "ticks": ""
           }
          },
          "title": {
           "x": 0.05
          },
          "xaxis": {
           "automargin": true,
           "gridcolor": "white",
           "linecolor": "white",
           "ticks": "",
           "title": {
            "standoff": 15
           },
           "zerolinecolor": "white",
           "zerolinewidth": 2
          },
          "yaxis": {
           "automargin": true,
           "gridcolor": "white",
           "linecolor": "white",
           "ticks": "",
           "title": {
            "standoff": 15
           },
           "zerolinecolor": "white",
           "zerolinewidth": 2
          }
         }
        },
        "title": {
         "text": "<b>2024 Mississauga By-Election Polling Results</b> <br>Larger bubbles mean more votes for Alvin at that location"
        },
        "width": 600
       }
      }
     },
     "metadata": {},
     "output_type": "display_data"
    }
   ],
   "source": [
    "# Change size to be Alvin's votes\n",
    "fig2 = px.scatter_geo(df_loc_join, lat='latitude', lon='longitude', color='winner', color_discrete_map=winner_colours,\n",
    "                     hover_name=\"location\", size='Alvin Tedjo', size_max=20, width=600, height=500, #zoom=9,\n",
    "                     hover_data=[\"Dipika Damerla\", \"Stephen Dasko\", \"Carolyn Parrish\", \"Alvin Tedjo\", \"total\"],\n",
    "                     title='<b>2024 Mississauga By-Election Polling Results</b> <br>Larger bubbles mean more votes for Alvin at that location')\n",
    "fig2.update_layout(\n",
    "        geo = dict(\n",
    "            projection_scale=500, #this is kind of like zoom\n",
    "            center=dict(lat=43.6014499, lon=-79.6750527), # this will center on the point\n",
    "            resolution=50\n",
    "        ))"
   ]
  },
  {
   "cell_type": "markdown",
   "metadata": {},
   "source": [
    "This is too pale, remove RR to fix scale\n",
    "\n",
    "Also, reformat the data to work with graph_objects so that we can make the opacity correspond to the winning vote margin"
   ]
  },
  {
   "cell_type": "code",
   "execution_count": 54,
   "metadata": {},
   "outputs": [
    {
     "data": {
      "text/html": [
       "<div>\n",
       "<style scoped>\n",
       "    .dataframe tbody tr th:only-of-type {\n",
       "        vertical-align: middle;\n",
       "    }\n",
       "\n",
       "    .dataframe tbody tr th {\n",
       "        vertical-align: top;\n",
       "    }\n",
       "\n",
       "    .dataframe thead th {\n",
       "        text-align: right;\n",
       "    }\n",
       "</style>\n",
       "<table border=\"1\" class=\"dataframe\">\n",
       "  <thead>\n",
       "    <tr style=\"text-align: right;\">\n",
       "      <th></th>\n",
       "      <th>location</th>\n",
       "      <th>ward</th>\n",
       "      <th>Dipika Damerla</th>\n",
       "      <th>Stephen Dasko</th>\n",
       "      <th>Carolyn Parrish</th>\n",
       "      <th>Alvin Tedjo</th>\n",
       "      <th>total</th>\n",
       "      <th>is_rr</th>\n",
       "      <th>address</th>\n",
       "      <th>latitude</th>\n",
       "      <th>longitude</th>\n",
       "      <th>winner</th>\n",
       "      <th>vote_percentage</th>\n",
       "      <th>marker_color</th>\n",
       "      <th>marker_size</th>\n",
       "      <th>alvin_marker_size</th>\n",
       "      <th>hover_text</th>\n",
       "    </tr>\n",
       "  </thead>\n",
       "  <tbody>\n",
       "    <tr>\n",
       "      <th>138</th>\n",
       "      <td>Sts. Martha and Mary CS</td>\n",
       "      <td>3</td>\n",
       "      <td>282</td>\n",
       "      <td>250</td>\n",
       "      <td>292</td>\n",
       "      <td>201</td>\n",
       "      <td>1082</td>\n",
       "      <td>False</td>\n",
       "      <td></td>\n",
       "      <td>43.636180</td>\n",
       "      <td>-79.602457</td>\n",
       "      <td>Carolyn Parrish</td>\n",
       "      <td>0.230843</td>\n",
       "      <td>rgba(255, 0, 0, 0.23084269670863025)</td>\n",
       "      <td>9.967809</td>\n",
       "      <td>7.511395</td>\n",
       "      <td>Winner: Carolyn Parrish&lt;br&gt;\\nTotal votes: 1082...</td>\n",
       "    </tr>\n",
       "    <tr>\n",
       "      <th>134</th>\n",
       "      <td>St. Timothy SS</td>\n",
       "      <td>7</td>\n",
       "      <td>148</td>\n",
       "      <td>120</td>\n",
       "      <td>159</td>\n",
       "      <td>88</td>\n",
       "      <td>557</td>\n",
       "      <td>False</td>\n",
       "      <td>2214 Cliff Rd, Mississauga, ON L5A 2N9</td>\n",
       "      <td>43.579998</td>\n",
       "      <td>-79.600518</td>\n",
       "      <td>Carolyn Parrish</td>\n",
       "      <td>0.465864</td>\n",
       "      <td>rgba(255, 0, 0, 0.46586427484481296)</td>\n",
       "      <td>7.151772</td>\n",
       "      <td>4.970086</td>\n",
       "      <td>Winner: Carolyn Parrish&lt;br&gt;\\nTotal votes: 557&lt;...</td>\n",
       "    </tr>\n",
       "    <tr>\n",
       "      <th>24</th>\n",
       "      <td>Cooksville Lifecare CTR</td>\n",
       "      <td>7</td>\n",
       "      <td>1</td>\n",
       "      <td>1</td>\n",
       "      <td>4</td>\n",
       "      <td>1</td>\n",
       "      <td>14</td>\n",
       "      <td>False</td>\n",
       "      <td>55 Queensway W, Mississauga, ON L5B 1B5</td>\n",
       "      <td>43.573321</td>\n",
       "      <td>-79.609884</td>\n",
       "      <td>Carolyn Parrish</td>\n",
       "      <td>0.467655</td>\n",
       "      <td>rgba(255, 0, 0, 0.46765475779109994)</td>\n",
       "      <td>1.133836</td>\n",
       "      <td>0.529813</td>\n",
       "      <td>Winner: Carolyn Parrish&lt;br&gt;\\nTotal votes: 14&lt;b...</td>\n",
       "    </tr>\n",
       "    <tr>\n",
       "      <th>9</th>\n",
       "      <td>Briarwood PS</td>\n",
       "      <td>4</td>\n",
       "      <td>213</td>\n",
       "      <td>109</td>\n",
       "      <td>221</td>\n",
       "      <td>158</td>\n",
       "      <td>773</td>\n",
       "      <td>False</td>\n",
       "      <td></td>\n",
       "      <td>43.602361</td>\n",
       "      <td>-79.620001</td>\n",
       "      <td>Carolyn Parrish</td>\n",
       "      <td>0.468932</td>\n",
       "      <td>rgba(255, 0, 0, 0.46893228973377055)</td>\n",
       "      <td>8.425114</td>\n",
       "      <td>6.659645</td>\n",
       "      <td>Winner: Carolyn Parrish&lt;br&gt;\\nTotal votes: 773&lt;...</td>\n",
       "    </tr>\n",
       "    <tr>\n",
       "      <th>74</th>\n",
       "      <td>Munden Park PS</td>\n",
       "      <td>7</td>\n",
       "      <td>139</td>\n",
       "      <td>152</td>\n",
       "      <td>163</td>\n",
       "      <td>81</td>\n",
       "      <td>569</td>\n",
       "      <td>False</td>\n",
       "      <td>515 Tedwyn Dr, Mississauga, ON L5A 1J8</td>\n",
       "      <td>43.583088</td>\n",
       "      <td>-79.593115</td>\n",
       "      <td>Carolyn Parrish</td>\n",
       "      <td>0.472797</td>\n",
       "      <td>rgba(255, 0, 0, 0.47279735436408815)</td>\n",
       "      <td>7.228400</td>\n",
       "      <td>4.768316</td>\n",
       "      <td>Winner: Carolyn Parrish&lt;br&gt;\\nTotal votes: 569&lt;...</td>\n",
       "    </tr>\n",
       "    <tr>\n",
       "      <th>...</th>\n",
       "      <td>...</td>\n",
       "      <td>...</td>\n",
       "      <td>...</td>\n",
       "      <td>...</td>\n",
       "      <td>...</td>\n",
       "      <td>...</td>\n",
       "      <td>...</td>\n",
       "      <td>...</td>\n",
       "      <td>...</td>\n",
       "      <td>...</td>\n",
       "      <td>...</td>\n",
       "      <td>...</td>\n",
       "      <td>...</td>\n",
       "      <td>...</td>\n",
       "      <td>...</td>\n",
       "      <td>...</td>\n",
       "      <td>...</td>\n",
       "    </tr>\n",
       "    <tr>\n",
       "      <th>70</th>\n",
       "      <td>Miss. SC</td>\n",
       "      <td>1</td>\n",
       "      <td>315</td>\n",
       "      <td>1644</td>\n",
       "      <td>283</td>\n",
       "      <td>356</td>\n",
       "      <td>2728</td>\n",
       "      <td>False</td>\n",
       "      <td>1389 Cawthra Rd, Mississauga, ON L5G 4L1</td>\n",
       "      <td>43.578656</td>\n",
       "      <td>-79.575499</td>\n",
       "      <td>Stephen Dasko</td>\n",
       "      <td>0.986683</td>\n",
       "      <td>rgba(0, 0, 255, 0.9866827519058263)</td>\n",
       "      <td>15.827351</td>\n",
       "      <td>9.996491</td>\n",
       "      <td>Winner: Stephen Dasko&lt;br&gt;\\nTotal votes: 2728&lt;b...</td>\n",
       "    </tr>\n",
       "    <tr>\n",
       "      <th>81</th>\n",
       "      <td>Port Credit SS</td>\n",
       "      <td>1</td>\n",
       "      <td>91</td>\n",
       "      <td>544</td>\n",
       "      <td>101</td>\n",
       "      <td>120</td>\n",
       "      <td>886</td>\n",
       "      <td>False</td>\n",
       "      <td>70 Mineola Rd E, Mississauga, ON L5G 2E5</td>\n",
       "      <td>43.562586</td>\n",
       "      <td>-79.590925</td>\n",
       "      <td>Stephen Dasko</td>\n",
       "      <td>0.994971</td>\n",
       "      <td>rgba(0, 0, 255, 0.9949705007140692)</td>\n",
       "      <td>9.019925</td>\n",
       "      <td>5.803810</td>\n",
       "      <td>Winner: Stephen Dasko&lt;br&gt;\\nTotal votes: 886&lt;br...</td>\n",
       "    </tr>\n",
       "    <tr>\n",
       "      <th>154</th>\n",
       "      <td>Westacres PS</td>\n",
       "      <td>1</td>\n",
       "      <td>106</td>\n",
       "      <td>726</td>\n",
       "      <td>118</td>\n",
       "      <td>184</td>\n",
       "      <td>1178</td>\n",
       "      <td>False</td>\n",
       "      <td>2165 Breezy Brae Dr, Mississauga, ON L4Y 1N3</td>\n",
       "      <td>43.590239</td>\n",
       "      <td>-79.583471</td>\n",
       "      <td>Stephen Dasko</td>\n",
       "      <td>0.996626</td>\n",
       "      <td>rgba(0, 0, 255, 0.9966264435820429)</td>\n",
       "      <td>10.400607</td>\n",
       "      <td>7.186732</td>\n",
       "      <td>Winner: Stephen Dasko&lt;br&gt;\\nTotal votes: 1178&lt;b...</td>\n",
       "    </tr>\n",
       "    <tr>\n",
       "      <th>87</th>\n",
       "      <td>Ridgewood PS</td>\n",
       "      <td>5</td>\n",
       "      <td>51</td>\n",
       "      <td>10</td>\n",
       "      <td>269</td>\n",
       "      <td>49</td>\n",
       "      <td>435</td>\n",
       "      <td>False</td>\n",
       "      <td></td>\n",
       "      <td>43.715266</td>\n",
       "      <td>-79.640917</td>\n",
       "      <td>Carolyn Parrish</td>\n",
       "      <td>0.998123</td>\n",
       "      <td>rgba(255, 0, 0, 0.9981233314591352)</td>\n",
       "      <td>6.320198</td>\n",
       "      <td>3.708691</td>\n",
       "      <td>Winner: Carolyn Parrish&lt;br&gt;\\nTotal votes: 435&lt;...</td>\n",
       "    </tr>\n",
       "    <tr>\n",
       "      <th>43</th>\n",
       "      <td>Forest Avenue PS</td>\n",
       "      <td>1</td>\n",
       "      <td>83</td>\n",
       "      <td>508</td>\n",
       "      <td>87</td>\n",
       "      <td>114</td>\n",
       "      <td>818</td>\n",
       "      <td>False</td>\n",
       "      <td>20 Forest Ave, Mississauga, ON L5G 1K7</td>\n",
       "      <td>43.557974</td>\n",
       "      <td>-79.582663</td>\n",
       "      <td>Stephen Dasko</td>\n",
       "      <td>1.000000</td>\n",
       "      <td>rgba(0, 0, 255, 1.0)</td>\n",
       "      <td>8.666879</td>\n",
       "      <td>5.656854</td>\n",
       "      <td>Winner: Stephen Dasko&lt;br&gt;\\nTotal votes: 818&lt;br...</td>\n",
       "    </tr>\n",
       "  </tbody>\n",
       "</table>\n",
       "<p>122 rows × 17 columns</p>\n",
       "</div>"
      ],
      "text/plain": [
       "                    location ward  Dipika Damerla  Stephen Dasko  \\\n",
       "138  Sts. Martha and Mary CS    3             282            250   \n",
       "134           St. Timothy SS    7             148            120   \n",
       "24   Cooksville Lifecare CTR    7               1              1   \n",
       "9               Briarwood PS    4             213            109   \n",
       "74            Munden Park PS    7             139            152   \n",
       "..                       ...  ...             ...            ...   \n",
       "70                  Miss. SC    1             315           1644   \n",
       "81            Port Credit SS    1              91            544   \n",
       "154             Westacres PS    1             106            726   \n",
       "87              Ridgewood PS    5              51             10   \n",
       "43          Forest Avenue PS    1              83            508   \n",
       "\n",
       "     Carolyn Parrish  Alvin Tedjo  total  is_rr  \\\n",
       "138              292          201   1082  False   \n",
       "134              159           88    557  False   \n",
       "24                 4            1     14  False   \n",
       "9                221          158    773  False   \n",
       "74               163           81    569  False   \n",
       "..               ...          ...    ...    ...   \n",
       "70               283          356   2728  False   \n",
       "81               101          120    886  False   \n",
       "154              118          184   1178  False   \n",
       "87               269           49    435  False   \n",
       "43                87          114    818  False   \n",
       "\n",
       "                                          address   latitude  longitude  \\\n",
       "138                                                43.636180 -79.602457   \n",
       "134        2214 Cliff Rd, Mississauga, ON L5A 2N9  43.579998 -79.600518   \n",
       "24        55 Queensway W, Mississauga, ON L5B 1B5  43.573321 -79.609884   \n",
       "9                                                  43.602361 -79.620001   \n",
       "74         515 Tedwyn Dr, Mississauga, ON L5A 1J8  43.583088 -79.593115   \n",
       "..                                            ...        ...        ...   \n",
       "70       1389 Cawthra Rd, Mississauga, ON L5G 4L1  43.578656 -79.575499   \n",
       "81       70 Mineola Rd E, Mississauga, ON L5G 2E5  43.562586 -79.590925   \n",
       "154  2165 Breezy Brae Dr, Mississauga, ON L4Y 1N3  43.590239 -79.583471   \n",
       "87                                                 43.715266 -79.640917   \n",
       "43         20 Forest Ave, Mississauga, ON L5G 1K7  43.557974 -79.582663   \n",
       "\n",
       "              winner  vote_percentage                          marker_color  \\\n",
       "138  Carolyn Parrish         0.230843  rgba(255, 0, 0, 0.23084269670863025)   \n",
       "134  Carolyn Parrish         0.465864  rgba(255, 0, 0, 0.46586427484481296)   \n",
       "24   Carolyn Parrish         0.467655  rgba(255, 0, 0, 0.46765475779109994)   \n",
       "9    Carolyn Parrish         0.468932  rgba(255, 0, 0, 0.46893228973377055)   \n",
       "74   Carolyn Parrish         0.472797  rgba(255, 0, 0, 0.47279735436408815)   \n",
       "..               ...              ...                                   ...   \n",
       "70     Stephen Dasko         0.986683   rgba(0, 0, 255, 0.9866827519058263)   \n",
       "81     Stephen Dasko         0.994971   rgba(0, 0, 255, 0.9949705007140692)   \n",
       "154    Stephen Dasko         0.996626   rgba(0, 0, 255, 0.9966264435820429)   \n",
       "87   Carolyn Parrish         0.998123   rgba(255, 0, 0, 0.9981233314591352)   \n",
       "43     Stephen Dasko         1.000000                  rgba(0, 0, 255, 1.0)   \n",
       "\n",
       "     marker_size  alvin_marker_size  \\\n",
       "138     9.967809           7.511395   \n",
       "134     7.151772           4.970086   \n",
       "24      1.133836           0.529813   \n",
       "9       8.425114           6.659645   \n",
       "74      7.228400           4.768316   \n",
       "..           ...                ...   \n",
       "70     15.827351           9.996491   \n",
       "81      9.019925           5.803810   \n",
       "154    10.400607           7.186732   \n",
       "87      6.320198           3.708691   \n",
       "43      8.666879           5.656854   \n",
       "\n",
       "                                            hover_text  \n",
       "138  Winner: Carolyn Parrish<br>\\nTotal votes: 1082...  \n",
       "134  Winner: Carolyn Parrish<br>\\nTotal votes: 557<...  \n",
       "24   Winner: Carolyn Parrish<br>\\nTotal votes: 14<b...  \n",
       "9    Winner: Carolyn Parrish<br>\\nTotal votes: 773<...  \n",
       "74   Winner: Carolyn Parrish<br>\\nTotal votes: 569<...  \n",
       "..                                                 ...  \n",
       "70   Winner: Stephen Dasko<br>\\nTotal votes: 2728<b...  \n",
       "81   Winner: Stephen Dasko<br>\\nTotal votes: 886<br...  \n",
       "154  Winner: Stephen Dasko<br>\\nTotal votes: 1178<b...  \n",
       "87   Winner: Carolyn Parrish<br>\\nTotal votes: 435<...  \n",
       "43   Winner: Stephen Dasko<br>\\nTotal votes: 818<br...  \n",
       "\n",
       "[122 rows x 17 columns]"
      ]
     },
     "execution_count": 54,
     "metadata": {},
     "output_type": "execute_result"
    }
   ],
   "source": [
    "winner_colours_rgb = {\n",
    "    \"Dipika Damerla\": \"rgba(255, 215, 0, \",\n",
    "    \"Stephen Dasko\": \"rgba(0, 0, 255, \",\n",
    "    \"Carolyn Parrish\": \"rgba(255, 0, 0, \",\n",
    "    \"Alvin Tedjo\": \"rgba(0, 128, 0, \"\n",
    "}\n",
    "df_go = df_loc_join.copy()\n",
    "df_go[\"marker_color\"] = df_go.apply(lambda row: winner_colours_rgb[row[\"winner\"]] + str(row[\"vote_percentage\"]) + \")\", axis=1)\n",
    "df_go[\"marker_size\"] = 20 * (df_go[\"total\"] / df_go[\"total\"].max()) ** 0.5\n",
    "df_go[\"alvin_marker_size\"] = 20 * (df_go[\"Alvin Tedjo\"] / df_go[\"Alvin Tedjo\"].max()) ** 0.5\n",
    "df_go_non_rr = df_go[df_go[\"is_rr\"] == False].copy()\n",
    "df_go_non_rr[\"vote_percentage\"] = df_go_non_rr[[\"Dipika Damerla\", \"Stephen Dasko\", \"Carolyn Parrish\", \"Alvin Tedjo\"]].values.max(1) / df_go_non_rr[\"total\"]\n",
    "df_go_non_rr[\"hover_text\"] = df_go_non_rr.apply(lambda row: f\"\"\"Winner: {row[\"winner\"]}<br>\n",
    "Total votes: {row[\"total\"]}<br>\n",
    "Dipika Damerla: {row[\"Dipika Damerla\"]}<br>\n",
    "Stephen Dasko: {row[\"Stephen Dasko\"]}<br>\n",
    "Carolyn Parrish: {row[\"Carolyn Parrish\"]}<br>\n",
    "Alvin Tedjo: {row[\"Alvin Tedjo\"]}<br>\n",
    "Winner vote %: {100*row[\"vote_percentage\"]:.2f}\n",
    "\"\"\", axis=1)\n",
    "df_go_non_rr[\"vote_percentage\"] = df_go_non_rr[\"vote_percentage\"] - df_go_non_rr[\"vote_percentage\"].min() + 0.001\n",
    "df_go_non_rr[\"vote_percentage\"] = (df_go_non_rr[\"vote_percentage\"] / df_go_non_rr[\"vote_percentage\"].max()) ** 0.25\n",
    "df_go_non_rr[\"marker_color\"] = df_go_non_rr.apply(lambda row: winner_colours_rgb[row[\"winner\"]] + str(row[\"vote_percentage\"]) + \")\", axis=1)\n",
    "df_go_non_rr.sort_values(\"vote_percentage\")"
   ]
  },
  {
   "cell_type": "code",
   "execution_count": 94,
   "metadata": {},
   "outputs": [
    {
     "data": {
      "application/vnd.plotly.v1+json": {
       "config": {
        "plotlyServerURL": "https://plot.ly"
       },
       "data": [
        {
         "lat": [
          43.5317405,
          43.5430659,
          43.5846052,
          43.7325937,
          43.6182891,
          43.6023606,
          43.606447,
          43.6228484,
          43.6167031,
          43.567918,
          43.6035776,
          43.5242194,
          43.5417764,
          43.5523473,
          43.5594022,
          43.5113661,
          43.5141232,
          43.5840498,
          43.5733207,
          43.5848992,
          43.6237988,
          43.554487,
          43.6277822,
          43.6405762,
          43.6080991,
          43.7229135,
          43.5790671,
          43.5565129,
          43.5389206,
          43.5885973,
          43.6054269,
          43.5730089,
          43.5716173,
          43.5579743,
          43.6272043,
          43.6163705,
          43.5155364,
          43.5969757,
          43.558978,
          43.5571271,
          43.5831097,
          43.6228975,
          43.5371781,
          43.5314149,
          43.5310891,
          43.7236582,
          43.7153229,
          43.5673236,
          43.5637881,
          43.5853306,
          43.6273906,
          43.5927058,
          43.572413,
          43.5715204,
          43.5786562,
          43.5971804,
          43.5889484,
          43.7137766,
          43.5830876,
          43.5408583,
          43.5451497,
          43.5696264,
          43.5527194,
          43.5625863,
          43.5781665,
          43.5615863,
          43.5935871,
          43.5888667,
          43.7152656,
          43.589527,
          43.5503199,
          43.6180267,
          43.5782088,
          43.5870021,
          43.5297859,
          43.5826276,
          43.5930552,
          43.6068459,
          43.5836315,
          43.5424495,
          43.5575639,
          43.5265014,
          43.5793532,
          43.5470136,
          43.6079926,
          43.6130778,
          43.5796082,
          43.6313618,
          43.580593,
          43.6235856,
          43.581786,
          43.5475662,
          43.5741493,
          43.6056817,
          43.5457362,
          43.5749633,
          43.5666543,
          43.577775,
          43.6094088,
          43.5058688,
          43.5861727,
          43.6042595,
          43.536244,
          43.5521723,
          43.5995849,
          43.5789177,
          43.7213746,
          43.5938591,
          43.5608084,
          43.565415,
          43.6053953,
          43.5799982,
          43.6008652,
          43.577515,
          43.5785392,
          43.6361798,
          43.6023154,
          43.5890308,
          43.5749911,
          43.5902392,
          43.59617,
          43.5628379
         ],
         "lon": [
          -79.7111131,
          -79.7196424,
          -79.6356674,
          -79.6415982,
          -79.5874355,
          -79.6200006,
          -79.7076877,
          -79.5992311,
          -79.5982973,
          -79.7330462,
          -79.6789137,
          -79.6959164,
          -79.7442606,
          -79.7476441,
          -79.7485886,
          -79.6504247,
          -79.6213433,
          -79.602443,
          -79.6098836,
          -79.6524935,
          -79.7102704,
          -79.7071146,
          -79.7228387,
          -79.7235726,
          -79.5967603,
          -79.6312316,
          -79.6761537,
          -79.7179229,
          -79.6670068,
          -79.6370061,
          -79.6664973,
          -79.6310687,
          -79.6157365,
          -79.5826635,
          -79.5890909,
          -79.6556235,
          -79.6104368,
          -79.6580513,
          -79.6339452,
          -79.5980484,
          -79.7898674,
          -79.7481073,
          -79.6279433,
          -79.6248636,
          -79.6277885,
          -79.6411812,
          -79.6531957,
          -79.6250006,
          -79.6474133,
          -79.7567823,
          -79.7251369,
          -79.6133653,
          -79.7561184,
          -79.6091088,
          -79.5754989,
          -79.6244131,
          -79.6447259,
          -79.6481383,
          -79.5931146,
          -79.6338877,
          -79.7277799,
          -79.7336824,
          -79.5914341,
          -79.5909255,
          -79.5671069,
          -79.6621594,
          -79.7230604,
          -79.6839109,
          -79.6409166,
          -79.7125299,
          -79.590494,
          -79.6642433,
          -79.7514064,
          -79.7630757,
          -79.6662338,
          -79.6849387,
          -79.6126499,
          -79.6123434,
          -79.5502628,
          -79.6849221,
          -79.6544427,
          -79.6724038,
          -79.7687787,
          -79.6053124,
          -79.6436836,
          -79.6049064,
          -79.7775446,
          -79.7176918,
          -79.7917009,
          -79.6131205,
          -79.6737547,
          -79.7363096,
          -79.6116201,
          -79.6327443,
          -79.6967984,
          -79.6666871,
          -79.7591338,
          -79.7417853,
          -79.7081828,
          -79.6515695,
          -79.6847512,
          -79.6618068,
          -79.6770143,
          -79.6813384,
          -79.6560442,
          -79.6329483,
          -79.646495,
          -79.7712012,
          -79.698749,
          -79.7706664,
          -79.602156,
          -79.6005183,
          -79.6898744,
          -79.707977,
          -79.7204597,
          -79.602457,
          -79.6353669,
          -79.6210421,
          -79.7260753,
          -79.5834708,
          -79.7029782,
          -79.6499096
         ],
         "marker": {
          "color": [
           "rgba(0, 128, 0, 0.5881201600203068)",
           "rgba(255, 0, 0, 0.8654571669162473)",
           "rgba(255, 0, 0, 0.5506502404265651)",
           "rgba(255, 0, 0, 0.9549050003315426)",
           "rgba(255, 215, 0, 0.7252262600403874)",
           "rgba(255, 0, 0, 0.46893228973377055)",
           "rgba(255, 0, 0, 0.7006900389824618)",
           "rgba(255, 215, 0, 0.5869735789540446)",
           "rgba(255, 215, 0, 0.8604976838623214)",
           "rgba(255, 0, 0, 0.6688631005172728)",
           "rgba(255, 0, 0, 0.8218952392407877)",
           "rgba(0, 128, 0, 0.6085285063914943)",
           "rgba(255, 0, 0, 0.82943738944057)",
           "rgba(255, 0, 0, 0.8590127775360077)",
           "rgba(255, 0, 0, 0.8528866869008987)",
           "rgba(0, 128, 0, 0.7787359439068509)",
           "rgba(0, 128, 0, 0.7675809650424554)",
           "rgba(255, 215, 0, 0.6325131960109155)",
           "rgba(255, 0, 0, 0.46765475779109994)",
           "rgba(255, 0, 0, 0.7472006139271478)",
           "rgba(255, 0, 0, 0.689048550913676)",
           "rgba(0, 128, 0, 0.5749469934366154)",
           "rgba(255, 0, 0, 0.6933035283398975)",
           "rgba(255, 0, 0, 0.7944252876400394)",
           "rgba(255, 215, 0, 0.6760153698972832)",
           "rgba(255, 0, 0, 0.9014934020174928)",
           "rgba(255, 0, 0, 0.782756125030568)",
           "rgba(255, 0, 0, 0.6992695895265002)",
           "rgba(0, 128, 0, 0.541619534104242)",
           "rgba(255, 0, 0, 0.6844432801910031)",
           "rgba(255, 0, 0, 0.8133602045424845)",
           "rgba(255, 215, 0, 0.5541216517430151)",
           "rgba(255, 215, 0, 0.6564710536905326)",
           "rgba(0, 0, 255, 1.0)",
           "rgba(255, 215, 0, 0.7056517841472646)",
           "rgba(255, 0, 0, 0.8299408244694516)",
           "rgba(0, 0, 255, 0.8021983851080792)",
           "rgba(255, 0, 0, 0.7845458977843583)",
           "rgba(255, 0, 0, 0.604290351276436)",
           "rgba(0, 0, 255, 0.9589498041031702)",
           "rgba(255, 0, 0, 0.7977544732168927)",
           "rgba(0, 128, 0, 0.5865274426679824)",
           "rgba(0, 0, 255, 0.6881160765921384)",
           "rgba(0, 0, 255, 0.6773121336462038)",
           "rgba(0, 128, 0, 0.6806029298250877)",
           "rgba(255, 0, 0, 0.9468085939570061)",
           "rgba(255, 0, 0, 0.9416180843741357)",
           "rgba(255, 0, 0, 0.574029512256753)",
           "rgba(255, 0, 0, 0.8136901278357429)",
           "rgba(0, 128, 0, 0.648780883532139)",
           "rgba(255, 0, 0, 0.6600566639042781)",
           "rgba(255, 215, 0, 0.535548893038926)",
           "rgba(0, 128, 0, 0.8057874421521516)",
           "rgba(255, 215, 0, 0.6540987232067658)",
           "rgba(0, 0, 255, 0.9866827519058263)",
           "rgba(255, 0, 0, 0.5212302474957203)",
           "rgba(255, 0, 0, 0.7556369190810964)",
           "rgba(255, 0, 0, 0.9552903151263403)",
           "rgba(255, 0, 0, 0.47279735436408815)",
           "rgba(255, 0, 0, 0.545946228447317)",
           "rgba(255, 0, 0, 0.860631020051678)",
           "rgba(0, 128, 0, 0.6020482717831092)",
           "rgba(0, 0, 255, 0.9270591517669469)",
           "rgba(0, 0, 255, 0.9949705007140692)",
           "rgba(0, 0, 255, 0.9669800786211674)",
           "rgba(0, 128, 0, 0.7026292525390572)",
           "rgba(255, 0, 0, 0.6262047999426089)",
           "rgba(255, 0, 0, 0.8211639768253731)",
           "rgba(255, 0, 0, 0.9981233314591352)",
           "rgba(255, 0, 0, 0.7411153034512724)",
           "rgba(0, 0, 255, 0.9689702986713609)",
           "rgba(255, 0, 0, 0.757513469583784)",
           "rgba(0, 128, 0, 0.7981227868729609)",
           "rgba(0, 128, 0, 0.6574026512059911)",
           "rgba(0, 128, 0, 0.9178014688022373)",
           "rgba(255, 0, 0, 0.7314273701598116)",
           "rgba(255, 215, 0, 0.5223222380372228)",
           "rgba(255, 215, 0, 0.7725448605285719)",
           "rgba(0, 0, 255, 0.972417844710169)",
           "rgba(0, 128, 0, 0.6269886677817983)",
           "rgba(255, 0, 0, 0.571173033029498)",
           "rgba(0, 128, 0, 0.9526779050656227)",
           "rgba(0, 128, 0, 0.6452573685547983)",
           "rgba(0, 0, 255, 0.7597740397378786)",
           "rgba(255, 0, 0, 0.7276383513407041)",
           "rgba(255, 215, 0, 0.6628621804259495)",
           "rgba(0, 128, 0, 0.723179093869567)",
           "rgba(255, 0, 0, 0.6705499756409675)",
           "rgba(0, 128, 0, 0.6743813353075908)",
           "rgba(255, 0, 0, 0.5529532474852951)",
           "rgba(255, 0, 0, 0.800254407277458)",
           "rgba(255, 0, 0, 0.6432278566550937)",
           "rgba(0, 128, 0, 0.5025822091159913)",
           "rgba(255, 0, 0, 0.7048786329304612)",
           "rgba(0, 128, 0, 0.6373940108978016)",
           "rgba(0, 128, 0, 0.6731241887334057)",
           "rgba(0, 128, 0, 0.6720448303783599)",
           "rgba(0, 128, 0, 0.8208881740909849)",
           "rgba(255, 0, 0, 0.7337074105292274)",
           "rgba(0, 128, 0, 0.6186759377315932)",
           "rgba(255, 0, 0, 0.7639557633379669)",
           "rgba(255, 0, 0, 0.8563798244824521)",
           "rgba(0, 128, 0, 0.6890059338297198)",
           "rgba(0, 128, 0, 0.5650497777224454)",
           "rgba(255, 0, 0, 0.7451747912883235)",
           "rgba(255, 0, 0, 0.5299440456956214)",
           "rgba(255, 0, 0, 0.9379452532004761)",
           "rgba(0, 128, 0, 0.7983309144514992)",
           "rgba(255, 0, 0, 0.5649510686875606)",
           "rgba(0, 128, 0, 0.6759458923023318)",
           "rgba(255, 215, 0, 0.5970399426580479)",
           "rgba(255, 0, 0, 0.46586427484481296)",
           "rgba(255, 0, 0, 0.7757740651792)",
           "rgba(255, 0, 0, 0.7033737164115352)",
           "rgba(0, 128, 0, 0.5934985722032298)",
           "rgba(255, 0, 0, 0.23084269670863025)",
           "rgba(0, 128, 0, 0.5476876050335447)",
           "rgba(255, 215, 0, 0.6273555750368186)",
           "rgba(255, 0, 0, 0.5292719738181599)",
           "rgba(0, 0, 255, 0.9966264435820429)",
           "rgba(255, 0, 0, 0.7019416531092021)",
           "rgba(255, 0, 0, 0.8152639525937677)"
          ],
          "size": [
           11.411012353795593,
           8.984222472953693,
           10.150384378451045,
           6.4567502280795495,
           8.511861760720084,
           8.42511440876233,
           8.91238858778954,
           17.549614830994255,
           8.293292232366067,
           9.828651357713245,
           12.585793731694054,
           10.10959231370441,
           10.972040600140406,
           19.99770418411687,
           9.389050536260404,
           18.12364430824931,
           9.206337897553523,
           11.665682760557672,
           1.133835571749679,
           10.20001980588293,
           11.001293854952332,
           10.181998555400876,
           10.850008357556458,
           9.720615110512389,
           8.80353881595997,
           5.612199750743071,
           10.942709142586537,
           15.801221605434776,
           8.829577142020282,
           9.524990088182856,
           9.201349364053925,
           12.977341275978096,
           8.068804215572332,
           8.666878573378844,
           7.410314703416657,
           20,
           7.902063521457756,
           9.398825708648983,
           15.534552264213692,
           6.843387751900737,
           11.08859058395878,
           9.696969696969697,
           7.959954870644665,
           12.07947359272409,
           9.823978834816563,
           14.018222431782277,
           5.669177858748395,
           8.506465968253455,
           10.2896526341513,
           19.222729123822674,
           6.210273191490666,
           7.713892158398701,
           8.298826628866152,
           0.9090909090909092,
           15.827351342061329,
           16.806575301650966,
           16.740881596282588,
           5.701481127947509,
           7.228400267803977,
           7.684074141276343,
           8.938109820456138,
           8.603072464592964,
           8.7196936787504,
           9.01992488856801,
           9.534625892455924,
           6.55554777357089,
           10.045808760151987,
           11.142288673242566,
           6.320198065034609,
           17.832503005823636,
           9.654262013378176,
           8.15934061687046,
           8.193033839148955,
           6.829956163384633,
           8.570991287109667,
           7.896251042906293,
           7.100226978096958,
           8.232168307397652,
           10.471001541315754,
           17.546998414307183,
           8.587046857760456,
           9.171361182073671,
           9.466969304129279,
           7.56969454351321,
           9.63998407308295,
           7.79677595773855,
           9.553868345717847,
           7.385489458759964,
           8.549536957373263,
           9.601805768336277,
           10.10959231370441,
           7.654139963827326,
           7.63612313233585,
           9.903111902041328,
           12.037590343055275,
           10.64495034560624,
           10.588730430094635,
           7.948410332487273,
           8.22100604015184,
           4.8768111937669945,
           8.787878787878787,
           8.457748931486583,
           8.834775598250456,
           10.65788205761756,
           10.36965977713253,
           9.359663764533636,
           5.571144336621283,
           8.511861760720084,
           7.093757521648259,
           10.562681853292954,
           9.070684573997433,
           7.151771952246029,
           10.378511387602247,
           9.56827479021027,
           9.481507786158797,
           9.96780860812032,
           7.035264706814485,
           7.028735457420122,
           9.025013704142685,
           10.400607455594251,
           11.187524207257413,
           8.35946316614165
          ]
         },
         "mode": "markers",
         "text": [
          "Winner: Alvin Tedjo<br>\nTotal votes: 1418<br>\nDipika Damerla: 222<br>\nStephen Dasko: 245<br>\nCarolyn Parrish: 375<br>\nAlvin Tedjo: 441<br>\nWinner vote %: 31.10\n",
          "Winner: Carolyn Parrish<br>\nTotal votes: 879<br>\nDipika Damerla: 138<br>\nStephen Dasko: 52<br>\nCarolyn Parrish: 410<br>\nAlvin Tedjo: 196<br>\nWinner vote %: 46.64\n",
          "Winner: Carolyn Parrish<br>\nTotal votes: 1122<br>\nDipika Damerla: 291<br>\nStephen Dasko: 125<br>\nCarolyn Parrish: 338<br>\nAlvin Tedjo: 263<br>\nWinner vote %: 30.12\n",
          "Winner: Carolyn Parrish<br>\nTotal votes: 454<br>\nDipika Damerla: 60<br>\nStephen Dasko: 18<br>\nCarolyn Parrish: 255<br>\nAlvin Tedjo: 50<br>\nWinner vote %: 56.17\n",
          "Winner: Dipika Damerla<br>\nTotal votes: 789<br>\nDipika Damerla: 289<br>\nStephen Dasko: 113<br>\nCarolyn Parrish: 191<br>\nAlvin Tedjo: 100<br>\nWinner vote %: 36.63\n",
          "Winner: Carolyn Parrish<br>\nTotal votes: 773<br>\nDipika Damerla: 213<br>\nStephen Dasko: 109<br>\nCarolyn Parrish: 221<br>\nAlvin Tedjo: 158<br>\nWinner vote %: 28.59\n",
          "Winner: Carolyn Parrish<br>\nTotal votes: 865<br>\nDipika Damerla: 216<br>\nStephen Dasko: 69<br>\nCarolyn Parrish: 306<br>\nAlvin Tedjo: 212<br>\nWinner vote %: 35.38\n",
          "Winner: Dipika Damerla<br>\nTotal votes: 3354<br>\nDipika Damerla: 1042<br>\nStephen Dasko: 446<br>\nCarolyn Parrish: 864<br>\nAlvin Tedjo: 662<br>\nWinner vote %: 31.07\n",
          "Winner: Dipika Damerla<br>\nTotal votes: 749<br>\nDipika Damerla: 346<br>\nStephen Dasko: 153<br>\nCarolyn Parrish: 129<br>\nAlvin Tedjo: 79<br>\nWinner vote %: 46.19\n",
          "Winner: Carolyn Parrish<br>\nTotal votes: 1052<br>\nDipika Damerla: 172<br>\nStephen Dasko: 106<br>\nCarolyn Parrish: 357<br>\nAlvin Tedjo: 310<br>\nWinner vote %: 33.94\n",
          "Winner: Carolyn Parrish<br>\nTotal votes: 1725<br>\nDipika Damerla: 315<br>\nStephen Dasko: 121<br>\nCarolyn Parrish: 741<br>\nAlvin Tedjo: 376<br>\nWinner vote %: 42.96\n",
          "Winner: Alvin Tedjo<br>\nTotal votes: 1113<br>\nDipika Damerla: 162<br>\nStephen Dasko: 163<br>\nCarolyn Parrish: 350<br>\nAlvin Tedjo: 353<br>\nWinner vote %: 31.72\n",
          "Winner: Carolyn Parrish<br>\nTotal votes: 1311<br>\nDipika Damerla: 208<br>\nStephen Dasko: 75<br>\nCarolyn Parrish: 571<br>\nAlvin Tedjo: 353<br>\nWinner vote %: 43.55\n",
          "Winner: Carolyn Parrish<br>\nTotal votes: 4355<br>\nDipika Damerla: 688<br>\nStephen Dasko: 251<br>\nCarolyn Parrish: 2006<br>\nAlvin Tedjo: 1059<br>\nWinner vote %: 46.06\n",
          "Winner: Carolyn Parrish<br>\nTotal votes: 960<br>\nDipika Damerla: 152<br>\nStephen Dasko: 61<br>\nCarolyn Parrish: 437<br>\nAlvin Tedjo: 243<br>\nWinner vote %: 45.52\n",
          "Winner: Alvin Tedjo<br>\nTotal votes: 3577<br>\nDipika Damerla: 456<br>\nStephen Dasko: 752<br>\nCarolyn Parrish: 704<br>\nAlvin Tedjo: 1425<br>\nWinner vote %: 39.84\n",
          "Winner: Alvin Tedjo<br>\nTotal votes: 923<br>\nDipika Damerla: 145<br>\nStephen Dasko: 218<br>\nCarolyn Parrish: 145<br>\nAlvin Tedjo: 361<br>\nWinner vote %: 39.11\n",
          "Winner: Dipika Damerla<br>\nTotal votes: 1482<br>\nDipika Damerla: 482<br>\nStephen Dasko: 270<br>\nCarolyn Parrish: 394<br>\nAlvin Tedjo: 223<br>\nWinner vote %: 32.52\n",
          "Winner: Carolyn Parrish<br>\nTotal votes: 14<br>\nDipika Damerla: 1<br>\nStephen Dasko: 1<br>\nCarolyn Parrish: 4<br>\nAlvin Tedjo: 1<br>\nWinner vote %: 28.57\n",
          "Winner: Carolyn Parrish<br>\nTotal votes: 1133<br>\nDipika Damerla: 208<br>\nStephen Dasko: 96<br>\nCarolyn Parrish: 429<br>\nAlvin Tedjo: 306<br>\nWinner vote %: 37.86\n",
          "Winner: Carolyn Parrish<br>\nTotal votes: 1318<br>\nDipika Damerla: 347<br>\nStephen Dasko: 104<br>\nCarolyn Parrish: 459<br>\nAlvin Tedjo: 295<br>\nWinner vote %: 34.83\n",
          "Winner: Alvin Tedjo<br>\nTotal votes: 1129<br>\nDipika Damerla: 235<br>\nStephen Dasko: 108<br>\nCarolyn Parrish: 324<br>\nAlvin Tedjo: 347<br>\nWinner vote %: 30.74\n",
          "Winner: Carolyn Parrish<br>\nTotal votes: 1282<br>\nDipika Damerla: 326<br>\nStephen Dasko: 94<br>\nCarolyn Parrish: 449<br>\nAlvin Tedjo: 311<br>\nWinner vote %: 35.02\n",
          "Winner: Carolyn Parrish<br>\nTotal votes: 1029<br>\nDipika Damerla: 286<br>\nStephen Dasko: 51<br>\nCarolyn Parrish: 421<br>\nAlvin Tedjo: 214<br>\nWinner vote %: 40.91\n",
          "Winner: Dipika Damerla<br>\nTotal votes: 844<br>\nDipika Damerla: 289<br>\nStephen Dasko: 139<br>\nCarolyn Parrish: 196<br>\nAlvin Tedjo: 135<br>\nWinner vote %: 34.24\n",
          "Winner: Carolyn Parrish<br>\nTotal votes: 343<br>\nDipika Damerla: 35<br>\nStephen Dasko: 14<br>\nCarolyn Parrish: 172<br>\nAlvin Tedjo: 49<br>\nWinner vote %: 50.15\n",
          "Winner: Carolyn Parrish<br>\nTotal votes: 1304<br>\nDipika Damerla: 219<br>\nStephen Dasko: 93<br>\nCarolyn Parrish: 523<br>\nAlvin Tedjo: 358<br>\nWinner vote %: 40.11\n",
          "Winner: Carolyn Parrish<br>\nTotal votes: 2719<br>\nDipika Damerla: 450<br>\nStephen Dasko: 221<br>\nCarolyn Parrish: 960<br>\nAlvin Tedjo: 788<br>\nWinner vote %: 35.31\n",
          "Winner: Alvin Tedjo<br>\nTotal votes: 849<br>\nDipika Damerla: 132<br>\nStephen Dasko: 156<br>\nCarolyn Parrish: 219<br>\nAlvin Tedjo: 254<br>\nWinner vote %: 29.92\n",
          "Winner: Carolyn Parrish<br>\nTotal votes: 988<br>\nDipika Damerla: 307<br>\nStephen Dasko: 67<br>\nCarolyn Parrish: 342<br>\nAlvin Tedjo: 208<br>\nWinner vote %: 34.62\n",
          "Winner: Carolyn Parrish<br>\nTotal votes: 922<br>\nDipika Damerla: 187<br>\nStephen Dasko: 73<br>\nCarolyn Parrish: 390<br>\nAlvin Tedjo: 166<br>\nWinner vote %: 42.30\n",
          "Winner: Dipika Damerla<br>\nTotal votes: 1834<br>\nDipika Damerla: 554<br>\nStephen Dasko: 185<br>\nCarolyn Parrish: 543<br>\nAlvin Tedjo: 426<br>\nWinner vote %: 30.21\n",
          "Winner: Dipika Damerla<br>\nTotal votes: 709<br>\nDipika Damerla: 237<br>\nStephen Dasko: 121<br>\nCarolyn Parrish: 230<br>\nAlvin Tedjo: 81<br>\nWinner vote %: 33.43\n",
          "Winner: Stephen Dasko<br>\nTotal votes: 818<br>\nDipika Damerla: 83<br>\nStephen Dasko: 508<br>\nCarolyn Parrish: 87<br>\nAlvin Tedjo: 114<br>\nWinner vote %: 62.10\n",
          "Winner: Dipika Damerla<br>\nTotal votes: 598<br>\nDipika Damerla: 213<br>\nStephen Dasko: 71<br>\nCarolyn Parrish: 171<br>\nAlvin Tedjo: 87<br>\nWinner vote %: 35.62\n",
          "Winner: Carolyn Parrish<br>\nTotal votes: 4356<br>\nDipika Damerla: 813<br>\nStephen Dasko: 338<br>\nCarolyn Parrish: 1899<br>\nAlvin Tedjo: 865<br>\nWinner vote %: 43.60\n",
          "Winner: Stephen Dasko<br>\nTotal votes: 680<br>\nDipika Damerla: 79<br>\nStephen Dasko: 282<br>\nCarolyn Parrish: 118<br>\nAlvin Tedjo: 170<br>\nWinner vote %: 41.47\n",
          "Winner: Carolyn Parrish<br>\nTotal votes: 962<br>\nDipika Damerla: 204<br>\nStephen Dasko: 74<br>\nCarolyn Parrish: 387<br>\nAlvin Tedjo: 185<br>\nWinner vote %: 40.23\n",
          "Winner: Carolyn Parrish<br>\nTotal votes: 2628<br>\nDipika Damerla: 766<br>\nStephen Dasko: 431<br>\nCarolyn Parrish: 830<br>\nAlvin Tedjo: 421<br>\nWinner vote %: 31.58\n",
          "Winner: Stephen Dasko<br>\nTotal votes: 510<br>\nDipika Damerla: 61<br>\nStephen Dasko: 289<br>\nCarolyn Parrish: 74<br>\nAlvin Tedjo: 62<br>\nWinner vote %: 56.67\n",
          "Winner: Carolyn Parrish<br>\nTotal votes: 1339<br>\nDipika Damerla: 265<br>\nStephen Dasko: 71<br>\nCarolyn Parrish: 551<br>\nAlvin Tedjo: 356<br>\nWinner vote %: 41.15\n",
          "Winner: Alvin Tedjo<br>\nTotal votes: 1024<br>\nDipika Damerla: 223<br>\nStephen Dasko: 106<br>\nCarolyn Parrish: 292<br>\nAlvin Tedjo: 318<br>\nWinner vote %: 31.05\n",
          "Winner: Stephen Dasko<br>\nTotal votes: 690<br>\nDipika Damerla: 114<br>\nStephen Dasko: 240<br>\nCarolyn Parrish: 109<br>\nAlvin Tedjo: 197<br>\nWinner vote %: 34.78\n",
          "Winner: Stephen Dasko<br>\nTotal votes: 1589<br>\nDipika Damerla: 218<br>\nStephen Dasko: 545<br>\nCarolyn Parrish: 238<br>\nAlvin Tedjo: 520<br>\nWinner vote %: 34.30\n",
          "Winner: Alvin Tedjo<br>\nTotal votes: 1051<br>\nDipika Damerla: 164<br>\nStephen Dasko: 323<br>\nCarolyn Parrish: 170<br>\nAlvin Tedjo: 362<br>\nWinner vote %: 34.44\n",
          "Winner: Carolyn Parrish<br>\nTotal votes: 2140<br>\nDipika Damerla: 287<br>\nStephen Dasko: 48<br>\nCarolyn Parrish: 1181<br>\nAlvin Tedjo: 217<br>\nWinner vote %: 55.19\n",
          "Winner: Carolyn Parrish<br>\nTotal votes: 350<br>\nDipika Damerla: 55<br>\nStephen Dasko: 15<br>\nCarolyn Parrish: 191<br>\nAlvin Tedjo: 42<br>\nWinner vote %: 54.57\n",
          "Winner: Carolyn Parrish<br>\nTotal votes: 788<br>\nDipika Damerla: 231<br>\nStephen Dasko: 167<br>\nCarolyn Parrish: 242<br>\nAlvin Tedjo: 102<br>\nWinner vote %: 30.71\n",
          "Winner: Carolyn Parrish<br>\nTotal votes: 1153<br>\nDipika Damerla: 159<br>\nStephen Dasko: 123<br>\nCarolyn Parrish: 488<br>\nAlvin Tedjo: 251<br>\nWinner vote %: 42.32\n",
          "Winner: Alvin Tedjo<br>\nTotal votes: 4024<br>\nDipika Damerla: 727<br>\nStephen Dasko: 352<br>\nCarolyn Parrish: 1208<br>\nAlvin Tedjo: 1333<br>\nWinner vote %: 33.13\n",
          "Winner: Carolyn Parrish<br>\nTotal votes: 420<br>\nDipika Damerla: 92<br>\nStephen Dasko: 45<br>\nCarolyn Parrish: 141<br>\nAlvin Tedjo: 121<br>\nWinner vote %: 33.57\n",
          "Winner: Dipika Damerla<br>\nTotal votes: 648<br>\nDipika Damerla: 193<br>\nStephen Dasko: 129<br>\nCarolyn Parrish: 135<br>\nAlvin Tedjo: 154<br>\nWinner vote %: 29.78\n",
          "Winner: Alvin Tedjo<br>\nTotal votes: 750<br>\nDipika Damerla: 126<br>\nStephen Dasko: 86<br>\nCarolyn Parrish: 171<br>\nAlvin Tedjo: 313<br>\nWinner vote %: 41.73\n",
          "Winner: Dipika Damerla<br>\nTotal votes: 9<br>\nDipika Damerla: 3<br>\nStephen Dasko: 1<br>\nCarolyn Parrish: 2<br>\nAlvin Tedjo: 1<br>\nWinner vote %: 33.33\n",
          "Winner: Stephen Dasko<br>\nTotal votes: 2728<br>\nDipika Damerla: 315<br>\nStephen Dasko: 1644<br>\nCarolyn Parrish: 283<br>\nAlvin Tedjo: 356<br>\nWinner vote %: 60.26\n",
          "Winner: Carolyn Parrish<br>\nTotal votes: 3076<br>\nDipika Damerla: 903<br>\nStephen Dasko: 336<br>\nCarolyn Parrish: 907<br>\nAlvin Tedjo: 628<br>\nWinner vote %: 29.49\n",
          "Winner: Carolyn Parrish<br>\nTotal votes: 3052<br>\nDipika Damerla: 587<br>\nStephen Dasko: 293<br>\nCarolyn Parrish: 1171<br>\nAlvin Tedjo: 492<br>\nWinner vote %: 38.37\n",
          "Winner: Carolyn Parrish<br>\nTotal votes: 354<br>\nDipika Damerla: 63<br>\nStephen Dasko: 13<br>\nCarolyn Parrish: 199<br>\nAlvin Tedjo: 33<br>\nWinner vote %: 56.21\n",
          "Winner: Carolyn Parrish<br>\nTotal votes: 569<br>\nDipika Damerla: 139<br>\nStephen Dasko: 152<br>\nCarolyn Parrish: 163<br>\nAlvin Tedjo: 81<br>\nWinner vote %: 28.65\n",
          "Winner: Carolyn Parrish<br>\nTotal votes: 643<br>\nDipika Damerla: 72<br>\nStephen Dasko: 177<br>\nCarolyn Parrish: 193<br>\nAlvin Tedjo: 134<br>\nWinner vote %: 30.02\n",
          "Winner: Carolyn Parrish<br>\nTotal votes: 870<br>\nDipika Damerla: 131<br>\nStephen Dasko: 61<br>\nCarolyn Parrish: 402<br>\nAlvin Tedjo: 208<br>\nWinner vote %: 46.21\n",
          "Winner: Alvin Tedjo<br>\nTotal votes: 806<br>\nDipika Damerla: 130<br>\nStephen Dasko: 102<br>\nCarolyn Parrish: 216<br>\nAlvin Tedjo: 254<br>\nWinner vote %: 31.51\n",
          "Winner: Stephen Dasko<br>\nTotal votes: 828<br>\nDipika Damerla: 85<br>\nStephen Dasko: 438<br>\nCarolyn Parrish: 120<br>\nAlvin Tedjo: 150<br>\nWinner vote %: 52.90\n",
          "Winner: Stephen Dasko<br>\nTotal votes: 886<br>\nDipika Damerla: 91<br>\nStephen Dasko: 544<br>\nCarolyn Parrish: 101<br>\nAlvin Tedjo: 120<br>\nWinner vote %: 61.40\n",
          "Winner: Stephen Dasko<br>\nTotal votes: 990<br>\nDipika Damerla: 74<br>\nStephen Dasko: 571<br>\nCarolyn Parrish: 115<br>\nAlvin Tedjo: 176<br>\nWinner vote %: 57.68\n",
          "Winner: Alvin Tedjo<br>\nTotal votes: 468<br>\nDipika Damerla: 66<br>\nStephen Dasko: 68<br>\nCarolyn Parrish: 124<br>\nAlvin Tedjo: 166<br>\nWinner vote %: 35.47\n",
          "Winner: Carolyn Parrish<br>\nTotal votes: 1099<br>\nDipika Damerla: 221<br>\nStephen Dasko: 135<br>\nCarolyn Parrish: 355<br>\nAlvin Tedjo: 324<br>\nWinner vote %: 32.30\n",
          "Winner: Carolyn Parrish<br>\nTotal votes: 1352<br>\nDipika Damerla: 250<br>\nStephen Dasko: 86<br>\nCarolyn Parrish: 580<br>\nAlvin Tedjo: 339<br>\nWinner vote %: 42.90\n",
          "Winner: Carolyn Parrish<br>\nTotal votes: 435<br>\nDipika Damerla: 51<br>\nStephen Dasko: 10<br>\nCarolyn Parrish: 269<br>\nAlvin Tedjo: 49<br>\nWinner vote %: 61.84\n",
          "Winner: Carolyn Parrish<br>\nTotal votes: 3463<br>\nDipika Damerla: 741<br>\nStephen Dasko: 304<br>\nCarolyn Parrish: 1299<br>\nAlvin Tedjo: 869<br>\nWinner vote %: 37.51\n",
          "Winner: Stephen Dasko<br>\nTotal votes: 1015<br>\nDipika Damerla: 100<br>\nStephen Dasko: 588<br>\nCarolyn Parrish: 125<br>\nAlvin Tedjo: 154<br>\nWinner vote %: 57.93\n",
          "Winner: Carolyn Parrish<br>\nTotal votes: 725<br>\nDipika Damerla: 102<br>\nStephen Dasko: 72<br>\nCarolyn Parrish: 279<br>\nAlvin Tedjo: 192<br>\nWinner vote %: 38.48\n",
          "Winner: Alvin Tedjo<br>\nTotal votes: 731<br>\nDipika Damerla: 106<br>\nStephen Dasko: 77<br>\nCarolyn Parrish: 200<br>\nAlvin Tedjo: 301<br>\nWinner vote %: 41.18\n",
          "Winner: Alvin Tedjo<br>\nTotal votes: 508<br>\nDipika Damerla: 74<br>\nStephen Dasko: 75<br>\nCarolyn Parrish: 140<br>\nAlvin Tedjo: 170<br>\nWinner vote %: 33.46\n",
          "Winner: Alvin Tedjo<br>\nTotal votes: 800<br>\nDipika Damerla: 48<br>\nStephen Dasko: 126<br>\nCarolyn Parrish: 176<br>\nAlvin Tedjo: 415<br>\nWinner vote %: 51.88\n",
          "Winner: Carolyn Parrish<br>\nTotal votes: 679<br>\nDipika Damerla: 125<br>\nStephen Dasko: 52<br>\nCarolyn Parrish: 251<br>\nAlvin Tedjo: 201<br>\nWinner vote %: 36.97\n",
          "Winner: Dipika Damerla<br>\nTotal votes: 549<br>\nDipika Damerla: 162<br>\nStephen Dasko: 133<br>\nCarolyn Parrish: 103<br>\nAlvin Tedjo: 106<br>\nWinner vote %: 29.51\n",
          "Winner: Dipika Damerla<br>\nTotal votes: 738<br>\nDipika Damerla: 291<br>\nStephen Dasko: 146<br>\nCarolyn Parrish: 128<br>\nAlvin Tedjo: 106<br>\nWinner vote %: 39.43\n",
          "Winner: Stephen Dasko<br>\nTotal votes: 1194<br>\nDipika Damerla: 154<br>\nStephen Dasko: 697<br>\nCarolyn Parrish: 132<br>\nAlvin Tedjo: 170<br>\nWinner vote %: 58.38\n",
          "Winner: Alvin Tedjo<br>\nTotal votes: 3353<br>\nDipika Damerla: 551<br>\nStephen Dasko: 476<br>\nCarolyn Parrish: 904<br>\nAlvin Tedjo: 1084<br>\nWinner vote %: 32.33\n",
          "Winner: Carolyn Parrish<br>\nTotal votes: 803<br>\nDipika Damerla: 129<br>\nStephen Dasko: 109<br>\nCarolyn Parrish: 246<br>\nAlvin Tedjo: 230<br>\nWinner vote %: 30.64\n",
          "Winner: Alvin Tedjo<br>\nTotal votes: 916<br>\nDipika Damerla: 92<br>\nStephen Dasko: 132<br>\nCarolyn Parrish: 134<br>\nAlvin Tedjo: 512<br>\nWinner vote %: 55.90\n",
          "Winner: Alvin Tedjo<br>\nTotal votes: 976<br>\nDipika Damerla: 193<br>\nStephen Dasko: 110<br>\nCarolyn Parrish: 277<br>\nAlvin Tedjo: 322<br>\nWinner vote %: 32.99\n",
          "Winner: Stephen Dasko<br>\nTotal votes: 624<br>\nDipika Damerla: 98<br>\nStephen Dasko: 241<br>\nCarolyn Parrish: 100<br>\nAlvin Tedjo: 165<br>\nWinner vote %: 38.62\n",
          "Winner: Carolyn Parrish<br>\nTotal votes: 1012<br>\nDipika Damerla: 166<br>\nStephen Dasko: 122<br>\nCarolyn Parrish: 372<br>\nAlvin Tedjo: 267<br>\nWinner vote %: 36.76\n",
          "Winner: Dipika Damerla<br>\nTotal votes: 662<br>\nDipika Damerla: 223<br>\nStephen Dasko: 147<br>\nCarolyn Parrish: 142<br>\nAlvin Tedjo: 101<br>\nWinner vote %: 33.69\n",
          "Winner: Alvin Tedjo<br>\nTotal votes: 994<br>\nDipika Damerla: 174<br>\nStephen Dasko: 122<br>\nCarolyn Parrish: 276<br>\nAlvin Tedjo: 363<br>\nWinner vote %: 36.52\n",
          "Winner: Carolyn Parrish<br>\nTotal votes: 594<br>\nDipika Damerla: 138<br>\nStephen Dasko: 64<br>\nCarolyn Parrish: 202<br>\nAlvin Tedjo: 154<br>\nWinner vote %: 34.01\n",
          "Winner: Alvin Tedjo<br>\nTotal votes: 796<br>\nDipika Damerla: 121<br>\nStephen Dasko: 73<br>\nCarolyn Parrish: 252<br>\nAlvin Tedjo: 272<br>\nWinner vote %: 34.17\n",
          "Winner: Carolyn Parrish<br>\nTotal votes: 1004<br>\nDipika Damerla: 172<br>\nStephen Dasko: 247<br>\nCarolyn Parrish: 303<br>\nAlvin Tedjo: 176<br>\nWinner vote %: 30.18\n",
          "Winner: Carolyn Parrish<br>\nTotal votes: 1113<br>\nDipika Damerla: 177<br>\nStephen Dasko: 78<br>\nCarolyn Parrish: 460<br>\nAlvin Tedjo: 303<br>\nWinner vote %: 41.33\n",
          "Winner: Carolyn Parrish<br>\nTotal votes: 638<br>\nDipika Damerla: 127<br>\nStephen Dasko: 58<br>\nCarolyn Parrish: 210<br>\nAlvin Tedjo: 194<br>\nWinner vote %: 32.92\n",
          "Winner: Alvin Tedjo<br>\nTotal votes: 635<br>\nDipika Damerla: 168<br>\nStephen Dasko: 66<br>\nCarolyn Parrish: 172<br>\nAlvin Tedjo: 185<br>\nWinner vote %: 29.13\n",
          "Winner: Carolyn Parrish<br>\nTotal votes: 1068<br>\nDipika Damerla: 177<br>\nStephen Dasko: 137<br>\nCarolyn Parrish: 380<br>\nAlvin Tedjo: 272<br>\nWinner vote %: 35.58\n",
          "Winner: Alvin Tedjo<br>\nTotal votes: 1578<br>\nDipika Damerla: 226<br>\nStephen Dasko: 343<br>\nCarolyn Parrish: 397<br>\nAlvin Tedjo: 516<br>\nWinner vote %: 32.70\n",
          "Winner: Alvin Tedjo<br>\nTotal votes: 1234<br>\nDipika Damerla: 204<br>\nStephen Dasko: 182<br>\nCarolyn Parrish: 333<br>\nAlvin Tedjo: 421<br>\nWinner vote %: 34.12\n",
          "Winner: Alvin Tedjo<br>\nTotal votes: 1221<br>\nDipika Damerla: 180<br>\nStephen Dasko: 152<br>\nCarolyn Parrish: 372<br>\nAlvin Tedjo: 416<br>\nWinner vote %: 34.07\n",
          "Winner: Alvin Tedjo<br>\nTotal votes: 688<br>\nDipika Damerla: 73<br>\nStephen Dasko: 81<br>\nCarolyn Parrish: 178<br>\nAlvin Tedjo: 295<br>\nWinner vote %: 42.88\n",
          "Winner: Carolyn Parrish<br>\nTotal votes: 736<br>\nDipika Damerla: 104<br>\nStephen Dasko: 94<br>\nCarolyn Parrish: 273<br>\nAlvin Tedjo: 211<br>\nWinner vote %: 37.09\n",
          "Winner: Alvin Tedjo<br>\nTotal votes: 259<br>\nDipika Damerla: 30<br>\nStephen Dasko: 70<br>\nCarolyn Parrish: 46<br>\nAlvin Tedjo: 83<br>\nWinner vote %: 32.05\n",
          "Winner: Carolyn Parrish<br>\nTotal votes: 841<br>\nDipika Damerla: 150<br>\nStephen Dasko: 71<br>\nCarolyn Parrish: 327<br>\nAlvin Tedjo: 226<br>\nWinner vote %: 38.88\n",
          "Winner: Carolyn Parrish<br>\nTotal votes: 779<br>\nDipika Damerla: 128<br>\nStephen Dasko: 52<br>\nCarolyn Parrish: 357<br>\nAlvin Tedjo: 156<br>\nWinner vote %: 45.83\n",
          "Winner: Alvin Tedjo<br>\nTotal votes: 850<br>\nDipika Damerla: 109<br>\nStephen Dasko: 162<br>\nCarolyn Parrish: 207<br>\nAlvin Tedjo: 296<br>\nWinner vote %: 34.82\n",
          "Winner: Alvin Tedjo<br>\nTotal votes: 1237<br>\nDipika Damerla: 255<br>\nStephen Dasko: 260<br>\nCarolyn Parrish: 276<br>\nAlvin Tedjo: 377<br>\nWinner vote %: 30.48\n",
          "Winner: Carolyn Parrish<br>\nTotal votes: 1171<br>\nDipika Damerla: 233<br>\nStephen Dasko: 131<br>\nCarolyn Parrish: 442<br>\nAlvin Tedjo: 253<br>\nWinner vote %: 37.75\n",
          "Winner: Carolyn Parrish<br>\nTotal votes: 954<br>\nDipika Damerla: 256<br>\nStephen Dasko: 109<br>\nCarolyn Parrish: 283<br>\nAlvin Tedjo: 225<br>\nWinner vote %: 29.66\n",
          "Winner: Carolyn Parrish<br>\nTotal votes: 338<br>\nDipika Damerla: 47<br>\nStephen Dasko: 12<br>\nCarolyn Parrish: 183<br>\nAlvin Tedjo: 43<br>\nWinner vote %: 54.14\n",
          "Winner: Alvin Tedjo<br>\nTotal votes: 789<br>\nDipika Damerla: 129<br>\nStephen Dasko: 84<br>\nCarolyn Parrish: 177<br>\nAlvin Tedjo: 325<br>\nWinner vote %: 41.19\n",
          "Winner: Carolyn Parrish<br>\nTotal votes: 548<br>\nDipika Damerla: 76<br>\nStephen Dasko: 101<br>\nCarolyn Parrish: 167<br>\nAlvin Tedjo: 137<br>\nWinner vote %: 30.47\n",
          "Winner: Alvin Tedjo<br>\nTotal votes: 1215<br>\nDipika Damerla: 208<br>\nStephen Dasko: 94<br>\nCarolyn Parrish: 400<br>\nAlvin Tedjo: 416<br>\nWinner vote %: 34.24\n",
          "Winner: Dipika Damerla<br>\nTotal votes: 896<br>\nDipika Damerla: 281<br>\nStephen Dasko: 166<br>\nCarolyn Parrish: 213<br>\nAlvin Tedjo: 127<br>\nWinner vote %: 31.36\n",
          "Winner: Carolyn Parrish<br>\nTotal votes: 557<br>\nDipika Damerla: 148<br>\nStephen Dasko: 120<br>\nCarolyn Parrish: 159<br>\nAlvin Tedjo: 88<br>\nWinner vote %: 28.55\n",
          "Winner: Carolyn Parrish<br>\nTotal votes: 1173<br>\nDipika Damerla: 174<br>\nStephen Dasko: 77<br>\nCarolyn Parrish: 465<br>\nAlvin Tedjo: 363<br>\nWinner vote %: 39.64\n",
          "Winner: Carolyn Parrish<br>\nTotal votes: 997<br>\nDipika Damerla: 188<br>\nStephen Dasko: 118<br>\nCarolyn Parrish: 354<br>\nAlvin Tedjo: 272<br>\nWinner vote %: 35.51\n",
          "Winner: Alvin Tedjo<br>\nTotal votes: 979<br>\nDipika Damerla: 206<br>\nStephen Dasko: 129<br>\nCarolyn Parrish: 257<br>\nAlvin Tedjo: 306<br>\nWinner vote %: 31.26\n",
          "Winner: Carolyn Parrish<br>\nTotal votes: 1082<br>\nDipika Damerla: 282<br>\nStephen Dasko: 250<br>\nCarolyn Parrish: 292<br>\nAlvin Tedjo: 201<br>\nWinner vote %: 26.99\n",
          "Winner: Alvin Tedjo<br>\nTotal votes: 539<br>\nDipika Damerla: 115<br>\nStephen Dasko: 64<br>\nCarolyn Parrish: 154<br>\nAlvin Tedjo: 162<br>\nWinner vote %: 30.06\n",
          "Winner: Dipika Damerla<br>\nTotal votes: 538<br>\nDipika Damerla: 174<br>\nStephen Dasko: 44<br>\nCarolyn Parrish: 124<br>\nAlvin Tedjo: 155<br>\nWinner vote %: 32.34\n",
          "Winner: Carolyn Parrish<br>\nTotal votes: 887<br>\nDipika Damerla: 170<br>\nStephen Dasko: 127<br>\nCarolyn Parrish: 263<br>\nAlvin Tedjo: 250<br>\nWinner vote %: 29.65\n",
          "Winner: Stephen Dasko<br>\nTotal votes: 1178<br>\nDipika Damerla: 106<br>\nStephen Dasko: 726<br>\nCarolyn Parrish: 118<br>\nAlvin Tedjo: 184<br>\nWinner vote %: 61.63\n",
          "Winner: Carolyn Parrish<br>\nTotal votes: 1363<br>\nDipika Damerla: 258<br>\nStephen Dasko: 77<br>\nCarolyn Parrish: 483<br>\nAlvin Tedjo: 438<br>\nWinner vote %: 35.44\n",
          "Winner: Carolyn Parrish<br>\nTotal votes: 761<br>\nDipika Damerla: 157<br>\nStephen Dasko: 58<br>\nCarolyn Parrish: 323<br>\nAlvin Tedjo: 162<br>\nWinner vote %: 42.44\n"
         ],
         "type": "scattermapbox"
        }
       ],
       "layout": {
        "height": 500,
        "mapbox": {
         "accesstoken": "pk.eyJ1IjoianNyZWlkMTMiLCJhIjoiY2x4bmgycWl3MDQxMDJpb3BnMjZuc2gxNiJ9.9YCaMvvZIOLrsZBRPdqMQw",
         "bearing": 0,
         "center": {
          "lat": 43.6014499,
          "lon": -79.6750527
         },
         "pitch": 0,
         "zoom": 9
        },
        "margin": {
         "b": 20,
         "l": 170,
         "r": 20,
         "t": 150
        },
        "template": {
         "data": {
          "bar": [
           {
            "error_x": {
             "color": "#2a3f5f"
            },
            "error_y": {
             "color": "#2a3f5f"
            },
            "marker": {
             "line": {
              "color": "#E5ECF6",
              "width": 0.5
             },
             "pattern": {
              "fillmode": "overlay",
              "size": 10,
              "solidity": 0.2
             }
            },
            "type": "bar"
           }
          ],
          "barpolar": [
           {
            "marker": {
             "line": {
              "color": "#E5ECF6",
              "width": 0.5
             },
             "pattern": {
              "fillmode": "overlay",
              "size": 10,
              "solidity": 0.2
             }
            },
            "type": "barpolar"
           }
          ],
          "carpet": [
           {
            "aaxis": {
             "endlinecolor": "#2a3f5f",
             "gridcolor": "white",
             "linecolor": "white",
             "minorgridcolor": "white",
             "startlinecolor": "#2a3f5f"
            },
            "baxis": {
             "endlinecolor": "#2a3f5f",
             "gridcolor": "white",
             "linecolor": "white",
             "minorgridcolor": "white",
             "startlinecolor": "#2a3f5f"
            },
            "type": "carpet"
           }
          ],
          "choropleth": [
           {
            "colorbar": {
             "outlinewidth": 0,
             "ticks": ""
            },
            "type": "choropleth"
           }
          ],
          "contour": [
           {
            "colorbar": {
             "outlinewidth": 0,
             "ticks": ""
            },
            "colorscale": [
             [
              0,
              "#0d0887"
             ],
             [
              0.1111111111111111,
              "#46039f"
             ],
             [
              0.2222222222222222,
              "#7201a8"
             ],
             [
              0.3333333333333333,
              "#9c179e"
             ],
             [
              0.4444444444444444,
              "#bd3786"
             ],
             [
              0.5555555555555556,
              "#d8576b"
             ],
             [
              0.6666666666666666,
              "#ed7953"
             ],
             [
              0.7777777777777778,
              "#fb9f3a"
             ],
             [
              0.8888888888888888,
              "#fdca26"
             ],
             [
              1,
              "#f0f921"
             ]
            ],
            "type": "contour"
           }
          ],
          "contourcarpet": [
           {
            "colorbar": {
             "outlinewidth": 0,
             "ticks": ""
            },
            "type": "contourcarpet"
           }
          ],
          "heatmap": [
           {
            "colorbar": {
             "outlinewidth": 0,
             "ticks": ""
            },
            "colorscale": [
             [
              0,
              "#0d0887"
             ],
             [
              0.1111111111111111,
              "#46039f"
             ],
             [
              0.2222222222222222,
              "#7201a8"
             ],
             [
              0.3333333333333333,
              "#9c179e"
             ],
             [
              0.4444444444444444,
              "#bd3786"
             ],
             [
              0.5555555555555556,
              "#d8576b"
             ],
             [
              0.6666666666666666,
              "#ed7953"
             ],
             [
              0.7777777777777778,
              "#fb9f3a"
             ],
             [
              0.8888888888888888,
              "#fdca26"
             ],
             [
              1,
              "#f0f921"
             ]
            ],
            "type": "heatmap"
           }
          ],
          "heatmapgl": [
           {
            "colorbar": {
             "outlinewidth": 0,
             "ticks": ""
            },
            "colorscale": [
             [
              0,
              "#0d0887"
             ],
             [
              0.1111111111111111,
              "#46039f"
             ],
             [
              0.2222222222222222,
              "#7201a8"
             ],
             [
              0.3333333333333333,
              "#9c179e"
             ],
             [
              0.4444444444444444,
              "#bd3786"
             ],
             [
              0.5555555555555556,
              "#d8576b"
             ],
             [
              0.6666666666666666,
              "#ed7953"
             ],
             [
              0.7777777777777778,
              "#fb9f3a"
             ],
             [
              0.8888888888888888,
              "#fdca26"
             ],
             [
              1,
              "#f0f921"
             ]
            ],
            "type": "heatmapgl"
           }
          ],
          "histogram": [
           {
            "marker": {
             "pattern": {
              "fillmode": "overlay",
              "size": 10,
              "solidity": 0.2
             }
            },
            "type": "histogram"
           }
          ],
          "histogram2d": [
           {
            "colorbar": {
             "outlinewidth": 0,
             "ticks": ""
            },
            "colorscale": [
             [
              0,
              "#0d0887"
             ],
             [
              0.1111111111111111,
              "#46039f"
             ],
             [
              0.2222222222222222,
              "#7201a8"
             ],
             [
              0.3333333333333333,
              "#9c179e"
             ],
             [
              0.4444444444444444,
              "#bd3786"
             ],
             [
              0.5555555555555556,
              "#d8576b"
             ],
             [
              0.6666666666666666,
              "#ed7953"
             ],
             [
              0.7777777777777778,
              "#fb9f3a"
             ],
             [
              0.8888888888888888,
              "#fdca26"
             ],
             [
              1,
              "#f0f921"
             ]
            ],
            "type": "histogram2d"
           }
          ],
          "histogram2dcontour": [
           {
            "colorbar": {
             "outlinewidth": 0,
             "ticks": ""
            },
            "colorscale": [
             [
              0,
              "#0d0887"
             ],
             [
              0.1111111111111111,
              "#46039f"
             ],
             [
              0.2222222222222222,
              "#7201a8"
             ],
             [
              0.3333333333333333,
              "#9c179e"
             ],
             [
              0.4444444444444444,
              "#bd3786"
             ],
             [
              0.5555555555555556,
              "#d8576b"
             ],
             [
              0.6666666666666666,
              "#ed7953"
             ],
             [
              0.7777777777777778,
              "#fb9f3a"
             ],
             [
              0.8888888888888888,
              "#fdca26"
             ],
             [
              1,
              "#f0f921"
             ]
            ],
            "type": "histogram2dcontour"
           }
          ],
          "mesh3d": [
           {
            "colorbar": {
             "outlinewidth": 0,
             "ticks": ""
            },
            "type": "mesh3d"
           }
          ],
          "parcoords": [
           {
            "line": {
             "colorbar": {
              "outlinewidth": 0,
              "ticks": ""
             }
            },
            "type": "parcoords"
           }
          ],
          "pie": [
           {
            "automargin": true,
            "type": "pie"
           }
          ],
          "scatter": [
           {
            "fillpattern": {
             "fillmode": "overlay",
             "size": 10,
             "solidity": 0.2
            },
            "type": "scatter"
           }
          ],
          "scatter3d": [
           {
            "line": {
             "colorbar": {
              "outlinewidth": 0,
              "ticks": ""
             }
            },
            "marker": {
             "colorbar": {
              "outlinewidth": 0,
              "ticks": ""
             }
            },
            "type": "scatter3d"
           }
          ],
          "scattercarpet": [
           {
            "marker": {
             "colorbar": {
              "outlinewidth": 0,
              "ticks": ""
             }
            },
            "type": "scattercarpet"
           }
          ],
          "scattergeo": [
           {
            "marker": {
             "colorbar": {
              "outlinewidth": 0,
              "ticks": ""
             }
            },
            "type": "scattergeo"
           }
          ],
          "scattergl": [
           {
            "marker": {
             "colorbar": {
              "outlinewidth": 0,
              "ticks": ""
             }
            },
            "type": "scattergl"
           }
          ],
          "scattermapbox": [
           {
            "marker": {
             "colorbar": {
              "outlinewidth": 0,
              "ticks": ""
             }
            },
            "type": "scattermapbox"
           }
          ],
          "scatterpolar": [
           {
            "marker": {
             "colorbar": {
              "outlinewidth": 0,
              "ticks": ""
             }
            },
            "type": "scatterpolar"
           }
          ],
          "scatterpolargl": [
           {
            "marker": {
             "colorbar": {
              "outlinewidth": 0,
              "ticks": ""
             }
            },
            "type": "scatterpolargl"
           }
          ],
          "scatterternary": [
           {
            "marker": {
             "colorbar": {
              "outlinewidth": 0,
              "ticks": ""
             }
            },
            "type": "scatterternary"
           }
          ],
          "surface": [
           {
            "colorbar": {
             "outlinewidth": 0,
             "ticks": ""
            },
            "colorscale": [
             [
              0,
              "#0d0887"
             ],
             [
              0.1111111111111111,
              "#46039f"
             ],
             [
              0.2222222222222222,
              "#7201a8"
             ],
             [
              0.3333333333333333,
              "#9c179e"
             ],
             [
              0.4444444444444444,
              "#bd3786"
             ],
             [
              0.5555555555555556,
              "#d8576b"
             ],
             [
              0.6666666666666666,
              "#ed7953"
             ],
             [
              0.7777777777777778,
              "#fb9f3a"
             ],
             [
              0.8888888888888888,
              "#fdca26"
             ],
             [
              1,
              "#f0f921"
             ]
            ],
            "type": "surface"
           }
          ],
          "table": [
           {
            "cells": {
             "fill": {
              "color": "#EBF0F8"
             },
             "line": {
              "color": "white"
             }
            },
            "header": {
             "fill": {
              "color": "#C8D4E3"
             },
             "line": {
              "color": "white"
             }
            },
            "type": "table"
           }
          ]
         },
         "layout": {
          "annotationdefaults": {
           "arrowcolor": "#2a3f5f",
           "arrowhead": 0,
           "arrowwidth": 1
          },
          "autotypenumbers": "strict",
          "coloraxis": {
           "colorbar": {
            "outlinewidth": 0,
            "ticks": ""
           }
          },
          "colorscale": {
           "diverging": [
            [
             0,
             "#8e0152"
            ],
            [
             0.1,
             "#c51b7d"
            ],
            [
             0.2,
             "#de77ae"
            ],
            [
             0.3,
             "#f1b6da"
            ],
            [
             0.4,
             "#fde0ef"
            ],
            [
             0.5,
             "#f7f7f7"
            ],
            [
             0.6,
             "#e6f5d0"
            ],
            [
             0.7,
             "#b8e186"
            ],
            [
             0.8,
             "#7fbc41"
            ],
            [
             0.9,
             "#4d9221"
            ],
            [
             1,
             "#276419"
            ]
           ],
           "sequential": [
            [
             0,
             "#0d0887"
            ],
            [
             0.1111111111111111,
             "#46039f"
            ],
            [
             0.2222222222222222,
             "#7201a8"
            ],
            [
             0.3333333333333333,
             "#9c179e"
            ],
            [
             0.4444444444444444,
             "#bd3786"
            ],
            [
             0.5555555555555556,
             "#d8576b"
            ],
            [
             0.6666666666666666,
             "#ed7953"
            ],
            [
             0.7777777777777778,
             "#fb9f3a"
            ],
            [
             0.8888888888888888,
             "#fdca26"
            ],
            [
             1,
             "#f0f921"
            ]
           ],
           "sequentialminus": [
            [
             0,
             "#0d0887"
            ],
            [
             0.1111111111111111,
             "#46039f"
            ],
            [
             0.2222222222222222,
             "#7201a8"
            ],
            [
             0.3333333333333333,
             "#9c179e"
            ],
            [
             0.4444444444444444,
             "#bd3786"
            ],
            [
             0.5555555555555556,
             "#d8576b"
            ],
            [
             0.6666666666666666,
             "#ed7953"
            ],
            [
             0.7777777777777778,
             "#fb9f3a"
            ],
            [
             0.8888888888888888,
             "#fdca26"
            ],
            [
             1,
             "#f0f921"
            ]
           ]
          },
          "colorway": [
           "#636efa",
           "#EF553B",
           "#00cc96",
           "#ab63fa",
           "#FFA15A",
           "#19d3f3",
           "#FF6692",
           "#B6E880",
           "#FF97FF",
           "#FECB52"
          ],
          "font": {
           "color": "#2a3f5f"
          },
          "geo": {
           "bgcolor": "white",
           "lakecolor": "white",
           "landcolor": "#E5ECF6",
           "showlakes": true,
           "showland": true,
           "subunitcolor": "white"
          },
          "hoverlabel": {
           "align": "left"
          },
          "hovermode": "closest",
          "mapbox": {
           "style": "light"
          },
          "paper_bgcolor": "white",
          "plot_bgcolor": "#E5ECF6",
          "polar": {
           "angularaxis": {
            "gridcolor": "white",
            "linecolor": "white",
            "ticks": ""
           },
           "bgcolor": "#E5ECF6",
           "radialaxis": {
            "gridcolor": "white",
            "linecolor": "white",
            "ticks": ""
           }
          },
          "scene": {
           "xaxis": {
            "backgroundcolor": "#E5ECF6",
            "gridcolor": "white",
            "gridwidth": 2,
            "linecolor": "white",
            "showbackground": true,
            "ticks": "",
            "zerolinecolor": "white"
           },
           "yaxis": {
            "backgroundcolor": "#E5ECF6",
            "gridcolor": "white",
            "gridwidth": 2,
            "linecolor": "white",
            "showbackground": true,
            "ticks": "",
            "zerolinecolor": "white"
           },
           "zaxis": {
            "backgroundcolor": "#E5ECF6",
            "gridcolor": "white",
            "gridwidth": 2,
            "linecolor": "white",
            "showbackground": true,
            "ticks": "",
            "zerolinecolor": "white"
           }
          },
          "shapedefaults": {
           "line": {
            "color": "#2a3f5f"
           }
          },
          "ternary": {
           "aaxis": {
            "gridcolor": "white",
            "linecolor": "white",
            "ticks": ""
           },
           "baxis": {
            "gridcolor": "white",
            "linecolor": "white",
            "ticks": ""
           },
           "bgcolor": "#E5ECF6",
           "caxis": {
            "gridcolor": "white",
            "linecolor": "white",
            "ticks": ""
           }
          },
          "title": {
           "x": 0.05
          },
          "xaxis": {
           "automargin": true,
           "gridcolor": "white",
           "linecolor": "white",
           "ticks": "",
           "title": {
            "standoff": 15
           },
           "zerolinecolor": "white",
           "zerolinewidth": 2
          },
          "yaxis": {
           "automargin": true,
           "gridcolor": "white",
           "linecolor": "white",
           "ticks": "",
           "title": {
            "standoff": 15
           },
           "zerolinecolor": "white",
           "zerolinewidth": 2
          }
         }
        },
        "title": {
         "text": "<b>2024 Mississauga By-Election Polling Results</b> <br>Bubble size shows how many votes were cast at that station.<br>Bubble transparency shows how much of the vote the winning<br>candidate got (darker = higher % for winning candidate)<br><br><b>Legend</b><br><span style=\"color: gold;\">Dipika Damerla</span><br><span style=\"color: blue;\">Stephen Dasko</span><br><span style=\"color: red;\">Carolyn Parrish</span><br><span style=\"color: green;\">Alvin Tedjo</span><br>"
        },
        "width": 600
       }
      }
     },
     "metadata": {},
     "output_type": "display_data"
    }
   ],
   "source": [
    "import plotly.graph_objects as go\n",
    "\n",
    "mapbox_access_token = open(\".mapbox_token\").read()\n",
    "fig3 = go.Figure(data=go.Scattermapbox(\n",
    "        lon = df_go_non_rr['longitude'],\n",
    "        lat = df_go_non_rr['latitude'],\n",
    "        text = df_go_non_rr[\"hover_text\"],\n",
    "        mode = 'markers',\n",
    "        marker_color = df_go_non_rr['marker_color'],\n",
    "        marker_size = df_go_non_rr['marker_size']\n",
    "        ))\n",
    "fig3.update_layout(\n",
    "        title_text = \"<b>2024 Mississauga By-Election Polling Results</b> <br>\" +\n",
    "        \"Bubble size shows how many votes were cast at that station.<br>\" +\n",
    "        \"Bubble transparency shows how much of the vote the winning<br>\" +\n",
    "        \"candidate got (darker = higher % for winning candidate)<br><br>\" +\n",
    "        \"<b>Legend</b><br>\" +\n",
    "        '<span style=\"color: gold;\">Dipika Damerla</span><br>' +\n",
    "        '<span style=\"color: blue;\">Stephen Dasko</span><br>' +\n",
    "        '<span style=\"color: red;\">Carolyn Parrish</span><br>' +\n",
    "        '<span style=\"color: green;\">Alvin Tedjo</span><br>',\n",
    "        width = 600,\n",
    "        height = 500,\n",
    "        mapbox=dict(\n",
    "                accesstoken=mapbox_access_token,\n",
    "                bearing=0,\n",
    "                center=go.layout.mapbox.Center(\n",
    "                lat=43.6014499,\n",
    "                lon=-79.6750527\n",
    "                ),\n",
    "                pitch=0,\n",
    "                zoom=9\n",
    "    ),\n",
    "    margin={\"r\": 20, \"t\": 150, \"l\": 170, \"b\": 20}\n",
    "    )\n",
    "fig3.show()"
   ]
  },
  {
   "cell_type": "code",
   "execution_count": 95,
   "metadata": {},
   "outputs": [],
   "source": [
    "fig3.write_html(\"html/index.html\")"
   ]
  },
  {
   "cell_type": "code",
   "execution_count": 97,
   "metadata": {},
   "outputs": [
    {
     "data": {
      "application/vnd.plotly.v1+json": {
       "config": {
        "plotlyServerURL": "https://plot.ly"
       },
       "data": [
        {
         "lat": [
          43.5317405,
          43.5430659,
          43.5846052,
          43.7325937,
          43.6182891,
          43.6023606,
          43.606447,
          43.6228484,
          43.6167031,
          43.567918,
          43.6035776,
          43.5242194,
          43.5417764,
          43.5523473,
          43.5594022,
          43.5113661,
          43.5141232,
          43.5840498,
          43.5733207,
          43.5848992,
          43.6237988,
          43.554487,
          43.6277822,
          43.6405762,
          43.6080991,
          43.7229135,
          43.5790671,
          43.5565129,
          43.5389206,
          43.5885973,
          43.6054269,
          43.5730089,
          43.5716173,
          43.5579743,
          43.6272043,
          43.6163705,
          43.5155364,
          43.5969757,
          43.558978,
          43.5571271,
          43.5831097,
          43.6228975,
          43.5371781,
          43.5314149,
          43.5310891,
          43.7236582,
          43.7153229,
          43.5673236,
          43.5637881,
          43.5853306,
          43.6273906,
          43.5927058,
          43.572413,
          43.5715204,
          43.5786562,
          43.5971804,
          43.5889484,
          43.7137766,
          43.5830876,
          43.5408583,
          43.5451497,
          43.5696264,
          43.5527194,
          43.5625863,
          43.5781665,
          43.5615863,
          43.5935871,
          43.5888667,
          43.7152656,
          43.589527,
          43.5503199,
          43.6180267,
          43.5782088,
          43.5870021,
          43.5297859,
          43.5826276,
          43.5930552,
          43.6068459,
          43.5836315,
          43.5424495,
          43.5575639,
          43.5265014,
          43.5793532,
          43.5470136,
          43.6079926,
          43.6130778,
          43.5796082,
          43.6313618,
          43.580593,
          43.6235856,
          43.581786,
          43.5475662,
          43.5741493,
          43.6056817,
          43.5457362,
          43.5749633,
          43.5666543,
          43.577775,
          43.6094088,
          43.5058688,
          43.5861727,
          43.6042595,
          43.536244,
          43.5521723,
          43.5995849,
          43.5789177,
          43.7213746,
          43.5938591,
          43.5608084,
          43.565415,
          43.6053953,
          43.5799982,
          43.6008652,
          43.577515,
          43.5785392,
          43.6361798,
          43.6023154,
          43.5890308,
          43.5749911,
          43.5902392,
          43.59617,
          43.5628379
         ],
         "lon": [
          -79.7111131,
          -79.7196424,
          -79.6356674,
          -79.6415982,
          -79.5874355,
          -79.6200006,
          -79.7076877,
          -79.5992311,
          -79.5982973,
          -79.7330462,
          -79.6789137,
          -79.6959164,
          -79.7442606,
          -79.7476441,
          -79.7485886,
          -79.6504247,
          -79.6213433,
          -79.602443,
          -79.6098836,
          -79.6524935,
          -79.7102704,
          -79.7071146,
          -79.7228387,
          -79.7235726,
          -79.5967603,
          -79.6312316,
          -79.6761537,
          -79.7179229,
          -79.6670068,
          -79.6370061,
          -79.6664973,
          -79.6310687,
          -79.6157365,
          -79.5826635,
          -79.5890909,
          -79.6556235,
          -79.6104368,
          -79.6580513,
          -79.6339452,
          -79.5980484,
          -79.7898674,
          -79.7481073,
          -79.6279433,
          -79.6248636,
          -79.6277885,
          -79.6411812,
          -79.6531957,
          -79.6250006,
          -79.6474133,
          -79.7567823,
          -79.7251369,
          -79.6133653,
          -79.7561184,
          -79.6091088,
          -79.5754989,
          -79.6244131,
          -79.6447259,
          -79.6481383,
          -79.5931146,
          -79.6338877,
          -79.7277799,
          -79.7336824,
          -79.5914341,
          -79.5909255,
          -79.5671069,
          -79.6621594,
          -79.7230604,
          -79.6839109,
          -79.6409166,
          -79.7125299,
          -79.590494,
          -79.6642433,
          -79.7514064,
          -79.7630757,
          -79.6662338,
          -79.6849387,
          -79.6126499,
          -79.6123434,
          -79.5502628,
          -79.6849221,
          -79.6544427,
          -79.6724038,
          -79.7687787,
          -79.6053124,
          -79.6436836,
          -79.6049064,
          -79.7775446,
          -79.7176918,
          -79.7917009,
          -79.6131205,
          -79.6737547,
          -79.7363096,
          -79.6116201,
          -79.6327443,
          -79.6967984,
          -79.6666871,
          -79.7591338,
          -79.7417853,
          -79.7081828,
          -79.6515695,
          -79.6847512,
          -79.6618068,
          -79.6770143,
          -79.6813384,
          -79.6560442,
          -79.6329483,
          -79.646495,
          -79.7712012,
          -79.698749,
          -79.7706664,
          -79.602156,
          -79.6005183,
          -79.6898744,
          -79.707977,
          -79.7204597,
          -79.602457,
          -79.6353669,
          -79.6210421,
          -79.7260753,
          -79.5834708,
          -79.7029782,
          -79.6499096
         ],
         "marker": {
          "color": [
           "rgba(0, 128, 0, 0.5881201600203068)",
           "rgba(255, 0, 0, 0.8654571669162473)",
           "rgba(255, 0, 0, 0.5506502404265651)",
           "rgba(255, 0, 0, 0.9549050003315426)",
           "rgba(255, 215, 0, 0.7252262600403874)",
           "rgba(255, 0, 0, 0.46893228973377055)",
           "rgba(255, 0, 0, 0.7006900389824618)",
           "rgba(255, 215, 0, 0.5869735789540446)",
           "rgba(255, 215, 0, 0.8604976838623214)",
           "rgba(255, 0, 0, 0.6688631005172728)",
           "rgba(255, 0, 0, 0.8218952392407877)",
           "rgba(0, 128, 0, 0.6085285063914943)",
           "rgba(255, 0, 0, 0.82943738944057)",
           "rgba(255, 0, 0, 0.8590127775360077)",
           "rgba(255, 0, 0, 0.8528866869008987)",
           "rgba(0, 128, 0, 0.7787359439068509)",
           "rgba(0, 128, 0, 0.7675809650424554)",
           "rgba(255, 215, 0, 0.6325131960109155)",
           "rgba(255, 0, 0, 0.46765475779109994)",
           "rgba(255, 0, 0, 0.7472006139271478)",
           "rgba(255, 0, 0, 0.689048550913676)",
           "rgba(0, 128, 0, 0.5749469934366154)",
           "rgba(255, 0, 0, 0.6933035283398975)",
           "rgba(255, 0, 0, 0.7944252876400394)",
           "rgba(255, 215, 0, 0.6760153698972832)",
           "rgba(255, 0, 0, 0.9014934020174928)",
           "rgba(255, 0, 0, 0.782756125030568)",
           "rgba(255, 0, 0, 0.6992695895265002)",
           "rgba(0, 128, 0, 0.541619534104242)",
           "rgba(255, 0, 0, 0.6844432801910031)",
           "rgba(255, 0, 0, 0.8133602045424845)",
           "rgba(255, 215, 0, 0.5541216517430151)",
           "rgba(255, 215, 0, 0.6564710536905326)",
           "rgba(0, 0, 255, 1.0)",
           "rgba(255, 215, 0, 0.7056517841472646)",
           "rgba(255, 0, 0, 0.8299408244694516)",
           "rgba(0, 0, 255, 0.8021983851080792)",
           "rgba(255, 0, 0, 0.7845458977843583)",
           "rgba(255, 0, 0, 0.604290351276436)",
           "rgba(0, 0, 255, 0.9589498041031702)",
           "rgba(255, 0, 0, 0.7977544732168927)",
           "rgba(0, 128, 0, 0.5865274426679824)",
           "rgba(0, 0, 255, 0.6881160765921384)",
           "rgba(0, 0, 255, 0.6773121336462038)",
           "rgba(0, 128, 0, 0.6806029298250877)",
           "rgba(255, 0, 0, 0.9468085939570061)",
           "rgba(255, 0, 0, 0.9416180843741357)",
           "rgba(255, 0, 0, 0.574029512256753)",
           "rgba(255, 0, 0, 0.8136901278357429)",
           "rgba(0, 128, 0, 0.648780883532139)",
           "rgba(255, 0, 0, 0.6600566639042781)",
           "rgba(255, 215, 0, 0.535548893038926)",
           "rgba(0, 128, 0, 0.8057874421521516)",
           "rgba(255, 215, 0, 0.6540987232067658)",
           "rgba(0, 0, 255, 0.9866827519058263)",
           "rgba(255, 0, 0, 0.5212302474957203)",
           "rgba(255, 0, 0, 0.7556369190810964)",
           "rgba(255, 0, 0, 0.9552903151263403)",
           "rgba(255, 0, 0, 0.47279735436408815)",
           "rgba(255, 0, 0, 0.545946228447317)",
           "rgba(255, 0, 0, 0.860631020051678)",
           "rgba(0, 128, 0, 0.6020482717831092)",
           "rgba(0, 0, 255, 0.9270591517669469)",
           "rgba(0, 0, 255, 0.9949705007140692)",
           "rgba(0, 0, 255, 0.9669800786211674)",
           "rgba(0, 128, 0, 0.7026292525390572)",
           "rgba(255, 0, 0, 0.6262047999426089)",
           "rgba(255, 0, 0, 0.8211639768253731)",
           "rgba(255, 0, 0, 0.9981233314591352)",
           "rgba(255, 0, 0, 0.7411153034512724)",
           "rgba(0, 0, 255, 0.9689702986713609)",
           "rgba(255, 0, 0, 0.757513469583784)",
           "rgba(0, 128, 0, 0.7981227868729609)",
           "rgba(0, 128, 0, 0.6574026512059911)",
           "rgba(0, 128, 0, 0.9178014688022373)",
           "rgba(255, 0, 0, 0.7314273701598116)",
           "rgba(255, 215, 0, 0.5223222380372228)",
           "rgba(255, 215, 0, 0.7725448605285719)",
           "rgba(0, 0, 255, 0.972417844710169)",
           "rgba(0, 128, 0, 0.6269886677817983)",
           "rgba(255, 0, 0, 0.571173033029498)",
           "rgba(0, 128, 0, 0.9526779050656227)",
           "rgba(0, 128, 0, 0.6452573685547983)",
           "rgba(0, 0, 255, 0.7597740397378786)",
           "rgba(255, 0, 0, 0.7276383513407041)",
           "rgba(255, 215, 0, 0.6628621804259495)",
           "rgba(0, 128, 0, 0.723179093869567)",
           "rgba(255, 0, 0, 0.6705499756409675)",
           "rgba(0, 128, 0, 0.6743813353075908)",
           "rgba(255, 0, 0, 0.5529532474852951)",
           "rgba(255, 0, 0, 0.800254407277458)",
           "rgba(255, 0, 0, 0.6432278566550937)",
           "rgba(0, 128, 0, 0.5025822091159913)",
           "rgba(255, 0, 0, 0.7048786329304612)",
           "rgba(0, 128, 0, 0.6373940108978016)",
           "rgba(0, 128, 0, 0.6731241887334057)",
           "rgba(0, 128, 0, 0.6720448303783599)",
           "rgba(0, 128, 0, 0.8208881740909849)",
           "rgba(255, 0, 0, 0.7337074105292274)",
           "rgba(0, 128, 0, 0.6186759377315932)",
           "rgba(255, 0, 0, 0.7639557633379669)",
           "rgba(255, 0, 0, 0.8563798244824521)",
           "rgba(0, 128, 0, 0.6890059338297198)",
           "rgba(0, 128, 0, 0.5650497777224454)",
           "rgba(255, 0, 0, 0.7451747912883235)",
           "rgba(255, 0, 0, 0.5299440456956214)",
           "rgba(255, 0, 0, 0.9379452532004761)",
           "rgba(0, 128, 0, 0.7983309144514992)",
           "rgba(255, 0, 0, 0.5649510686875606)",
           "rgba(0, 128, 0, 0.6759458923023318)",
           "rgba(255, 215, 0, 0.5970399426580479)",
           "rgba(255, 0, 0, 0.46586427484481296)",
           "rgba(255, 0, 0, 0.7757740651792)",
           "rgba(255, 0, 0, 0.7033737164115352)",
           "rgba(0, 128, 0, 0.5934985722032298)",
           "rgba(255, 0, 0, 0.23084269670863025)",
           "rgba(0, 128, 0, 0.5476876050335447)",
           "rgba(255, 215, 0, 0.6273555750368186)",
           "rgba(255, 0, 0, 0.5292719738181599)",
           "rgba(0, 0, 255, 0.9966264435820429)",
           "rgba(255, 0, 0, 0.7019416531092021)",
           "rgba(255, 0, 0, 0.8152639525937677)"
          ],
          "size": [
           11.126071799346366,
           7.417381199564245,
           8.59212205473763,
           3.746343246326776,
           5.298129428260175,
           6.659645425469922,
           7.714192889073008,
           13.631748288591188,
           4.709080440647752,
           9.328319455274306,
           10.273454124544617,
           9.954281455647395,
           9.954281455647395,
           17.241321234021967,
           8.258966419340224,
           20,
           10.066445913694333,
           7.911794437930637,
           0.5298129428260175,
           9.267941348654796,
           9.099836127307988,
           9.869321596337299,
           9.343353017735929,
           7.750495173767705,
           6.155870112510925,
           3.7086905997821225,
           10.024531314239855,
           14.872558033376112,
           8.443828847983305,
           7.641070927054709,
           6.826162262067184,
           10.93521592692257,
           4.768316485434157,
           5.65685424949238,
           4.941766144970738,
           15.58226612350911,
           6.907915622357733,
           7.206235116994415,
           10.870852707883188,
           4.171751283565431,
           9.996490612280066,
           9.447918177817632,
           7.436279016688056,
           12.081593946193596,
           10.08037871747482,
           7.804632002968134,
           3.4335803011158084,
           5.350848432479509,
           8.393815601434023,
           19.343614930940163,
           5.827942371086192,
           6.574805713892891,
           9.37334780763026,
           0.5298129428260175,
           9.996490612280066,
           13.277074291966057,
           11.751819567960304,
           3.0435436410107286,
           4.768316485434157,
           6.133028215141302,
           7.641070927054709,
           8.443828847983305,
           6.488856845230502,
           5.803810000880093,
           7.028762961711671,
           6.826162262067184,
           9.536632970868315,
           9.754890811118395,
           3.7086905997821225,
           15.618252929230065,
           6.574805713892891,
           7.341303483857976,
           9.191911012960006,
           6.907915622357733,
           10.793110213009754,
           7.511394852594221,
           5.454758103244569,
           5.454758103244569,
           6.907915622357733,
           17.44364359170371,
           8.035011108192192,
           11.988298388245681,
           9.507153354831335,
           6.805570473787206,
           8.657214818927194,
           5.3245541778615095,
           10.094292290304718,
           6.574805713892891,
           8.737898900364003,
           7.028762961711671,
           9.222398363709267,
           7.379440381958322,
           7.206235116994415,
           8.737898900364003,
           12.035036570910698,
           10.870852707883188,
           10.806106136095526,
           9.099836127307988,
           7.695977532155261,
           4.826825624987409,
           7.964834994601462,
           6.617361534948088,
           9.115246529756922,
           10.287106561298408,
           8.427190745417427,
           7.947194142390263,
           3.4742158019611407,
           9.551338658818386,
           6.201301504593789,
           10.806106136095526,
           5.970688637587589,
           4.970085953579165,
           10.094292290304718,
           8.737898900364003,
           9.267941348654796,
           7.511394852594221,
           6.743417843388197,
           6.596117943898863,
           8.37707816583391,
           7.186732415153464,
           11.08816343769574,
           6.743417843388197
          ]
         },
         "mode": "markers",
         "text": [
          "Winner: Alvin Tedjo<br>\nTotal votes: 1418<br>\nDipika Damerla: 222<br>\nStephen Dasko: 245<br>\nCarolyn Parrish: 375<br>\nAlvin Tedjo: 441<br>\nWinner vote %: 31.10\n",
          "Winner: Carolyn Parrish<br>\nTotal votes: 879<br>\nDipika Damerla: 138<br>\nStephen Dasko: 52<br>\nCarolyn Parrish: 410<br>\nAlvin Tedjo: 196<br>\nWinner vote %: 46.64\n",
          "Winner: Carolyn Parrish<br>\nTotal votes: 1122<br>\nDipika Damerla: 291<br>\nStephen Dasko: 125<br>\nCarolyn Parrish: 338<br>\nAlvin Tedjo: 263<br>\nWinner vote %: 30.12\n",
          "Winner: Carolyn Parrish<br>\nTotal votes: 454<br>\nDipika Damerla: 60<br>\nStephen Dasko: 18<br>\nCarolyn Parrish: 255<br>\nAlvin Tedjo: 50<br>\nWinner vote %: 56.17\n",
          "Winner: Dipika Damerla<br>\nTotal votes: 789<br>\nDipika Damerla: 289<br>\nStephen Dasko: 113<br>\nCarolyn Parrish: 191<br>\nAlvin Tedjo: 100<br>\nWinner vote %: 36.63\n",
          "Winner: Carolyn Parrish<br>\nTotal votes: 773<br>\nDipika Damerla: 213<br>\nStephen Dasko: 109<br>\nCarolyn Parrish: 221<br>\nAlvin Tedjo: 158<br>\nWinner vote %: 28.59\n",
          "Winner: Carolyn Parrish<br>\nTotal votes: 865<br>\nDipika Damerla: 216<br>\nStephen Dasko: 69<br>\nCarolyn Parrish: 306<br>\nAlvin Tedjo: 212<br>\nWinner vote %: 35.38\n",
          "Winner: Dipika Damerla<br>\nTotal votes: 3354<br>\nDipika Damerla: 1042<br>\nStephen Dasko: 446<br>\nCarolyn Parrish: 864<br>\nAlvin Tedjo: 662<br>\nWinner vote %: 31.07\n",
          "Winner: Dipika Damerla<br>\nTotal votes: 749<br>\nDipika Damerla: 346<br>\nStephen Dasko: 153<br>\nCarolyn Parrish: 129<br>\nAlvin Tedjo: 79<br>\nWinner vote %: 46.19\n",
          "Winner: Carolyn Parrish<br>\nTotal votes: 1052<br>\nDipika Damerla: 172<br>\nStephen Dasko: 106<br>\nCarolyn Parrish: 357<br>\nAlvin Tedjo: 310<br>\nWinner vote %: 33.94\n",
          "Winner: Carolyn Parrish<br>\nTotal votes: 1725<br>\nDipika Damerla: 315<br>\nStephen Dasko: 121<br>\nCarolyn Parrish: 741<br>\nAlvin Tedjo: 376<br>\nWinner vote %: 42.96\n",
          "Winner: Alvin Tedjo<br>\nTotal votes: 1113<br>\nDipika Damerla: 162<br>\nStephen Dasko: 163<br>\nCarolyn Parrish: 350<br>\nAlvin Tedjo: 353<br>\nWinner vote %: 31.72\n",
          "Winner: Carolyn Parrish<br>\nTotal votes: 1311<br>\nDipika Damerla: 208<br>\nStephen Dasko: 75<br>\nCarolyn Parrish: 571<br>\nAlvin Tedjo: 353<br>\nWinner vote %: 43.55\n",
          "Winner: Carolyn Parrish<br>\nTotal votes: 4355<br>\nDipika Damerla: 688<br>\nStephen Dasko: 251<br>\nCarolyn Parrish: 2006<br>\nAlvin Tedjo: 1059<br>\nWinner vote %: 46.06\n",
          "Winner: Carolyn Parrish<br>\nTotal votes: 960<br>\nDipika Damerla: 152<br>\nStephen Dasko: 61<br>\nCarolyn Parrish: 437<br>\nAlvin Tedjo: 243<br>\nWinner vote %: 45.52\n",
          "Winner: Alvin Tedjo<br>\nTotal votes: 3577<br>\nDipika Damerla: 456<br>\nStephen Dasko: 752<br>\nCarolyn Parrish: 704<br>\nAlvin Tedjo: 1425<br>\nWinner vote %: 39.84\n",
          "Winner: Alvin Tedjo<br>\nTotal votes: 923<br>\nDipika Damerla: 145<br>\nStephen Dasko: 218<br>\nCarolyn Parrish: 145<br>\nAlvin Tedjo: 361<br>\nWinner vote %: 39.11\n",
          "Winner: Dipika Damerla<br>\nTotal votes: 1482<br>\nDipika Damerla: 482<br>\nStephen Dasko: 270<br>\nCarolyn Parrish: 394<br>\nAlvin Tedjo: 223<br>\nWinner vote %: 32.52\n",
          "Winner: Carolyn Parrish<br>\nTotal votes: 14<br>\nDipika Damerla: 1<br>\nStephen Dasko: 1<br>\nCarolyn Parrish: 4<br>\nAlvin Tedjo: 1<br>\nWinner vote %: 28.57\n",
          "Winner: Carolyn Parrish<br>\nTotal votes: 1133<br>\nDipika Damerla: 208<br>\nStephen Dasko: 96<br>\nCarolyn Parrish: 429<br>\nAlvin Tedjo: 306<br>\nWinner vote %: 37.86\n",
          "Winner: Carolyn Parrish<br>\nTotal votes: 1318<br>\nDipika Damerla: 347<br>\nStephen Dasko: 104<br>\nCarolyn Parrish: 459<br>\nAlvin Tedjo: 295<br>\nWinner vote %: 34.83\n",
          "Winner: Alvin Tedjo<br>\nTotal votes: 1129<br>\nDipika Damerla: 235<br>\nStephen Dasko: 108<br>\nCarolyn Parrish: 324<br>\nAlvin Tedjo: 347<br>\nWinner vote %: 30.74\n",
          "Winner: Carolyn Parrish<br>\nTotal votes: 1282<br>\nDipika Damerla: 326<br>\nStephen Dasko: 94<br>\nCarolyn Parrish: 449<br>\nAlvin Tedjo: 311<br>\nWinner vote %: 35.02\n",
          "Winner: Carolyn Parrish<br>\nTotal votes: 1029<br>\nDipika Damerla: 286<br>\nStephen Dasko: 51<br>\nCarolyn Parrish: 421<br>\nAlvin Tedjo: 214<br>\nWinner vote %: 40.91\n",
          "Winner: Dipika Damerla<br>\nTotal votes: 844<br>\nDipika Damerla: 289<br>\nStephen Dasko: 139<br>\nCarolyn Parrish: 196<br>\nAlvin Tedjo: 135<br>\nWinner vote %: 34.24\n",
          "Winner: Carolyn Parrish<br>\nTotal votes: 343<br>\nDipika Damerla: 35<br>\nStephen Dasko: 14<br>\nCarolyn Parrish: 172<br>\nAlvin Tedjo: 49<br>\nWinner vote %: 50.15\n",
          "Winner: Carolyn Parrish<br>\nTotal votes: 1304<br>\nDipika Damerla: 219<br>\nStephen Dasko: 93<br>\nCarolyn Parrish: 523<br>\nAlvin Tedjo: 358<br>\nWinner vote %: 40.11\n",
          "Winner: Carolyn Parrish<br>\nTotal votes: 2719<br>\nDipika Damerla: 450<br>\nStephen Dasko: 221<br>\nCarolyn Parrish: 960<br>\nAlvin Tedjo: 788<br>\nWinner vote %: 35.31\n",
          "Winner: Alvin Tedjo<br>\nTotal votes: 849<br>\nDipika Damerla: 132<br>\nStephen Dasko: 156<br>\nCarolyn Parrish: 219<br>\nAlvin Tedjo: 254<br>\nWinner vote %: 29.92\n",
          "Winner: Carolyn Parrish<br>\nTotal votes: 988<br>\nDipika Damerla: 307<br>\nStephen Dasko: 67<br>\nCarolyn Parrish: 342<br>\nAlvin Tedjo: 208<br>\nWinner vote %: 34.62\n",
          "Winner: Carolyn Parrish<br>\nTotal votes: 922<br>\nDipika Damerla: 187<br>\nStephen Dasko: 73<br>\nCarolyn Parrish: 390<br>\nAlvin Tedjo: 166<br>\nWinner vote %: 42.30\n",
          "Winner: Dipika Damerla<br>\nTotal votes: 1834<br>\nDipika Damerla: 554<br>\nStephen Dasko: 185<br>\nCarolyn Parrish: 543<br>\nAlvin Tedjo: 426<br>\nWinner vote %: 30.21\n",
          "Winner: Dipika Damerla<br>\nTotal votes: 709<br>\nDipika Damerla: 237<br>\nStephen Dasko: 121<br>\nCarolyn Parrish: 230<br>\nAlvin Tedjo: 81<br>\nWinner vote %: 33.43\n",
          "Winner: Stephen Dasko<br>\nTotal votes: 818<br>\nDipika Damerla: 83<br>\nStephen Dasko: 508<br>\nCarolyn Parrish: 87<br>\nAlvin Tedjo: 114<br>\nWinner vote %: 62.10\n",
          "Winner: Dipika Damerla<br>\nTotal votes: 598<br>\nDipika Damerla: 213<br>\nStephen Dasko: 71<br>\nCarolyn Parrish: 171<br>\nAlvin Tedjo: 87<br>\nWinner vote %: 35.62\n",
          "Winner: Carolyn Parrish<br>\nTotal votes: 4356<br>\nDipika Damerla: 813<br>\nStephen Dasko: 338<br>\nCarolyn Parrish: 1899<br>\nAlvin Tedjo: 865<br>\nWinner vote %: 43.60\n",
          "Winner: Stephen Dasko<br>\nTotal votes: 680<br>\nDipika Damerla: 79<br>\nStephen Dasko: 282<br>\nCarolyn Parrish: 118<br>\nAlvin Tedjo: 170<br>\nWinner vote %: 41.47\n",
          "Winner: Carolyn Parrish<br>\nTotal votes: 962<br>\nDipika Damerla: 204<br>\nStephen Dasko: 74<br>\nCarolyn Parrish: 387<br>\nAlvin Tedjo: 185<br>\nWinner vote %: 40.23\n",
          "Winner: Carolyn Parrish<br>\nTotal votes: 2628<br>\nDipika Damerla: 766<br>\nStephen Dasko: 431<br>\nCarolyn Parrish: 830<br>\nAlvin Tedjo: 421<br>\nWinner vote %: 31.58\n",
          "Winner: Stephen Dasko<br>\nTotal votes: 510<br>\nDipika Damerla: 61<br>\nStephen Dasko: 289<br>\nCarolyn Parrish: 74<br>\nAlvin Tedjo: 62<br>\nWinner vote %: 56.67\n",
          "Winner: Carolyn Parrish<br>\nTotal votes: 1339<br>\nDipika Damerla: 265<br>\nStephen Dasko: 71<br>\nCarolyn Parrish: 551<br>\nAlvin Tedjo: 356<br>\nWinner vote %: 41.15\n",
          "Winner: Alvin Tedjo<br>\nTotal votes: 1024<br>\nDipika Damerla: 223<br>\nStephen Dasko: 106<br>\nCarolyn Parrish: 292<br>\nAlvin Tedjo: 318<br>\nWinner vote %: 31.05\n",
          "Winner: Stephen Dasko<br>\nTotal votes: 690<br>\nDipika Damerla: 114<br>\nStephen Dasko: 240<br>\nCarolyn Parrish: 109<br>\nAlvin Tedjo: 197<br>\nWinner vote %: 34.78\n",
          "Winner: Stephen Dasko<br>\nTotal votes: 1589<br>\nDipika Damerla: 218<br>\nStephen Dasko: 545<br>\nCarolyn Parrish: 238<br>\nAlvin Tedjo: 520<br>\nWinner vote %: 34.30\n",
          "Winner: Alvin Tedjo<br>\nTotal votes: 1051<br>\nDipika Damerla: 164<br>\nStephen Dasko: 323<br>\nCarolyn Parrish: 170<br>\nAlvin Tedjo: 362<br>\nWinner vote %: 34.44\n",
          "Winner: Carolyn Parrish<br>\nTotal votes: 2140<br>\nDipika Damerla: 287<br>\nStephen Dasko: 48<br>\nCarolyn Parrish: 1181<br>\nAlvin Tedjo: 217<br>\nWinner vote %: 55.19\n",
          "Winner: Carolyn Parrish<br>\nTotal votes: 350<br>\nDipika Damerla: 55<br>\nStephen Dasko: 15<br>\nCarolyn Parrish: 191<br>\nAlvin Tedjo: 42<br>\nWinner vote %: 54.57\n",
          "Winner: Carolyn Parrish<br>\nTotal votes: 788<br>\nDipika Damerla: 231<br>\nStephen Dasko: 167<br>\nCarolyn Parrish: 242<br>\nAlvin Tedjo: 102<br>\nWinner vote %: 30.71\n",
          "Winner: Carolyn Parrish<br>\nTotal votes: 1153<br>\nDipika Damerla: 159<br>\nStephen Dasko: 123<br>\nCarolyn Parrish: 488<br>\nAlvin Tedjo: 251<br>\nWinner vote %: 42.32\n",
          "Winner: Alvin Tedjo<br>\nTotal votes: 4024<br>\nDipika Damerla: 727<br>\nStephen Dasko: 352<br>\nCarolyn Parrish: 1208<br>\nAlvin Tedjo: 1333<br>\nWinner vote %: 33.13\n",
          "Winner: Carolyn Parrish<br>\nTotal votes: 420<br>\nDipika Damerla: 92<br>\nStephen Dasko: 45<br>\nCarolyn Parrish: 141<br>\nAlvin Tedjo: 121<br>\nWinner vote %: 33.57\n",
          "Winner: Dipika Damerla<br>\nTotal votes: 648<br>\nDipika Damerla: 193<br>\nStephen Dasko: 129<br>\nCarolyn Parrish: 135<br>\nAlvin Tedjo: 154<br>\nWinner vote %: 29.78\n",
          "Winner: Alvin Tedjo<br>\nTotal votes: 750<br>\nDipika Damerla: 126<br>\nStephen Dasko: 86<br>\nCarolyn Parrish: 171<br>\nAlvin Tedjo: 313<br>\nWinner vote %: 41.73\n",
          "Winner: Dipika Damerla<br>\nTotal votes: 9<br>\nDipika Damerla: 3<br>\nStephen Dasko: 1<br>\nCarolyn Parrish: 2<br>\nAlvin Tedjo: 1<br>\nWinner vote %: 33.33\n",
          "Winner: Stephen Dasko<br>\nTotal votes: 2728<br>\nDipika Damerla: 315<br>\nStephen Dasko: 1644<br>\nCarolyn Parrish: 283<br>\nAlvin Tedjo: 356<br>\nWinner vote %: 60.26\n",
          "Winner: Carolyn Parrish<br>\nTotal votes: 3076<br>\nDipika Damerla: 903<br>\nStephen Dasko: 336<br>\nCarolyn Parrish: 907<br>\nAlvin Tedjo: 628<br>\nWinner vote %: 29.49\n",
          "Winner: Carolyn Parrish<br>\nTotal votes: 3052<br>\nDipika Damerla: 587<br>\nStephen Dasko: 293<br>\nCarolyn Parrish: 1171<br>\nAlvin Tedjo: 492<br>\nWinner vote %: 38.37\n",
          "Winner: Carolyn Parrish<br>\nTotal votes: 354<br>\nDipika Damerla: 63<br>\nStephen Dasko: 13<br>\nCarolyn Parrish: 199<br>\nAlvin Tedjo: 33<br>\nWinner vote %: 56.21\n",
          "Winner: Carolyn Parrish<br>\nTotal votes: 569<br>\nDipika Damerla: 139<br>\nStephen Dasko: 152<br>\nCarolyn Parrish: 163<br>\nAlvin Tedjo: 81<br>\nWinner vote %: 28.65\n",
          "Winner: Carolyn Parrish<br>\nTotal votes: 643<br>\nDipika Damerla: 72<br>\nStephen Dasko: 177<br>\nCarolyn Parrish: 193<br>\nAlvin Tedjo: 134<br>\nWinner vote %: 30.02\n",
          "Winner: Carolyn Parrish<br>\nTotal votes: 870<br>\nDipika Damerla: 131<br>\nStephen Dasko: 61<br>\nCarolyn Parrish: 402<br>\nAlvin Tedjo: 208<br>\nWinner vote %: 46.21\n",
          "Winner: Alvin Tedjo<br>\nTotal votes: 806<br>\nDipika Damerla: 130<br>\nStephen Dasko: 102<br>\nCarolyn Parrish: 216<br>\nAlvin Tedjo: 254<br>\nWinner vote %: 31.51\n",
          "Winner: Stephen Dasko<br>\nTotal votes: 828<br>\nDipika Damerla: 85<br>\nStephen Dasko: 438<br>\nCarolyn Parrish: 120<br>\nAlvin Tedjo: 150<br>\nWinner vote %: 52.90\n",
          "Winner: Stephen Dasko<br>\nTotal votes: 886<br>\nDipika Damerla: 91<br>\nStephen Dasko: 544<br>\nCarolyn Parrish: 101<br>\nAlvin Tedjo: 120<br>\nWinner vote %: 61.40\n",
          "Winner: Stephen Dasko<br>\nTotal votes: 990<br>\nDipika Damerla: 74<br>\nStephen Dasko: 571<br>\nCarolyn Parrish: 115<br>\nAlvin Tedjo: 176<br>\nWinner vote %: 57.68\n",
          "Winner: Alvin Tedjo<br>\nTotal votes: 468<br>\nDipika Damerla: 66<br>\nStephen Dasko: 68<br>\nCarolyn Parrish: 124<br>\nAlvin Tedjo: 166<br>\nWinner vote %: 35.47\n",
          "Winner: Carolyn Parrish<br>\nTotal votes: 1099<br>\nDipika Damerla: 221<br>\nStephen Dasko: 135<br>\nCarolyn Parrish: 355<br>\nAlvin Tedjo: 324<br>\nWinner vote %: 32.30\n",
          "Winner: Carolyn Parrish<br>\nTotal votes: 1352<br>\nDipika Damerla: 250<br>\nStephen Dasko: 86<br>\nCarolyn Parrish: 580<br>\nAlvin Tedjo: 339<br>\nWinner vote %: 42.90\n",
          "Winner: Carolyn Parrish<br>\nTotal votes: 435<br>\nDipika Damerla: 51<br>\nStephen Dasko: 10<br>\nCarolyn Parrish: 269<br>\nAlvin Tedjo: 49<br>\nWinner vote %: 61.84\n",
          "Winner: Carolyn Parrish<br>\nTotal votes: 3463<br>\nDipika Damerla: 741<br>\nStephen Dasko: 304<br>\nCarolyn Parrish: 1299<br>\nAlvin Tedjo: 869<br>\nWinner vote %: 37.51\n",
          "Winner: Stephen Dasko<br>\nTotal votes: 1015<br>\nDipika Damerla: 100<br>\nStephen Dasko: 588<br>\nCarolyn Parrish: 125<br>\nAlvin Tedjo: 154<br>\nWinner vote %: 57.93\n",
          "Winner: Carolyn Parrish<br>\nTotal votes: 725<br>\nDipika Damerla: 102<br>\nStephen Dasko: 72<br>\nCarolyn Parrish: 279<br>\nAlvin Tedjo: 192<br>\nWinner vote %: 38.48\n",
          "Winner: Alvin Tedjo<br>\nTotal votes: 731<br>\nDipika Damerla: 106<br>\nStephen Dasko: 77<br>\nCarolyn Parrish: 200<br>\nAlvin Tedjo: 301<br>\nWinner vote %: 41.18\n",
          "Winner: Alvin Tedjo<br>\nTotal votes: 508<br>\nDipika Damerla: 74<br>\nStephen Dasko: 75<br>\nCarolyn Parrish: 140<br>\nAlvin Tedjo: 170<br>\nWinner vote %: 33.46\n",
          "Winner: Alvin Tedjo<br>\nTotal votes: 800<br>\nDipika Damerla: 48<br>\nStephen Dasko: 126<br>\nCarolyn Parrish: 176<br>\nAlvin Tedjo: 415<br>\nWinner vote %: 51.88\n",
          "Winner: Carolyn Parrish<br>\nTotal votes: 679<br>\nDipika Damerla: 125<br>\nStephen Dasko: 52<br>\nCarolyn Parrish: 251<br>\nAlvin Tedjo: 201<br>\nWinner vote %: 36.97\n",
          "Winner: Dipika Damerla<br>\nTotal votes: 549<br>\nDipika Damerla: 162<br>\nStephen Dasko: 133<br>\nCarolyn Parrish: 103<br>\nAlvin Tedjo: 106<br>\nWinner vote %: 29.51\n",
          "Winner: Dipika Damerla<br>\nTotal votes: 738<br>\nDipika Damerla: 291<br>\nStephen Dasko: 146<br>\nCarolyn Parrish: 128<br>\nAlvin Tedjo: 106<br>\nWinner vote %: 39.43\n",
          "Winner: Stephen Dasko<br>\nTotal votes: 1194<br>\nDipika Damerla: 154<br>\nStephen Dasko: 697<br>\nCarolyn Parrish: 132<br>\nAlvin Tedjo: 170<br>\nWinner vote %: 58.38\n",
          "Winner: Alvin Tedjo<br>\nTotal votes: 3353<br>\nDipika Damerla: 551<br>\nStephen Dasko: 476<br>\nCarolyn Parrish: 904<br>\nAlvin Tedjo: 1084<br>\nWinner vote %: 32.33\n",
          "Winner: Carolyn Parrish<br>\nTotal votes: 803<br>\nDipika Damerla: 129<br>\nStephen Dasko: 109<br>\nCarolyn Parrish: 246<br>\nAlvin Tedjo: 230<br>\nWinner vote %: 30.64\n",
          "Winner: Alvin Tedjo<br>\nTotal votes: 916<br>\nDipika Damerla: 92<br>\nStephen Dasko: 132<br>\nCarolyn Parrish: 134<br>\nAlvin Tedjo: 512<br>\nWinner vote %: 55.90\n",
          "Winner: Alvin Tedjo<br>\nTotal votes: 976<br>\nDipika Damerla: 193<br>\nStephen Dasko: 110<br>\nCarolyn Parrish: 277<br>\nAlvin Tedjo: 322<br>\nWinner vote %: 32.99\n",
          "Winner: Stephen Dasko<br>\nTotal votes: 624<br>\nDipika Damerla: 98<br>\nStephen Dasko: 241<br>\nCarolyn Parrish: 100<br>\nAlvin Tedjo: 165<br>\nWinner vote %: 38.62\n",
          "Winner: Carolyn Parrish<br>\nTotal votes: 1012<br>\nDipika Damerla: 166<br>\nStephen Dasko: 122<br>\nCarolyn Parrish: 372<br>\nAlvin Tedjo: 267<br>\nWinner vote %: 36.76\n",
          "Winner: Dipika Damerla<br>\nTotal votes: 662<br>\nDipika Damerla: 223<br>\nStephen Dasko: 147<br>\nCarolyn Parrish: 142<br>\nAlvin Tedjo: 101<br>\nWinner vote %: 33.69\n",
          "Winner: Alvin Tedjo<br>\nTotal votes: 994<br>\nDipika Damerla: 174<br>\nStephen Dasko: 122<br>\nCarolyn Parrish: 276<br>\nAlvin Tedjo: 363<br>\nWinner vote %: 36.52\n",
          "Winner: Carolyn Parrish<br>\nTotal votes: 594<br>\nDipika Damerla: 138<br>\nStephen Dasko: 64<br>\nCarolyn Parrish: 202<br>\nAlvin Tedjo: 154<br>\nWinner vote %: 34.01\n",
          "Winner: Alvin Tedjo<br>\nTotal votes: 796<br>\nDipika Damerla: 121<br>\nStephen Dasko: 73<br>\nCarolyn Parrish: 252<br>\nAlvin Tedjo: 272<br>\nWinner vote %: 34.17\n",
          "Winner: Carolyn Parrish<br>\nTotal votes: 1004<br>\nDipika Damerla: 172<br>\nStephen Dasko: 247<br>\nCarolyn Parrish: 303<br>\nAlvin Tedjo: 176<br>\nWinner vote %: 30.18\n",
          "Winner: Carolyn Parrish<br>\nTotal votes: 1113<br>\nDipika Damerla: 177<br>\nStephen Dasko: 78<br>\nCarolyn Parrish: 460<br>\nAlvin Tedjo: 303<br>\nWinner vote %: 41.33\n",
          "Winner: Carolyn Parrish<br>\nTotal votes: 638<br>\nDipika Damerla: 127<br>\nStephen Dasko: 58<br>\nCarolyn Parrish: 210<br>\nAlvin Tedjo: 194<br>\nWinner vote %: 32.92\n",
          "Winner: Alvin Tedjo<br>\nTotal votes: 635<br>\nDipika Damerla: 168<br>\nStephen Dasko: 66<br>\nCarolyn Parrish: 172<br>\nAlvin Tedjo: 185<br>\nWinner vote %: 29.13\n",
          "Winner: Carolyn Parrish<br>\nTotal votes: 1068<br>\nDipika Damerla: 177<br>\nStephen Dasko: 137<br>\nCarolyn Parrish: 380<br>\nAlvin Tedjo: 272<br>\nWinner vote %: 35.58\n",
          "Winner: Alvin Tedjo<br>\nTotal votes: 1578<br>\nDipika Damerla: 226<br>\nStephen Dasko: 343<br>\nCarolyn Parrish: 397<br>\nAlvin Tedjo: 516<br>\nWinner vote %: 32.70\n",
          "Winner: Alvin Tedjo<br>\nTotal votes: 1234<br>\nDipika Damerla: 204<br>\nStephen Dasko: 182<br>\nCarolyn Parrish: 333<br>\nAlvin Tedjo: 421<br>\nWinner vote %: 34.12\n",
          "Winner: Alvin Tedjo<br>\nTotal votes: 1221<br>\nDipika Damerla: 180<br>\nStephen Dasko: 152<br>\nCarolyn Parrish: 372<br>\nAlvin Tedjo: 416<br>\nWinner vote %: 34.07\n",
          "Winner: Alvin Tedjo<br>\nTotal votes: 688<br>\nDipika Damerla: 73<br>\nStephen Dasko: 81<br>\nCarolyn Parrish: 178<br>\nAlvin Tedjo: 295<br>\nWinner vote %: 42.88\n",
          "Winner: Carolyn Parrish<br>\nTotal votes: 736<br>\nDipika Damerla: 104<br>\nStephen Dasko: 94<br>\nCarolyn Parrish: 273<br>\nAlvin Tedjo: 211<br>\nWinner vote %: 37.09\n",
          "Winner: Alvin Tedjo<br>\nTotal votes: 259<br>\nDipika Damerla: 30<br>\nStephen Dasko: 70<br>\nCarolyn Parrish: 46<br>\nAlvin Tedjo: 83<br>\nWinner vote %: 32.05\n",
          "Winner: Carolyn Parrish<br>\nTotal votes: 841<br>\nDipika Damerla: 150<br>\nStephen Dasko: 71<br>\nCarolyn Parrish: 327<br>\nAlvin Tedjo: 226<br>\nWinner vote %: 38.88\n",
          "Winner: Carolyn Parrish<br>\nTotal votes: 779<br>\nDipika Damerla: 128<br>\nStephen Dasko: 52<br>\nCarolyn Parrish: 357<br>\nAlvin Tedjo: 156<br>\nWinner vote %: 45.83\n",
          "Winner: Alvin Tedjo<br>\nTotal votes: 850<br>\nDipika Damerla: 109<br>\nStephen Dasko: 162<br>\nCarolyn Parrish: 207<br>\nAlvin Tedjo: 296<br>\nWinner vote %: 34.82\n",
          "Winner: Alvin Tedjo<br>\nTotal votes: 1237<br>\nDipika Damerla: 255<br>\nStephen Dasko: 260<br>\nCarolyn Parrish: 276<br>\nAlvin Tedjo: 377<br>\nWinner vote %: 30.48\n",
          "Winner: Carolyn Parrish<br>\nTotal votes: 1171<br>\nDipika Damerla: 233<br>\nStephen Dasko: 131<br>\nCarolyn Parrish: 442<br>\nAlvin Tedjo: 253<br>\nWinner vote %: 37.75\n",
          "Winner: Carolyn Parrish<br>\nTotal votes: 954<br>\nDipika Damerla: 256<br>\nStephen Dasko: 109<br>\nCarolyn Parrish: 283<br>\nAlvin Tedjo: 225<br>\nWinner vote %: 29.66\n",
          "Winner: Carolyn Parrish<br>\nTotal votes: 338<br>\nDipika Damerla: 47<br>\nStephen Dasko: 12<br>\nCarolyn Parrish: 183<br>\nAlvin Tedjo: 43<br>\nWinner vote %: 54.14\n",
          "Winner: Alvin Tedjo<br>\nTotal votes: 789<br>\nDipika Damerla: 129<br>\nStephen Dasko: 84<br>\nCarolyn Parrish: 177<br>\nAlvin Tedjo: 325<br>\nWinner vote %: 41.19\n",
          "Winner: Carolyn Parrish<br>\nTotal votes: 548<br>\nDipika Damerla: 76<br>\nStephen Dasko: 101<br>\nCarolyn Parrish: 167<br>\nAlvin Tedjo: 137<br>\nWinner vote %: 30.47\n",
          "Winner: Alvin Tedjo<br>\nTotal votes: 1215<br>\nDipika Damerla: 208<br>\nStephen Dasko: 94<br>\nCarolyn Parrish: 400<br>\nAlvin Tedjo: 416<br>\nWinner vote %: 34.24\n",
          "Winner: Dipika Damerla<br>\nTotal votes: 896<br>\nDipika Damerla: 281<br>\nStephen Dasko: 166<br>\nCarolyn Parrish: 213<br>\nAlvin Tedjo: 127<br>\nWinner vote %: 31.36\n",
          "Winner: Carolyn Parrish<br>\nTotal votes: 557<br>\nDipika Damerla: 148<br>\nStephen Dasko: 120<br>\nCarolyn Parrish: 159<br>\nAlvin Tedjo: 88<br>\nWinner vote %: 28.55\n",
          "Winner: Carolyn Parrish<br>\nTotal votes: 1173<br>\nDipika Damerla: 174<br>\nStephen Dasko: 77<br>\nCarolyn Parrish: 465<br>\nAlvin Tedjo: 363<br>\nWinner vote %: 39.64\n",
          "Winner: Carolyn Parrish<br>\nTotal votes: 997<br>\nDipika Damerla: 188<br>\nStephen Dasko: 118<br>\nCarolyn Parrish: 354<br>\nAlvin Tedjo: 272<br>\nWinner vote %: 35.51\n",
          "Winner: Alvin Tedjo<br>\nTotal votes: 979<br>\nDipika Damerla: 206<br>\nStephen Dasko: 129<br>\nCarolyn Parrish: 257<br>\nAlvin Tedjo: 306<br>\nWinner vote %: 31.26\n",
          "Winner: Carolyn Parrish<br>\nTotal votes: 1082<br>\nDipika Damerla: 282<br>\nStephen Dasko: 250<br>\nCarolyn Parrish: 292<br>\nAlvin Tedjo: 201<br>\nWinner vote %: 26.99\n",
          "Winner: Alvin Tedjo<br>\nTotal votes: 539<br>\nDipika Damerla: 115<br>\nStephen Dasko: 64<br>\nCarolyn Parrish: 154<br>\nAlvin Tedjo: 162<br>\nWinner vote %: 30.06\n",
          "Winner: Dipika Damerla<br>\nTotal votes: 538<br>\nDipika Damerla: 174<br>\nStephen Dasko: 44<br>\nCarolyn Parrish: 124<br>\nAlvin Tedjo: 155<br>\nWinner vote %: 32.34\n",
          "Winner: Carolyn Parrish<br>\nTotal votes: 887<br>\nDipika Damerla: 170<br>\nStephen Dasko: 127<br>\nCarolyn Parrish: 263<br>\nAlvin Tedjo: 250<br>\nWinner vote %: 29.65\n",
          "Winner: Stephen Dasko<br>\nTotal votes: 1178<br>\nDipika Damerla: 106<br>\nStephen Dasko: 726<br>\nCarolyn Parrish: 118<br>\nAlvin Tedjo: 184<br>\nWinner vote %: 61.63\n",
          "Winner: Carolyn Parrish<br>\nTotal votes: 1363<br>\nDipika Damerla: 258<br>\nStephen Dasko: 77<br>\nCarolyn Parrish: 483<br>\nAlvin Tedjo: 438<br>\nWinner vote %: 35.44\n",
          "Winner: Carolyn Parrish<br>\nTotal votes: 761<br>\nDipika Damerla: 157<br>\nStephen Dasko: 58<br>\nCarolyn Parrish: 323<br>\nAlvin Tedjo: 162<br>\nWinner vote %: 42.44\n"
         ],
         "type": "scattermapbox"
        }
       ],
       "layout": {
        "height": 500,
        "mapbox": {
         "accesstoken": "pk.eyJ1IjoianNyZWlkMTMiLCJhIjoiY2x4bmgycWl3MDQxMDJpb3BnMjZuc2gxNiJ9.9YCaMvvZIOLrsZBRPdqMQw",
         "bearing": 0,
         "center": {
          "lat": 43.6014499,
          "lon": -79.6750527
         },
         "pitch": 0,
         "zoom": 9
        },
        "margin": {
         "b": 20,
         "l": 170,
         "r": 20,
         "t": 150
        },
        "template": {
         "data": {
          "bar": [
           {
            "error_x": {
             "color": "#2a3f5f"
            },
            "error_y": {
             "color": "#2a3f5f"
            },
            "marker": {
             "line": {
              "color": "#E5ECF6",
              "width": 0.5
             },
             "pattern": {
              "fillmode": "overlay",
              "size": 10,
              "solidity": 0.2
             }
            },
            "type": "bar"
           }
          ],
          "barpolar": [
           {
            "marker": {
             "line": {
              "color": "#E5ECF6",
              "width": 0.5
             },
             "pattern": {
              "fillmode": "overlay",
              "size": 10,
              "solidity": 0.2
             }
            },
            "type": "barpolar"
           }
          ],
          "carpet": [
           {
            "aaxis": {
             "endlinecolor": "#2a3f5f",
             "gridcolor": "white",
             "linecolor": "white",
             "minorgridcolor": "white",
             "startlinecolor": "#2a3f5f"
            },
            "baxis": {
             "endlinecolor": "#2a3f5f",
             "gridcolor": "white",
             "linecolor": "white",
             "minorgridcolor": "white",
             "startlinecolor": "#2a3f5f"
            },
            "type": "carpet"
           }
          ],
          "choropleth": [
           {
            "colorbar": {
             "outlinewidth": 0,
             "ticks": ""
            },
            "type": "choropleth"
           }
          ],
          "contour": [
           {
            "colorbar": {
             "outlinewidth": 0,
             "ticks": ""
            },
            "colorscale": [
             [
              0,
              "#0d0887"
             ],
             [
              0.1111111111111111,
              "#46039f"
             ],
             [
              0.2222222222222222,
              "#7201a8"
             ],
             [
              0.3333333333333333,
              "#9c179e"
             ],
             [
              0.4444444444444444,
              "#bd3786"
             ],
             [
              0.5555555555555556,
              "#d8576b"
             ],
             [
              0.6666666666666666,
              "#ed7953"
             ],
             [
              0.7777777777777778,
              "#fb9f3a"
             ],
             [
              0.8888888888888888,
              "#fdca26"
             ],
             [
              1,
              "#f0f921"
             ]
            ],
            "type": "contour"
           }
          ],
          "contourcarpet": [
           {
            "colorbar": {
             "outlinewidth": 0,
             "ticks": ""
            },
            "type": "contourcarpet"
           }
          ],
          "heatmap": [
           {
            "colorbar": {
             "outlinewidth": 0,
             "ticks": ""
            },
            "colorscale": [
             [
              0,
              "#0d0887"
             ],
             [
              0.1111111111111111,
              "#46039f"
             ],
             [
              0.2222222222222222,
              "#7201a8"
             ],
             [
              0.3333333333333333,
              "#9c179e"
             ],
             [
              0.4444444444444444,
              "#bd3786"
             ],
             [
              0.5555555555555556,
              "#d8576b"
             ],
             [
              0.6666666666666666,
              "#ed7953"
             ],
             [
              0.7777777777777778,
              "#fb9f3a"
             ],
             [
              0.8888888888888888,
              "#fdca26"
             ],
             [
              1,
              "#f0f921"
             ]
            ],
            "type": "heatmap"
           }
          ],
          "heatmapgl": [
           {
            "colorbar": {
             "outlinewidth": 0,
             "ticks": ""
            },
            "colorscale": [
             [
              0,
              "#0d0887"
             ],
             [
              0.1111111111111111,
              "#46039f"
             ],
             [
              0.2222222222222222,
              "#7201a8"
             ],
             [
              0.3333333333333333,
              "#9c179e"
             ],
             [
              0.4444444444444444,
              "#bd3786"
             ],
             [
              0.5555555555555556,
              "#d8576b"
             ],
             [
              0.6666666666666666,
              "#ed7953"
             ],
             [
              0.7777777777777778,
              "#fb9f3a"
             ],
             [
              0.8888888888888888,
              "#fdca26"
             ],
             [
              1,
              "#f0f921"
             ]
            ],
            "type": "heatmapgl"
           }
          ],
          "histogram": [
           {
            "marker": {
             "pattern": {
              "fillmode": "overlay",
              "size": 10,
              "solidity": 0.2
             }
            },
            "type": "histogram"
           }
          ],
          "histogram2d": [
           {
            "colorbar": {
             "outlinewidth": 0,
             "ticks": ""
            },
            "colorscale": [
             [
              0,
              "#0d0887"
             ],
             [
              0.1111111111111111,
              "#46039f"
             ],
             [
              0.2222222222222222,
              "#7201a8"
             ],
             [
              0.3333333333333333,
              "#9c179e"
             ],
             [
              0.4444444444444444,
              "#bd3786"
             ],
             [
              0.5555555555555556,
              "#d8576b"
             ],
             [
              0.6666666666666666,
              "#ed7953"
             ],
             [
              0.7777777777777778,
              "#fb9f3a"
             ],
             [
              0.8888888888888888,
              "#fdca26"
             ],
             [
              1,
              "#f0f921"
             ]
            ],
            "type": "histogram2d"
           }
          ],
          "histogram2dcontour": [
           {
            "colorbar": {
             "outlinewidth": 0,
             "ticks": ""
            },
            "colorscale": [
             [
              0,
              "#0d0887"
             ],
             [
              0.1111111111111111,
              "#46039f"
             ],
             [
              0.2222222222222222,
              "#7201a8"
             ],
             [
              0.3333333333333333,
              "#9c179e"
             ],
             [
              0.4444444444444444,
              "#bd3786"
             ],
             [
              0.5555555555555556,
              "#d8576b"
             ],
             [
              0.6666666666666666,
              "#ed7953"
             ],
             [
              0.7777777777777778,
              "#fb9f3a"
             ],
             [
              0.8888888888888888,
              "#fdca26"
             ],
             [
              1,
              "#f0f921"
             ]
            ],
            "type": "histogram2dcontour"
           }
          ],
          "mesh3d": [
           {
            "colorbar": {
             "outlinewidth": 0,
             "ticks": ""
            },
            "type": "mesh3d"
           }
          ],
          "parcoords": [
           {
            "line": {
             "colorbar": {
              "outlinewidth": 0,
              "ticks": ""
             }
            },
            "type": "parcoords"
           }
          ],
          "pie": [
           {
            "automargin": true,
            "type": "pie"
           }
          ],
          "scatter": [
           {
            "fillpattern": {
             "fillmode": "overlay",
             "size": 10,
             "solidity": 0.2
            },
            "type": "scatter"
           }
          ],
          "scatter3d": [
           {
            "line": {
             "colorbar": {
              "outlinewidth": 0,
              "ticks": ""
             }
            },
            "marker": {
             "colorbar": {
              "outlinewidth": 0,
              "ticks": ""
             }
            },
            "type": "scatter3d"
           }
          ],
          "scattercarpet": [
           {
            "marker": {
             "colorbar": {
              "outlinewidth": 0,
              "ticks": ""
             }
            },
            "type": "scattercarpet"
           }
          ],
          "scattergeo": [
           {
            "marker": {
             "colorbar": {
              "outlinewidth": 0,
              "ticks": ""
             }
            },
            "type": "scattergeo"
           }
          ],
          "scattergl": [
           {
            "marker": {
             "colorbar": {
              "outlinewidth": 0,
              "ticks": ""
             }
            },
            "type": "scattergl"
           }
          ],
          "scattermapbox": [
           {
            "marker": {
             "colorbar": {
              "outlinewidth": 0,
              "ticks": ""
             }
            },
            "type": "scattermapbox"
           }
          ],
          "scatterpolar": [
           {
            "marker": {
             "colorbar": {
              "outlinewidth": 0,
              "ticks": ""
             }
            },
            "type": "scatterpolar"
           }
          ],
          "scatterpolargl": [
           {
            "marker": {
             "colorbar": {
              "outlinewidth": 0,
              "ticks": ""
             }
            },
            "type": "scatterpolargl"
           }
          ],
          "scatterternary": [
           {
            "marker": {
             "colorbar": {
              "outlinewidth": 0,
              "ticks": ""
             }
            },
            "type": "scatterternary"
           }
          ],
          "surface": [
           {
            "colorbar": {
             "outlinewidth": 0,
             "ticks": ""
            },
            "colorscale": [
             [
              0,
              "#0d0887"
             ],
             [
              0.1111111111111111,
              "#46039f"
             ],
             [
              0.2222222222222222,
              "#7201a8"
             ],
             [
              0.3333333333333333,
              "#9c179e"
             ],
             [
              0.4444444444444444,
              "#bd3786"
             ],
             [
              0.5555555555555556,
              "#d8576b"
             ],
             [
              0.6666666666666666,
              "#ed7953"
             ],
             [
              0.7777777777777778,
              "#fb9f3a"
             ],
             [
              0.8888888888888888,
              "#fdca26"
             ],
             [
              1,
              "#f0f921"
             ]
            ],
            "type": "surface"
           }
          ],
          "table": [
           {
            "cells": {
             "fill": {
              "color": "#EBF0F8"
             },
             "line": {
              "color": "white"
             }
            },
            "header": {
             "fill": {
              "color": "#C8D4E3"
             },
             "line": {
              "color": "white"
             }
            },
            "type": "table"
           }
          ]
         },
         "layout": {
          "annotationdefaults": {
           "arrowcolor": "#2a3f5f",
           "arrowhead": 0,
           "arrowwidth": 1
          },
          "autotypenumbers": "strict",
          "coloraxis": {
           "colorbar": {
            "outlinewidth": 0,
            "ticks": ""
           }
          },
          "colorscale": {
           "diverging": [
            [
             0,
             "#8e0152"
            ],
            [
             0.1,
             "#c51b7d"
            ],
            [
             0.2,
             "#de77ae"
            ],
            [
             0.3,
             "#f1b6da"
            ],
            [
             0.4,
             "#fde0ef"
            ],
            [
             0.5,
             "#f7f7f7"
            ],
            [
             0.6,
             "#e6f5d0"
            ],
            [
             0.7,
             "#b8e186"
            ],
            [
             0.8,
             "#7fbc41"
            ],
            [
             0.9,
             "#4d9221"
            ],
            [
             1,
             "#276419"
            ]
           ],
           "sequential": [
            [
             0,
             "#0d0887"
            ],
            [
             0.1111111111111111,
             "#46039f"
            ],
            [
             0.2222222222222222,
             "#7201a8"
            ],
            [
             0.3333333333333333,
             "#9c179e"
            ],
            [
             0.4444444444444444,
             "#bd3786"
            ],
            [
             0.5555555555555556,
             "#d8576b"
            ],
            [
             0.6666666666666666,
             "#ed7953"
            ],
            [
             0.7777777777777778,
             "#fb9f3a"
            ],
            [
             0.8888888888888888,
             "#fdca26"
            ],
            [
             1,
             "#f0f921"
            ]
           ],
           "sequentialminus": [
            [
             0,
             "#0d0887"
            ],
            [
             0.1111111111111111,
             "#46039f"
            ],
            [
             0.2222222222222222,
             "#7201a8"
            ],
            [
             0.3333333333333333,
             "#9c179e"
            ],
            [
             0.4444444444444444,
             "#bd3786"
            ],
            [
             0.5555555555555556,
             "#d8576b"
            ],
            [
             0.6666666666666666,
             "#ed7953"
            ],
            [
             0.7777777777777778,
             "#fb9f3a"
            ],
            [
             0.8888888888888888,
             "#fdca26"
            ],
            [
             1,
             "#f0f921"
            ]
           ]
          },
          "colorway": [
           "#636efa",
           "#EF553B",
           "#00cc96",
           "#ab63fa",
           "#FFA15A",
           "#19d3f3",
           "#FF6692",
           "#B6E880",
           "#FF97FF",
           "#FECB52"
          ],
          "font": {
           "color": "#2a3f5f"
          },
          "geo": {
           "bgcolor": "white",
           "lakecolor": "white",
           "landcolor": "#E5ECF6",
           "showlakes": true,
           "showland": true,
           "subunitcolor": "white"
          },
          "hoverlabel": {
           "align": "left"
          },
          "hovermode": "closest",
          "mapbox": {
           "style": "light"
          },
          "paper_bgcolor": "white",
          "plot_bgcolor": "#E5ECF6",
          "polar": {
           "angularaxis": {
            "gridcolor": "white",
            "linecolor": "white",
            "ticks": ""
           },
           "bgcolor": "#E5ECF6",
           "radialaxis": {
            "gridcolor": "white",
            "linecolor": "white",
            "ticks": ""
           }
          },
          "scene": {
           "xaxis": {
            "backgroundcolor": "#E5ECF6",
            "gridcolor": "white",
            "gridwidth": 2,
            "linecolor": "white",
            "showbackground": true,
            "ticks": "",
            "zerolinecolor": "white"
           },
           "yaxis": {
            "backgroundcolor": "#E5ECF6",
            "gridcolor": "white",
            "gridwidth": 2,
            "linecolor": "white",
            "showbackground": true,
            "ticks": "",
            "zerolinecolor": "white"
           },
           "zaxis": {
            "backgroundcolor": "#E5ECF6",
            "gridcolor": "white",
            "gridwidth": 2,
            "linecolor": "white",
            "showbackground": true,
            "ticks": "",
            "zerolinecolor": "white"
           }
          },
          "shapedefaults": {
           "line": {
            "color": "#2a3f5f"
           }
          },
          "ternary": {
           "aaxis": {
            "gridcolor": "white",
            "linecolor": "white",
            "ticks": ""
           },
           "baxis": {
            "gridcolor": "white",
            "linecolor": "white",
            "ticks": ""
           },
           "bgcolor": "#E5ECF6",
           "caxis": {
            "gridcolor": "white",
            "linecolor": "white",
            "ticks": ""
           }
          },
          "title": {
           "x": 0.05
          },
          "xaxis": {
           "automargin": true,
           "gridcolor": "white",
           "linecolor": "white",
           "ticks": "",
           "title": {
            "standoff": 15
           },
           "zerolinecolor": "white",
           "zerolinewidth": 2
          },
          "yaxis": {
           "automargin": true,
           "gridcolor": "white",
           "linecolor": "white",
           "ticks": "",
           "title": {
            "standoff": 15
           },
           "zerolinecolor": "white",
           "zerolinewidth": 2
          }
         }
        },
        "title": {
         "text": "<b>2024 Mississauga By-Election Polling Results</b> <br>Bubble size shows how many votes Alvin got at that station.<br>Bubble transparency shows how much of the vote the winning<br>candidate got (darker = higher % for winning candidate)<br><br><b>Legend</b><br><span style=\"color: gold;\">Dipika Damerla</span><br><span style=\"color: blue;\">Stephen Dasko</span><br><span style=\"color: red;\">Carolyn Parrish</span><br><span style=\"color: green;\">Alvin Tedjo</span><br>"
        },
        "width": 600
       }
      }
     },
     "metadata": {},
     "output_type": "display_data"
    }
   ],
   "source": [
    "winner_colours_rgb = {\n",
    "    \"Dipika Damerla\": \"rgba(255, 215, 0, \",\n",
    "    \"Stephen Dasko\": \"rgba(0, 0, 255, \",\n",
    "    \"Carolyn Parrish\": \"rgba(255, 0, 0, \",\n",
    "    \"Alvin Tedjo\": \"rgba(0, 128, 0, \"\n",
    "}\n",
    "\n",
    "fig4 = go.Figure(data=go.Scattermapbox(\n",
    "        lon = df_go_non_rr['longitude'],\n",
    "        lat = df_go_non_rr['latitude'],\n",
    "        text = df_go_non_rr[\"hover_text\"],\n",
    "        mode = 'markers',\n",
    "        marker_color = df_go_non_rr['marker_color'],\n",
    "        marker_size = df_go_non_rr['alvin_marker_size'],\n",
    "        ))\n",
    "fig4.update_layout(\n",
    "        title_text = \"<b>2024 Mississauga By-Election Polling Results</b> <br>\" +\n",
    "        \"Bubble size shows how many votes Alvin got at that station.<br>\" +\n",
    "        \"Bubble transparency shows how much of the vote the winning<br>\" +\n",
    "        \"candidate got (darker = higher % for winning candidate)<br><br>\" +\n",
    "        \"<b>Legend</b><br>\" +\n",
    "        '<span style=\"color: gold;\">Dipika Damerla</span><br>' +\n",
    "        '<span style=\"color: blue;\">Stephen Dasko</span><br>' +\n",
    "        '<span style=\"color: red;\">Carolyn Parrish</span><br>' +\n",
    "        '<span style=\"color: green;\">Alvin Tedjo</span><br>',\n",
    "        width = 600,\n",
    "        height = 500,\n",
    "        mapbox=dict(\n",
    "                accesstoken=mapbox_access_token,\n",
    "                bearing=0,\n",
    "                center=go.layout.mapbox.Center(\n",
    "                lat=43.6014499,\n",
    "                lon=-79.6750527\n",
    "                ),\n",
    "                pitch=0,\n",
    "                zoom=9\n",
    "        ),\n",
    "        margin={\"r\": 20, \"t\": 150, \"l\": 170, \"b\": 20})\n",
    "fig4.show()"
   ]
  },
  {
   "cell_type": "code",
   "execution_count": 98,
   "metadata": {},
   "outputs": [],
   "source": [
    "fig4.write_html(\"html/alvin_votes.html\")"
   ]
  },
  {
   "cell_type": "code",
   "execution_count": null,
   "metadata": {},
   "outputs": [],
   "source": []
  }
 ],
 "metadata": {
  "kernelspec": {
   "display_name": "Python 3",
   "language": "python",
   "name": "python3"
  },
  "language_info": {
   "codemirror_mode": {
    "name": "ipython",
    "version": 3
   },
   "file_extension": ".py",
   "mimetype": "text/x-python",
   "name": "python",
   "nbconvert_exporter": "python",
   "pygments_lexer": "ipython3",
   "version": "3.9.16"
  }
 },
 "nbformat": 4,
 "nbformat_minor": 2
}
